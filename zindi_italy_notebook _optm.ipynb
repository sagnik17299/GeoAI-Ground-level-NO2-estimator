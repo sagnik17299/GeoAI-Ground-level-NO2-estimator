{
  "cells": [
    {
      "cell_type": "code",
      "execution_count": 2,
      "id": "0rT1dhtq3NK5",
      "metadata": {
        "colab": {
          "base_uri": "https://localhost:8080/"
        },
        "id": "0rT1dhtq3NK5",
        "outputId": "6450c512-f442-4c97-93b8-c01564ab584b"
      },
      "outputs": [
        {
          "output_type": "stream",
          "name": "stdout",
          "text": [
            "Collecting optuna\n",
            "  Downloading optuna-3.6.1-py3-none-any.whl (380 kB)\n",
            "\u001b[2K     \u001b[90m━━━━━━━━━━━━━━━━━━━━━━━━━━━━━━━━━━━━━━━━\u001b[0m \u001b[32m380.1/380.1 kB\u001b[0m \u001b[31m4.8 MB/s\u001b[0m eta \u001b[36m0:00:00\u001b[0m\n",
            "\u001b[?25hCollecting alembic>=1.5.0 (from optuna)\n",
            "  Downloading alembic-1.13.2-py3-none-any.whl (232 kB)\n",
            "\u001b[2K     \u001b[90m━━━━━━━━━━━━━━━━━━━━━━━━━━━━━━━━━━━━━━━━\u001b[0m \u001b[32m233.0/233.0 kB\u001b[0m \u001b[31m7.2 MB/s\u001b[0m eta \u001b[36m0:00:00\u001b[0m\n",
            "\u001b[?25hCollecting colorlog (from optuna)\n",
            "  Downloading colorlog-6.8.2-py3-none-any.whl (11 kB)\n",
            "Requirement already satisfied: numpy in /usr/local/lib/python3.10/dist-packages (from optuna) (1.25.2)\n",
            "Requirement already satisfied: packaging>=20.0 in /usr/local/lib/python3.10/dist-packages (from optuna) (24.1)\n",
            "Requirement already satisfied: sqlalchemy>=1.3.0 in /usr/local/lib/python3.10/dist-packages (from optuna) (2.0.31)\n",
            "Requirement already satisfied: tqdm in /usr/local/lib/python3.10/dist-packages (from optuna) (4.66.4)\n",
            "Requirement already satisfied: PyYAML in /usr/local/lib/python3.10/dist-packages (from optuna) (6.0.1)\n",
            "Collecting Mako (from alembic>=1.5.0->optuna)\n",
            "  Downloading Mako-1.3.5-py3-none-any.whl (78 kB)\n",
            "\u001b[2K     \u001b[90m━━━━━━━━━━━━━━━━━━━━━━━━━━━━━━━━━━━━━━━━\u001b[0m \u001b[32m78.6/78.6 kB\u001b[0m \u001b[31m6.5 MB/s\u001b[0m eta \u001b[36m0:00:00\u001b[0m\n",
            "\u001b[?25hRequirement already satisfied: typing-extensions>=4 in /usr/local/lib/python3.10/dist-packages (from alembic>=1.5.0->optuna) (4.12.2)\n",
            "Requirement already satisfied: greenlet!=0.4.17 in /usr/local/lib/python3.10/dist-packages (from sqlalchemy>=1.3.0->optuna) (3.0.3)\n",
            "Requirement already satisfied: MarkupSafe>=0.9.2 in /usr/local/lib/python3.10/dist-packages (from Mako->alembic>=1.5.0->optuna) (2.1.5)\n",
            "Installing collected packages: Mako, colorlog, alembic, optuna\n",
            "Successfully installed Mako-1.3.5 alembic-1.13.2 colorlog-6.8.2 optuna-3.6.1\n"
          ]
        }
      ],
      "source": [
        "!pip install optuna"
      ]
    },
    {
      "cell_type": "code",
      "execution_count": 3,
      "id": "e4d987ed-4de4-4b2f-bf04-f6d3d23d5438",
      "metadata": {
        "id": "e4d987ed-4de4-4b2f-bf04-f6d3d23d5438"
      },
      "outputs": [],
      "source": [
        "import pandas as pd\n",
        "import numpy as np\n",
        "import matplotlib.pyplot as plt\n",
        "import seaborn as sns\n",
        "import sklearn as skl\n",
        "import xgboost as xgb\n",
        "from xgboost import XGBRegressor\n",
        "from sklearn.metrics import mean_squared_error,r2_score\n",
        "import optuna\n",
        "from sklearn import linear_model\n",
        "from sklearn.impute import KNNImputer\n",
        "import warnings\n",
        "warnings.filterwarnings('ignore')"
      ]
    },
    {
      "cell_type": "code",
      "execution_count": 158,
      "id": "b0146535-4f19-4655-be2c-8c9a58b7bb3d",
      "metadata": {
        "id": "b0146535-4f19-4655-be2c-8c9a58b7bb3d"
      },
      "outputs": [],
      "source": [
        "train_df = pd.read_csv(\"/content/Train.csv\")"
      ]
    },
    {
      "cell_type": "code",
      "execution_count": 159,
      "id": "6aa6da81-eefd-4b04-bf28-ade4246f1f14",
      "metadata": {
        "colab": {
          "base_uri": "https://localhost:8080/"
        },
        "id": "6aa6da81-eefd-4b04-bf28-ade4246f1f14",
        "outputId": "1c59f729-8076-44a8-d5e8-032ba217705f"
      },
      "outputs": [
        {
          "output_type": "execute_result",
          "data": {
            "text/plain": [
              "(86584, 14)"
            ]
          },
          "metadata": {},
          "execution_count": 159
        }
      ],
      "source": [
        "train_df.shape"
      ]
    },
    {
      "cell_type": "code",
      "execution_count": 160,
      "id": "60258aee-fac3-4b09-b30f-8406dcd3b4c7",
      "metadata": {
        "colab": {
          "base_uri": "https://localhost:8080/",
          "height": 226
        },
        "id": "60258aee-fac3-4b09-b30f-8406dcd3b4c7",
        "outputId": "def65cfc-066c-4637-fda6-30a3d61374b1"
      },
      "outputs": [
        {
          "output_type": "execute_result",
          "data": {
            "text/plain": [
              "    ID_Zindi    Date    ID        LAT        LON  Precipitation  LST  \\\n",
              "0  ID_ENTGC7  1/1/19  PD01  45.601585  11.903551       0.000000  NaN   \n",
              "1  ID_8JCCXC  1/1/19  PD04  45.371005  11.840830       3.047342  NaN   \n",
              "2  ID_V3136Z  1/1/19  RO01  45.045825  12.060869       0.000000  NaN   \n",
              "3  ID_KRVZDJ  1/1/19  RO02  45.104075  11.553241       1.200467  NaN   \n",
              "4  ID_PR351A  1/1/19  RO03  45.038758  11.790152       1.274564  NaN   \n",
              "\n",
              "        AAI  CloudFraction  NO2_strat  NO2_total  NO2_trop  \\\n",
              "0  0.230527       0.559117   0.000024   0.000117       NaN   \n",
              "1 -0.074006       0.869309   0.000024   0.000127       NaN   \n",
              "2  0.024470       0.674160   0.000024   0.000086       NaN   \n",
              "3 -0.010442       0.920054   0.000024   0.000124       NaN   \n",
              "4 -0.176178       0.747464   0.000024   0.000116       NaN   \n",
              "\n",
              "   TropopausePressure  GT_NO2  \n",
              "0         14440.82126    31.0  \n",
              "1         14441.79815    42.0  \n",
              "2         14437.38294    31.0  \n",
              "3         14440.83831    30.0  \n",
              "4         14438.79037    58.0  "
            ],
            "text/html": [
              "\n",
              "  <div id=\"df-2d3a905c-baa1-4316-b28d-d1459dd7c229\" class=\"colab-df-container\">\n",
              "    <div>\n",
              "<style scoped>\n",
              "    .dataframe tbody tr th:only-of-type {\n",
              "        vertical-align: middle;\n",
              "    }\n",
              "\n",
              "    .dataframe tbody tr th {\n",
              "        vertical-align: top;\n",
              "    }\n",
              "\n",
              "    .dataframe thead th {\n",
              "        text-align: right;\n",
              "    }\n",
              "</style>\n",
              "<table border=\"1\" class=\"dataframe\">\n",
              "  <thead>\n",
              "    <tr style=\"text-align: right;\">\n",
              "      <th></th>\n",
              "      <th>ID_Zindi</th>\n",
              "      <th>Date</th>\n",
              "      <th>ID</th>\n",
              "      <th>LAT</th>\n",
              "      <th>LON</th>\n",
              "      <th>Precipitation</th>\n",
              "      <th>LST</th>\n",
              "      <th>AAI</th>\n",
              "      <th>CloudFraction</th>\n",
              "      <th>NO2_strat</th>\n",
              "      <th>NO2_total</th>\n",
              "      <th>NO2_trop</th>\n",
              "      <th>TropopausePressure</th>\n",
              "      <th>GT_NO2</th>\n",
              "    </tr>\n",
              "  </thead>\n",
              "  <tbody>\n",
              "    <tr>\n",
              "      <th>0</th>\n",
              "      <td>ID_ENTGC7</td>\n",
              "      <td>1/1/19</td>\n",
              "      <td>PD01</td>\n",
              "      <td>45.601585</td>\n",
              "      <td>11.903551</td>\n",
              "      <td>0.000000</td>\n",
              "      <td>NaN</td>\n",
              "      <td>0.230527</td>\n",
              "      <td>0.559117</td>\n",
              "      <td>0.000024</td>\n",
              "      <td>0.000117</td>\n",
              "      <td>NaN</td>\n",
              "      <td>14440.82126</td>\n",
              "      <td>31.0</td>\n",
              "    </tr>\n",
              "    <tr>\n",
              "      <th>1</th>\n",
              "      <td>ID_8JCCXC</td>\n",
              "      <td>1/1/19</td>\n",
              "      <td>PD04</td>\n",
              "      <td>45.371005</td>\n",
              "      <td>11.840830</td>\n",
              "      <td>3.047342</td>\n",
              "      <td>NaN</td>\n",
              "      <td>-0.074006</td>\n",
              "      <td>0.869309</td>\n",
              "      <td>0.000024</td>\n",
              "      <td>0.000127</td>\n",
              "      <td>NaN</td>\n",
              "      <td>14441.79815</td>\n",
              "      <td>42.0</td>\n",
              "    </tr>\n",
              "    <tr>\n",
              "      <th>2</th>\n",
              "      <td>ID_V3136Z</td>\n",
              "      <td>1/1/19</td>\n",
              "      <td>RO01</td>\n",
              "      <td>45.045825</td>\n",
              "      <td>12.060869</td>\n",
              "      <td>0.000000</td>\n",
              "      <td>NaN</td>\n",
              "      <td>0.024470</td>\n",
              "      <td>0.674160</td>\n",
              "      <td>0.000024</td>\n",
              "      <td>0.000086</td>\n",
              "      <td>NaN</td>\n",
              "      <td>14437.38294</td>\n",
              "      <td>31.0</td>\n",
              "    </tr>\n",
              "    <tr>\n",
              "      <th>3</th>\n",
              "      <td>ID_KRVZDJ</td>\n",
              "      <td>1/1/19</td>\n",
              "      <td>RO02</td>\n",
              "      <td>45.104075</td>\n",
              "      <td>11.553241</td>\n",
              "      <td>1.200467</td>\n",
              "      <td>NaN</td>\n",
              "      <td>-0.010442</td>\n",
              "      <td>0.920054</td>\n",
              "      <td>0.000024</td>\n",
              "      <td>0.000124</td>\n",
              "      <td>NaN</td>\n",
              "      <td>14440.83831</td>\n",
              "      <td>30.0</td>\n",
              "    </tr>\n",
              "    <tr>\n",
              "      <th>4</th>\n",
              "      <td>ID_PR351A</td>\n",
              "      <td>1/1/19</td>\n",
              "      <td>RO03</td>\n",
              "      <td>45.038758</td>\n",
              "      <td>11.790152</td>\n",
              "      <td>1.274564</td>\n",
              "      <td>NaN</td>\n",
              "      <td>-0.176178</td>\n",
              "      <td>0.747464</td>\n",
              "      <td>0.000024</td>\n",
              "      <td>0.000116</td>\n",
              "      <td>NaN</td>\n",
              "      <td>14438.79037</td>\n",
              "      <td>58.0</td>\n",
              "    </tr>\n",
              "  </tbody>\n",
              "</table>\n",
              "</div>\n",
              "    <div class=\"colab-df-buttons\">\n",
              "\n",
              "  <div class=\"colab-df-container\">\n",
              "    <button class=\"colab-df-convert\" onclick=\"convertToInteractive('df-2d3a905c-baa1-4316-b28d-d1459dd7c229')\"\n",
              "            title=\"Convert this dataframe to an interactive table.\"\n",
              "            style=\"display:none;\">\n",
              "\n",
              "  <svg xmlns=\"http://www.w3.org/2000/svg\" height=\"24px\" viewBox=\"0 -960 960 960\">\n",
              "    <path d=\"M120-120v-720h720v720H120Zm60-500h600v-160H180v160Zm220 220h160v-160H400v160Zm0 220h160v-160H400v160ZM180-400h160v-160H180v160Zm440 0h160v-160H620v160ZM180-180h160v-160H180v160Zm440 0h160v-160H620v160Z\"/>\n",
              "  </svg>\n",
              "    </button>\n",
              "\n",
              "  <style>\n",
              "    .colab-df-container {\n",
              "      display:flex;\n",
              "      gap: 12px;\n",
              "    }\n",
              "\n",
              "    .colab-df-convert {\n",
              "      background-color: #E8F0FE;\n",
              "      border: none;\n",
              "      border-radius: 50%;\n",
              "      cursor: pointer;\n",
              "      display: none;\n",
              "      fill: #1967D2;\n",
              "      height: 32px;\n",
              "      padding: 0 0 0 0;\n",
              "      width: 32px;\n",
              "    }\n",
              "\n",
              "    .colab-df-convert:hover {\n",
              "      background-color: #E2EBFA;\n",
              "      box-shadow: 0px 1px 2px rgba(60, 64, 67, 0.3), 0px 1px 3px 1px rgba(60, 64, 67, 0.15);\n",
              "      fill: #174EA6;\n",
              "    }\n",
              "\n",
              "    .colab-df-buttons div {\n",
              "      margin-bottom: 4px;\n",
              "    }\n",
              "\n",
              "    [theme=dark] .colab-df-convert {\n",
              "      background-color: #3B4455;\n",
              "      fill: #D2E3FC;\n",
              "    }\n",
              "\n",
              "    [theme=dark] .colab-df-convert:hover {\n",
              "      background-color: #434B5C;\n",
              "      box-shadow: 0px 1px 3px 1px rgba(0, 0, 0, 0.15);\n",
              "      filter: drop-shadow(0px 1px 2px rgba(0, 0, 0, 0.3));\n",
              "      fill: #FFFFFF;\n",
              "    }\n",
              "  </style>\n",
              "\n",
              "    <script>\n",
              "      const buttonEl =\n",
              "        document.querySelector('#df-2d3a905c-baa1-4316-b28d-d1459dd7c229 button.colab-df-convert');\n",
              "      buttonEl.style.display =\n",
              "        google.colab.kernel.accessAllowed ? 'block' : 'none';\n",
              "\n",
              "      async function convertToInteractive(key) {\n",
              "        const element = document.querySelector('#df-2d3a905c-baa1-4316-b28d-d1459dd7c229');\n",
              "        const dataTable =\n",
              "          await google.colab.kernel.invokeFunction('convertToInteractive',\n",
              "                                                    [key], {});\n",
              "        if (!dataTable) return;\n",
              "\n",
              "        const docLinkHtml = 'Like what you see? Visit the ' +\n",
              "          '<a target=\"_blank\" href=https://colab.research.google.com/notebooks/data_table.ipynb>data table notebook</a>'\n",
              "          + ' to learn more about interactive tables.';\n",
              "        element.innerHTML = '';\n",
              "        dataTable['output_type'] = 'display_data';\n",
              "        await google.colab.output.renderOutput(dataTable, element);\n",
              "        const docLink = document.createElement('div');\n",
              "        docLink.innerHTML = docLinkHtml;\n",
              "        element.appendChild(docLink);\n",
              "      }\n",
              "    </script>\n",
              "  </div>\n",
              "\n",
              "\n",
              "<div id=\"df-2a7cdaa3-1c0f-4cb2-88d0-4e0e3e6ebe0a\">\n",
              "  <button class=\"colab-df-quickchart\" onclick=\"quickchart('df-2a7cdaa3-1c0f-4cb2-88d0-4e0e3e6ebe0a')\"\n",
              "            title=\"Suggest charts\"\n",
              "            style=\"display:none;\">\n",
              "\n",
              "<svg xmlns=\"http://www.w3.org/2000/svg\" height=\"24px\"viewBox=\"0 0 24 24\"\n",
              "     width=\"24px\">\n",
              "    <g>\n",
              "        <path d=\"M19 3H5c-1.1 0-2 .9-2 2v14c0 1.1.9 2 2 2h14c1.1 0 2-.9 2-2V5c0-1.1-.9-2-2-2zM9 17H7v-7h2v7zm4 0h-2V7h2v10zm4 0h-2v-4h2v4z\"/>\n",
              "    </g>\n",
              "</svg>\n",
              "  </button>\n",
              "\n",
              "<style>\n",
              "  .colab-df-quickchart {\n",
              "      --bg-color: #E8F0FE;\n",
              "      --fill-color: #1967D2;\n",
              "      --hover-bg-color: #E2EBFA;\n",
              "      --hover-fill-color: #174EA6;\n",
              "      --disabled-fill-color: #AAA;\n",
              "      --disabled-bg-color: #DDD;\n",
              "  }\n",
              "\n",
              "  [theme=dark] .colab-df-quickchart {\n",
              "      --bg-color: #3B4455;\n",
              "      --fill-color: #D2E3FC;\n",
              "      --hover-bg-color: #434B5C;\n",
              "      --hover-fill-color: #FFFFFF;\n",
              "      --disabled-bg-color: #3B4455;\n",
              "      --disabled-fill-color: #666;\n",
              "  }\n",
              "\n",
              "  .colab-df-quickchart {\n",
              "    background-color: var(--bg-color);\n",
              "    border: none;\n",
              "    border-radius: 50%;\n",
              "    cursor: pointer;\n",
              "    display: none;\n",
              "    fill: var(--fill-color);\n",
              "    height: 32px;\n",
              "    padding: 0;\n",
              "    width: 32px;\n",
              "  }\n",
              "\n",
              "  .colab-df-quickchart:hover {\n",
              "    background-color: var(--hover-bg-color);\n",
              "    box-shadow: 0 1px 2px rgba(60, 64, 67, 0.3), 0 1px 3px 1px rgba(60, 64, 67, 0.15);\n",
              "    fill: var(--button-hover-fill-color);\n",
              "  }\n",
              "\n",
              "  .colab-df-quickchart-complete:disabled,\n",
              "  .colab-df-quickchart-complete:disabled:hover {\n",
              "    background-color: var(--disabled-bg-color);\n",
              "    fill: var(--disabled-fill-color);\n",
              "    box-shadow: none;\n",
              "  }\n",
              "\n",
              "  .colab-df-spinner {\n",
              "    border: 2px solid var(--fill-color);\n",
              "    border-color: transparent;\n",
              "    border-bottom-color: var(--fill-color);\n",
              "    animation:\n",
              "      spin 1s steps(1) infinite;\n",
              "  }\n",
              "\n",
              "  @keyframes spin {\n",
              "    0% {\n",
              "      border-color: transparent;\n",
              "      border-bottom-color: var(--fill-color);\n",
              "      border-left-color: var(--fill-color);\n",
              "    }\n",
              "    20% {\n",
              "      border-color: transparent;\n",
              "      border-left-color: var(--fill-color);\n",
              "      border-top-color: var(--fill-color);\n",
              "    }\n",
              "    30% {\n",
              "      border-color: transparent;\n",
              "      border-left-color: var(--fill-color);\n",
              "      border-top-color: var(--fill-color);\n",
              "      border-right-color: var(--fill-color);\n",
              "    }\n",
              "    40% {\n",
              "      border-color: transparent;\n",
              "      border-right-color: var(--fill-color);\n",
              "      border-top-color: var(--fill-color);\n",
              "    }\n",
              "    60% {\n",
              "      border-color: transparent;\n",
              "      border-right-color: var(--fill-color);\n",
              "    }\n",
              "    80% {\n",
              "      border-color: transparent;\n",
              "      border-right-color: var(--fill-color);\n",
              "      border-bottom-color: var(--fill-color);\n",
              "    }\n",
              "    90% {\n",
              "      border-color: transparent;\n",
              "      border-bottom-color: var(--fill-color);\n",
              "    }\n",
              "  }\n",
              "</style>\n",
              "\n",
              "  <script>\n",
              "    async function quickchart(key) {\n",
              "      const quickchartButtonEl =\n",
              "        document.querySelector('#' + key + ' button');\n",
              "      quickchartButtonEl.disabled = true;  // To prevent multiple clicks.\n",
              "      quickchartButtonEl.classList.add('colab-df-spinner');\n",
              "      try {\n",
              "        const charts = await google.colab.kernel.invokeFunction(\n",
              "            'suggestCharts', [key], {});\n",
              "      } catch (error) {\n",
              "        console.error('Error during call to suggestCharts:', error);\n",
              "      }\n",
              "      quickchartButtonEl.classList.remove('colab-df-spinner');\n",
              "      quickchartButtonEl.classList.add('colab-df-quickchart-complete');\n",
              "    }\n",
              "    (() => {\n",
              "      let quickchartButtonEl =\n",
              "        document.querySelector('#df-2a7cdaa3-1c0f-4cb2-88d0-4e0e3e6ebe0a button');\n",
              "      quickchartButtonEl.style.display =\n",
              "        google.colab.kernel.accessAllowed ? 'block' : 'none';\n",
              "    })();\n",
              "  </script>\n",
              "</div>\n",
              "\n",
              "    </div>\n",
              "  </div>\n"
            ],
            "application/vnd.google.colaboratory.intrinsic+json": {
              "type": "dataframe",
              "variable_name": "train_df",
              "summary": "{\n  \"name\": \"train_df\",\n  \"rows\": 86584,\n  \"fields\": [\n    {\n      \"column\": \"ID_Zindi\",\n      \"properties\": {\n        \"dtype\": \"string\",\n        \"num_unique_values\": 86582,\n        \"samples\": [\n          \"ID_O43NNB\",\n          \"ID_1A54O3\",\n          \"ID_HGK193\"\n        ],\n        \"semantic_type\": \"\",\n        \"description\": \"\"\n      }\n    },\n    {\n      \"column\": \"Date\",\n      \"properties\": {\n        \"dtype\": \"object\",\n        \"num_unique_values\": 1096,\n        \"samples\": [\n          \"14-02-19\",\n          \"22-07-20\",\n          \"26-02-19\"\n        ],\n        \"semantic_type\": \"\",\n        \"description\": \"\"\n      }\n    },\n    {\n      \"column\": \"ID\",\n      \"properties\": {\n        \"dtype\": \"category\",\n        \"num_unique_values\": 79,\n        \"samples\": [\n          \"X20495\",\n          \"PD01\",\n          \"X10331\"\n        ],\n        \"semantic_type\": \"\",\n        \"description\": \"\"\n      }\n    },\n    {\n      \"column\": \"LAT\",\n      \"properties\": {\n        \"dtype\": \"number\",\n        \"std\": 0.22540949566498233,\n        \"min\": 44.92469405,\n        \"max\": 45.88973369,\n        \"num_unique_values\": 79,\n        \"samples\": [\n          45.54264789,\n          45.60158469,\n          45.30360787\n        ],\n        \"semantic_type\": \"\",\n        \"description\": \"\"\n      }\n    },\n    {\n      \"column\": \"LON\",\n      \"properties\": {\n        \"dtype\": \"number\",\n        \"std\": 1.0566370652665111,\n        \"min\": 8.736496578,\n        \"max\": 12.59068235,\n        \"num_unique_values\": 79,\n        \"samples\": [\n          10.21120522,\n          11.90355081,\n          8.84480461\n        ],\n        \"semantic_type\": \"\",\n        \"description\": \"\"\n      }\n    },\n    {\n      \"column\": \"Precipitation\",\n      \"properties\": {\n        \"dtype\": \"number\",\n        \"std\": 7.617394210893272,\n        \"min\": 0.0,\n        \"max\": 135.3968048,\n        \"num_unique_values\": 14264,\n        \"samples\": [\n          1.445254445,\n          0.426165134,\n          24.66330719\n        ],\n        \"semantic_type\": \"\",\n        \"description\": \"\"\n      }\n    },\n    {\n      \"column\": \"LST\",\n      \"properties\": {\n        \"dtype\": \"number\",\n        \"std\": 10.927167026201285,\n        \"min\": 253.2,\n        \"max\": 327.84,\n        \"num_unique_values\": 2512,\n        \"samples\": [\n          319.54,\n          283.78,\n          313.44\n        ],\n        \"semantic_type\": \"\",\n        \"description\": \"\"\n      }\n    },\n    {\n      \"column\": \"AAI\",\n      \"properties\": {\n        \"dtype\": \"number\",\n        \"std\": 0.6930034270112517,\n        \"min\": -5.196266174,\n        \"max\": 2.143020488,\n        \"num_unique_values\": 71468,\n        \"samples\": [\n          -0.936523914,\n          -1.589291513,\n          -1.895350169\n        ],\n        \"semantic_type\": \"\",\n        \"description\": \"\"\n      }\n    },\n    {\n      \"column\": \"CloudFraction\",\n      \"properties\": {\n        \"dtype\": \"number\",\n        \"std\": 0.2596072297555296,\n        \"min\": 0.0,\n        \"max\": 1.000000044,\n        \"num_unique_values\": 63408,\n        \"samples\": [\n          0.013924718,\n          0.132335317,\n          0.014970849\n        ],\n        \"semantic_type\": \"\",\n        \"description\": \"\"\n      }\n    },\n    {\n      \"column\": \"NO2_strat\",\n      \"properties\": {\n        \"dtype\": \"number\",\n        \"std\": 1.2366779511654359e-05,\n        \"min\": 1.34e-05,\n        \"max\": 7.28e-05,\n        \"num_unique_values\": 573,\n        \"samples\": [\n          7.28e-05,\n          2.13e-05,\n          2.49e-05\n        ],\n        \"semantic_type\": \"\",\n        \"description\": \"\"\n      }\n    },\n    {\n      \"column\": \"NO2_total\",\n      \"properties\": {\n        \"dtype\": \"number\",\n        \"std\": 0.0001026549719999202,\n        \"min\": -1.19e-05,\n        \"max\": 0.002047452,\n        \"num_unique_values\": 1439,\n        \"samples\": [\n          8.98e-05,\n          6.86e-05,\n          0.000622\n        ],\n        \"semantic_type\": \"\",\n        \"description\": \"\"\n      }\n    },\n    {\n      \"column\": \"NO2_trop\",\n      \"properties\": {\n        \"dtype\": \"number\",\n        \"std\": 9.2019982794371e-05,\n        \"min\": -2.53e-05,\n        \"max\": 0.001097291,\n        \"num_unique_values\": 1516,\n        \"samples\": [\n          0.000112,\n          0.000269,\n          2.68e-06\n        ],\n        \"semantic_type\": \"\",\n        \"description\": \"\"\n      }\n    },\n    {\n      \"column\": \"TropopausePressure\",\n      \"properties\": {\n        \"dtype\": \"number\",\n        \"std\": 3000.7487904879167,\n        \"min\": 8614.349685,\n        \"max\": 24449.00715,\n        \"num_unique_values\": 70688,\n        \"samples\": [\n          16726.05925,\n          22121.75846,\n          24362.01282\n        ],\n        \"semantic_type\": \"\",\n        \"description\": \"\"\n      }\n    },\n    {\n      \"column\": \"GT_NO2\",\n      \"properties\": {\n        \"dtype\": \"number\",\n        \"std\": 17.108838032389585,\n        \"min\": 0.0,\n        \"max\": 188.2333333,\n        \"num_unique_values\": 4245,\n        \"samples\": [\n          33.46666667,\n          15.35,\n          35.95\n        ],\n        \"semantic_type\": \"\",\n        \"description\": \"\"\n      }\n    }\n  ]\n}"
            }
          },
          "metadata": {},
          "execution_count": 160
        }
      ],
      "source": [
        "train_df.head(5)"
      ]
    },
    {
      "cell_type": "code",
      "execution_count": 161,
      "id": "eacb04d4-d60a-4ed4-9d8f-e8dbbf360e8b",
      "metadata": {
        "colab": {
          "base_uri": "https://localhost:8080/"
        },
        "id": "eacb04d4-d60a-4ed4-9d8f-e8dbbf360e8b",
        "outputId": "5fe32bfa-f0be-4a9c-9923-62d93de4a2c0"
      },
      "outputs": [
        {
          "output_type": "execute_result",
          "data": {
            "text/plain": [
              "array(['1/1/19', '2/1/19', '3/1/19', ..., '29-12-21', '30-12-21',\n",
              "       '31-12-21'], dtype=object)"
            ]
          },
          "metadata": {},
          "execution_count": 161
        }
      ],
      "source": [
        "train_df['Date'].unique()"
      ]
    },
    {
      "cell_type": "code",
      "execution_count": 162,
      "id": "adb5632b-3272-4de1-acc3-fa886e7cc628",
      "metadata": {
        "id": "adb5632b-3272-4de1-acc3-fa886e7cc628"
      },
      "outputs": [],
      "source": [
        "train_df['Date'] = pd.to_datetime(train_df['Date'], errors='coerce')"
      ]
    },
    {
      "cell_type": "code",
      "execution_count": 163,
      "id": "bfc260a7-25b0-4c11-8d9e-c043250a1c75",
      "metadata": {
        "colab": {
          "base_uri": "https://localhost:8080/",
          "height": 313
        },
        "id": "bfc260a7-25b0-4c11-8d9e-c043250a1c75",
        "outputId": "030db885-3d12-4de9-804b-500ec2e3e2f7"
      },
      "outputs": [
        {
          "output_type": "execute_result",
          "data": {
            "text/plain": [
              "    ID_Zindi       Date    ID        LAT        LON  Precipitation  LST  \\\n",
              "0  ID_ENTGC7 2019-01-01  PD01  45.601585  11.903551       0.000000  NaN   \n",
              "1  ID_8JCCXC 2019-01-01  PD04  45.371005  11.840830       3.047342  NaN   \n",
              "2  ID_V3136Z 2019-01-01  RO01  45.045825  12.060869       0.000000  NaN   \n",
              "3  ID_KRVZDJ 2019-01-01  RO02  45.104075  11.553241       1.200467  NaN   \n",
              "4  ID_PR351A 2019-01-01  RO03  45.038758  11.790152       1.274564  NaN   \n",
              "\n",
              "        AAI  CloudFraction  NO2_strat  NO2_total  NO2_trop  \\\n",
              "0  0.230527       0.559117   0.000024   0.000117       NaN   \n",
              "1 -0.074006       0.869309   0.000024   0.000127       NaN   \n",
              "2  0.024470       0.674160   0.000024   0.000086       NaN   \n",
              "3 -0.010442       0.920054   0.000024   0.000124       NaN   \n",
              "4 -0.176178       0.747464   0.000024   0.000116       NaN   \n",
              "\n",
              "   TropopausePressure  GT_NO2  \n",
              "0         14440.82126    31.0  \n",
              "1         14441.79815    42.0  \n",
              "2         14437.38294    31.0  \n",
              "3         14440.83831    30.0  \n",
              "4         14438.79037    58.0  "
            ],
            "text/html": [
              "\n",
              "  <div id=\"df-1eab768c-0659-4082-b4c3-e2c741b51a1a\" class=\"colab-df-container\">\n",
              "    <div>\n",
              "<style scoped>\n",
              "    .dataframe tbody tr th:only-of-type {\n",
              "        vertical-align: middle;\n",
              "    }\n",
              "\n",
              "    .dataframe tbody tr th {\n",
              "        vertical-align: top;\n",
              "    }\n",
              "\n",
              "    .dataframe thead th {\n",
              "        text-align: right;\n",
              "    }\n",
              "</style>\n",
              "<table border=\"1\" class=\"dataframe\">\n",
              "  <thead>\n",
              "    <tr style=\"text-align: right;\">\n",
              "      <th></th>\n",
              "      <th>ID_Zindi</th>\n",
              "      <th>Date</th>\n",
              "      <th>ID</th>\n",
              "      <th>LAT</th>\n",
              "      <th>LON</th>\n",
              "      <th>Precipitation</th>\n",
              "      <th>LST</th>\n",
              "      <th>AAI</th>\n",
              "      <th>CloudFraction</th>\n",
              "      <th>NO2_strat</th>\n",
              "      <th>NO2_total</th>\n",
              "      <th>NO2_trop</th>\n",
              "      <th>TropopausePressure</th>\n",
              "      <th>GT_NO2</th>\n",
              "    </tr>\n",
              "  </thead>\n",
              "  <tbody>\n",
              "    <tr>\n",
              "      <th>0</th>\n",
              "      <td>ID_ENTGC7</td>\n",
              "      <td>2019-01-01</td>\n",
              "      <td>PD01</td>\n",
              "      <td>45.601585</td>\n",
              "      <td>11.903551</td>\n",
              "      <td>0.000000</td>\n",
              "      <td>NaN</td>\n",
              "      <td>0.230527</td>\n",
              "      <td>0.559117</td>\n",
              "      <td>0.000024</td>\n",
              "      <td>0.000117</td>\n",
              "      <td>NaN</td>\n",
              "      <td>14440.82126</td>\n",
              "      <td>31.0</td>\n",
              "    </tr>\n",
              "    <tr>\n",
              "      <th>1</th>\n",
              "      <td>ID_8JCCXC</td>\n",
              "      <td>2019-01-01</td>\n",
              "      <td>PD04</td>\n",
              "      <td>45.371005</td>\n",
              "      <td>11.840830</td>\n",
              "      <td>3.047342</td>\n",
              "      <td>NaN</td>\n",
              "      <td>-0.074006</td>\n",
              "      <td>0.869309</td>\n",
              "      <td>0.000024</td>\n",
              "      <td>0.000127</td>\n",
              "      <td>NaN</td>\n",
              "      <td>14441.79815</td>\n",
              "      <td>42.0</td>\n",
              "    </tr>\n",
              "    <tr>\n",
              "      <th>2</th>\n",
              "      <td>ID_V3136Z</td>\n",
              "      <td>2019-01-01</td>\n",
              "      <td>RO01</td>\n",
              "      <td>45.045825</td>\n",
              "      <td>12.060869</td>\n",
              "      <td>0.000000</td>\n",
              "      <td>NaN</td>\n",
              "      <td>0.024470</td>\n",
              "      <td>0.674160</td>\n",
              "      <td>0.000024</td>\n",
              "      <td>0.000086</td>\n",
              "      <td>NaN</td>\n",
              "      <td>14437.38294</td>\n",
              "      <td>31.0</td>\n",
              "    </tr>\n",
              "    <tr>\n",
              "      <th>3</th>\n",
              "      <td>ID_KRVZDJ</td>\n",
              "      <td>2019-01-01</td>\n",
              "      <td>RO02</td>\n",
              "      <td>45.104075</td>\n",
              "      <td>11.553241</td>\n",
              "      <td>1.200467</td>\n",
              "      <td>NaN</td>\n",
              "      <td>-0.010442</td>\n",
              "      <td>0.920054</td>\n",
              "      <td>0.000024</td>\n",
              "      <td>0.000124</td>\n",
              "      <td>NaN</td>\n",
              "      <td>14440.83831</td>\n",
              "      <td>30.0</td>\n",
              "    </tr>\n",
              "    <tr>\n",
              "      <th>4</th>\n",
              "      <td>ID_PR351A</td>\n",
              "      <td>2019-01-01</td>\n",
              "      <td>RO03</td>\n",
              "      <td>45.038758</td>\n",
              "      <td>11.790152</td>\n",
              "      <td>1.274564</td>\n",
              "      <td>NaN</td>\n",
              "      <td>-0.176178</td>\n",
              "      <td>0.747464</td>\n",
              "      <td>0.000024</td>\n",
              "      <td>0.000116</td>\n",
              "      <td>NaN</td>\n",
              "      <td>14438.79037</td>\n",
              "      <td>58.0</td>\n",
              "    </tr>\n",
              "  </tbody>\n",
              "</table>\n",
              "</div>\n",
              "    <div class=\"colab-df-buttons\">\n",
              "\n",
              "  <div class=\"colab-df-container\">\n",
              "    <button class=\"colab-df-convert\" onclick=\"convertToInteractive('df-1eab768c-0659-4082-b4c3-e2c741b51a1a')\"\n",
              "            title=\"Convert this dataframe to an interactive table.\"\n",
              "            style=\"display:none;\">\n",
              "\n",
              "  <svg xmlns=\"http://www.w3.org/2000/svg\" height=\"24px\" viewBox=\"0 -960 960 960\">\n",
              "    <path d=\"M120-120v-720h720v720H120Zm60-500h600v-160H180v160Zm220 220h160v-160H400v160Zm0 220h160v-160H400v160ZM180-400h160v-160H180v160Zm440 0h160v-160H620v160ZM180-180h160v-160H180v160Zm440 0h160v-160H620v160Z\"/>\n",
              "  </svg>\n",
              "    </button>\n",
              "\n",
              "  <style>\n",
              "    .colab-df-container {\n",
              "      display:flex;\n",
              "      gap: 12px;\n",
              "    }\n",
              "\n",
              "    .colab-df-convert {\n",
              "      background-color: #E8F0FE;\n",
              "      border: none;\n",
              "      border-radius: 50%;\n",
              "      cursor: pointer;\n",
              "      display: none;\n",
              "      fill: #1967D2;\n",
              "      height: 32px;\n",
              "      padding: 0 0 0 0;\n",
              "      width: 32px;\n",
              "    }\n",
              "\n",
              "    .colab-df-convert:hover {\n",
              "      background-color: #E2EBFA;\n",
              "      box-shadow: 0px 1px 2px rgba(60, 64, 67, 0.3), 0px 1px 3px 1px rgba(60, 64, 67, 0.15);\n",
              "      fill: #174EA6;\n",
              "    }\n",
              "\n",
              "    .colab-df-buttons div {\n",
              "      margin-bottom: 4px;\n",
              "    }\n",
              "\n",
              "    [theme=dark] .colab-df-convert {\n",
              "      background-color: #3B4455;\n",
              "      fill: #D2E3FC;\n",
              "    }\n",
              "\n",
              "    [theme=dark] .colab-df-convert:hover {\n",
              "      background-color: #434B5C;\n",
              "      box-shadow: 0px 1px 3px 1px rgba(0, 0, 0, 0.15);\n",
              "      filter: drop-shadow(0px 1px 2px rgba(0, 0, 0, 0.3));\n",
              "      fill: #FFFFFF;\n",
              "    }\n",
              "  </style>\n",
              "\n",
              "    <script>\n",
              "      const buttonEl =\n",
              "        document.querySelector('#df-1eab768c-0659-4082-b4c3-e2c741b51a1a button.colab-df-convert');\n",
              "      buttonEl.style.display =\n",
              "        google.colab.kernel.accessAllowed ? 'block' : 'none';\n",
              "\n",
              "      async function convertToInteractive(key) {\n",
              "        const element = document.querySelector('#df-1eab768c-0659-4082-b4c3-e2c741b51a1a');\n",
              "        const dataTable =\n",
              "          await google.colab.kernel.invokeFunction('convertToInteractive',\n",
              "                                                    [key], {});\n",
              "        if (!dataTable) return;\n",
              "\n",
              "        const docLinkHtml = 'Like what you see? Visit the ' +\n",
              "          '<a target=\"_blank\" href=https://colab.research.google.com/notebooks/data_table.ipynb>data table notebook</a>'\n",
              "          + ' to learn more about interactive tables.';\n",
              "        element.innerHTML = '';\n",
              "        dataTable['output_type'] = 'display_data';\n",
              "        await google.colab.output.renderOutput(dataTable, element);\n",
              "        const docLink = document.createElement('div');\n",
              "        docLink.innerHTML = docLinkHtml;\n",
              "        element.appendChild(docLink);\n",
              "      }\n",
              "    </script>\n",
              "  </div>\n",
              "\n",
              "\n",
              "<div id=\"df-727aa993-dd40-46ba-b603-028009e3d327\">\n",
              "  <button class=\"colab-df-quickchart\" onclick=\"quickchart('df-727aa993-dd40-46ba-b603-028009e3d327')\"\n",
              "            title=\"Suggest charts\"\n",
              "            style=\"display:none;\">\n",
              "\n",
              "<svg xmlns=\"http://www.w3.org/2000/svg\" height=\"24px\"viewBox=\"0 0 24 24\"\n",
              "     width=\"24px\">\n",
              "    <g>\n",
              "        <path d=\"M19 3H5c-1.1 0-2 .9-2 2v14c0 1.1.9 2 2 2h14c1.1 0 2-.9 2-2V5c0-1.1-.9-2-2-2zM9 17H7v-7h2v7zm4 0h-2V7h2v10zm4 0h-2v-4h2v4z\"/>\n",
              "    </g>\n",
              "</svg>\n",
              "  </button>\n",
              "\n",
              "<style>\n",
              "  .colab-df-quickchart {\n",
              "      --bg-color: #E8F0FE;\n",
              "      --fill-color: #1967D2;\n",
              "      --hover-bg-color: #E2EBFA;\n",
              "      --hover-fill-color: #174EA6;\n",
              "      --disabled-fill-color: #AAA;\n",
              "      --disabled-bg-color: #DDD;\n",
              "  }\n",
              "\n",
              "  [theme=dark] .colab-df-quickchart {\n",
              "      --bg-color: #3B4455;\n",
              "      --fill-color: #D2E3FC;\n",
              "      --hover-bg-color: #434B5C;\n",
              "      --hover-fill-color: #FFFFFF;\n",
              "      --disabled-bg-color: #3B4455;\n",
              "      --disabled-fill-color: #666;\n",
              "  }\n",
              "\n",
              "  .colab-df-quickchart {\n",
              "    background-color: var(--bg-color);\n",
              "    border: none;\n",
              "    border-radius: 50%;\n",
              "    cursor: pointer;\n",
              "    display: none;\n",
              "    fill: var(--fill-color);\n",
              "    height: 32px;\n",
              "    padding: 0;\n",
              "    width: 32px;\n",
              "  }\n",
              "\n",
              "  .colab-df-quickchart:hover {\n",
              "    background-color: var(--hover-bg-color);\n",
              "    box-shadow: 0 1px 2px rgba(60, 64, 67, 0.3), 0 1px 3px 1px rgba(60, 64, 67, 0.15);\n",
              "    fill: var(--button-hover-fill-color);\n",
              "  }\n",
              "\n",
              "  .colab-df-quickchart-complete:disabled,\n",
              "  .colab-df-quickchart-complete:disabled:hover {\n",
              "    background-color: var(--disabled-bg-color);\n",
              "    fill: var(--disabled-fill-color);\n",
              "    box-shadow: none;\n",
              "  }\n",
              "\n",
              "  .colab-df-spinner {\n",
              "    border: 2px solid var(--fill-color);\n",
              "    border-color: transparent;\n",
              "    border-bottom-color: var(--fill-color);\n",
              "    animation:\n",
              "      spin 1s steps(1) infinite;\n",
              "  }\n",
              "\n",
              "  @keyframes spin {\n",
              "    0% {\n",
              "      border-color: transparent;\n",
              "      border-bottom-color: var(--fill-color);\n",
              "      border-left-color: var(--fill-color);\n",
              "    }\n",
              "    20% {\n",
              "      border-color: transparent;\n",
              "      border-left-color: var(--fill-color);\n",
              "      border-top-color: var(--fill-color);\n",
              "    }\n",
              "    30% {\n",
              "      border-color: transparent;\n",
              "      border-left-color: var(--fill-color);\n",
              "      border-top-color: var(--fill-color);\n",
              "      border-right-color: var(--fill-color);\n",
              "    }\n",
              "    40% {\n",
              "      border-color: transparent;\n",
              "      border-right-color: var(--fill-color);\n",
              "      border-top-color: var(--fill-color);\n",
              "    }\n",
              "    60% {\n",
              "      border-color: transparent;\n",
              "      border-right-color: var(--fill-color);\n",
              "    }\n",
              "    80% {\n",
              "      border-color: transparent;\n",
              "      border-right-color: var(--fill-color);\n",
              "      border-bottom-color: var(--fill-color);\n",
              "    }\n",
              "    90% {\n",
              "      border-color: transparent;\n",
              "      border-bottom-color: var(--fill-color);\n",
              "    }\n",
              "  }\n",
              "</style>\n",
              "\n",
              "  <script>\n",
              "    async function quickchart(key) {\n",
              "      const quickchartButtonEl =\n",
              "        document.querySelector('#' + key + ' button');\n",
              "      quickchartButtonEl.disabled = true;  // To prevent multiple clicks.\n",
              "      quickchartButtonEl.classList.add('colab-df-spinner');\n",
              "      try {\n",
              "        const charts = await google.colab.kernel.invokeFunction(\n",
              "            'suggestCharts', [key], {});\n",
              "      } catch (error) {\n",
              "        console.error('Error during call to suggestCharts:', error);\n",
              "      }\n",
              "      quickchartButtonEl.classList.remove('colab-df-spinner');\n",
              "      quickchartButtonEl.classList.add('colab-df-quickchart-complete');\n",
              "    }\n",
              "    (() => {\n",
              "      let quickchartButtonEl =\n",
              "        document.querySelector('#df-727aa993-dd40-46ba-b603-028009e3d327 button');\n",
              "      quickchartButtonEl.style.display =\n",
              "        google.colab.kernel.accessAllowed ? 'block' : 'none';\n",
              "    })();\n",
              "  </script>\n",
              "</div>\n",
              "\n",
              "    </div>\n",
              "  </div>\n"
            ],
            "application/vnd.google.colaboratory.intrinsic+json": {
              "type": "dataframe",
              "variable_name": "train_df",
              "summary": "{\n  \"name\": \"train_df\",\n  \"rows\": 86584,\n  \"fields\": [\n    {\n      \"column\": \"ID_Zindi\",\n      \"properties\": {\n        \"dtype\": \"string\",\n        \"num_unique_values\": 86582,\n        \"samples\": [\n          \"ID_O43NNB\",\n          \"ID_1A54O3\",\n          \"ID_HGK193\"\n        ],\n        \"semantic_type\": \"\",\n        \"description\": \"\"\n      }\n    },\n    {\n      \"column\": \"Date\",\n      \"properties\": {\n        \"dtype\": \"date\",\n        \"min\": \"2019-01-01 00:00:00\",\n        \"max\": \"2021-12-31 00:00:00\",\n        \"num_unique_values\": 1096,\n        \"samples\": [\n          \"2019-02-14 00:00:00\",\n          \"2020-07-22 00:00:00\",\n          \"2019-02-26 00:00:00\"\n        ],\n        \"semantic_type\": \"\",\n        \"description\": \"\"\n      }\n    },\n    {\n      \"column\": \"ID\",\n      \"properties\": {\n        \"dtype\": \"category\",\n        \"num_unique_values\": 79,\n        \"samples\": [\n          \"X20495\",\n          \"PD01\",\n          \"X10331\"\n        ],\n        \"semantic_type\": \"\",\n        \"description\": \"\"\n      }\n    },\n    {\n      \"column\": \"LAT\",\n      \"properties\": {\n        \"dtype\": \"number\",\n        \"std\": 0.22540949566498233,\n        \"min\": 44.92469405,\n        \"max\": 45.88973369,\n        \"num_unique_values\": 79,\n        \"samples\": [\n          45.54264789,\n          45.60158469,\n          45.30360787\n        ],\n        \"semantic_type\": \"\",\n        \"description\": \"\"\n      }\n    },\n    {\n      \"column\": \"LON\",\n      \"properties\": {\n        \"dtype\": \"number\",\n        \"std\": 1.0566370652665111,\n        \"min\": 8.736496578,\n        \"max\": 12.59068235,\n        \"num_unique_values\": 79,\n        \"samples\": [\n          10.21120522,\n          11.90355081,\n          8.84480461\n        ],\n        \"semantic_type\": \"\",\n        \"description\": \"\"\n      }\n    },\n    {\n      \"column\": \"Precipitation\",\n      \"properties\": {\n        \"dtype\": \"number\",\n        \"std\": 7.617394210893272,\n        \"min\": 0.0,\n        \"max\": 135.3968048,\n        \"num_unique_values\": 14264,\n        \"samples\": [\n          1.445254445,\n          0.426165134,\n          24.66330719\n        ],\n        \"semantic_type\": \"\",\n        \"description\": \"\"\n      }\n    },\n    {\n      \"column\": \"LST\",\n      \"properties\": {\n        \"dtype\": \"number\",\n        \"std\": 10.927167026201285,\n        \"min\": 253.2,\n        \"max\": 327.84,\n        \"num_unique_values\": 2512,\n        \"samples\": [\n          319.54,\n          283.78,\n          313.44\n        ],\n        \"semantic_type\": \"\",\n        \"description\": \"\"\n      }\n    },\n    {\n      \"column\": \"AAI\",\n      \"properties\": {\n        \"dtype\": \"number\",\n        \"std\": 0.6930034270112517,\n        \"min\": -5.196266174,\n        \"max\": 2.143020488,\n        \"num_unique_values\": 71468,\n        \"samples\": [\n          -0.936523914,\n          -1.589291513,\n          -1.895350169\n        ],\n        \"semantic_type\": \"\",\n        \"description\": \"\"\n      }\n    },\n    {\n      \"column\": \"CloudFraction\",\n      \"properties\": {\n        \"dtype\": \"number\",\n        \"std\": 0.2596072297555296,\n        \"min\": 0.0,\n        \"max\": 1.000000044,\n        \"num_unique_values\": 63408,\n        \"samples\": [\n          0.013924718,\n          0.132335317,\n          0.014970849\n        ],\n        \"semantic_type\": \"\",\n        \"description\": \"\"\n      }\n    },\n    {\n      \"column\": \"NO2_strat\",\n      \"properties\": {\n        \"dtype\": \"number\",\n        \"std\": 1.2366779511654359e-05,\n        \"min\": 1.34e-05,\n        \"max\": 7.28e-05,\n        \"num_unique_values\": 573,\n        \"samples\": [\n          7.28e-05,\n          2.13e-05,\n          2.49e-05\n        ],\n        \"semantic_type\": \"\",\n        \"description\": \"\"\n      }\n    },\n    {\n      \"column\": \"NO2_total\",\n      \"properties\": {\n        \"dtype\": \"number\",\n        \"std\": 0.0001026549719999202,\n        \"min\": -1.19e-05,\n        \"max\": 0.002047452,\n        \"num_unique_values\": 1439,\n        \"samples\": [\n          8.98e-05,\n          6.86e-05,\n          0.000622\n        ],\n        \"semantic_type\": \"\",\n        \"description\": \"\"\n      }\n    },\n    {\n      \"column\": \"NO2_trop\",\n      \"properties\": {\n        \"dtype\": \"number\",\n        \"std\": 9.2019982794371e-05,\n        \"min\": -2.53e-05,\n        \"max\": 0.001097291,\n        \"num_unique_values\": 1516,\n        \"samples\": [\n          0.000112,\n          0.000269,\n          2.68e-06\n        ],\n        \"semantic_type\": \"\",\n        \"description\": \"\"\n      }\n    },\n    {\n      \"column\": \"TropopausePressure\",\n      \"properties\": {\n        \"dtype\": \"number\",\n        \"std\": 3000.7487904879167,\n        \"min\": 8614.349685,\n        \"max\": 24449.00715,\n        \"num_unique_values\": 70688,\n        \"samples\": [\n          16726.05925,\n          22121.75846,\n          24362.01282\n        ],\n        \"semantic_type\": \"\",\n        \"description\": \"\"\n      }\n    },\n    {\n      \"column\": \"GT_NO2\",\n      \"properties\": {\n        \"dtype\": \"number\",\n        \"std\": 17.108838032389585,\n        \"min\": 0.0,\n        \"max\": 188.2333333,\n        \"num_unique_values\": 4245,\n        \"samples\": [\n          33.46666667,\n          15.35,\n          35.95\n        ],\n        \"semantic_type\": \"\",\n        \"description\": \"\"\n      }\n    }\n  ]\n}"
            }
          },
          "metadata": {},
          "execution_count": 163
        }
      ],
      "source": [
        "train_df.head()"
      ]
    },
    {
      "cell_type": "code",
      "source": [
        "train_df.query('NO2_trop\t< 0')"
      ],
      "metadata": {
        "colab": {
          "base_uri": "https://localhost:8080/",
          "height": 361
        },
        "id": "uyCHMVHTg1YG",
        "outputId": "ffa9f89c-5169-4d1c-b9bd-ab08c99c77fe"
      },
      "id": "uyCHMVHTg1YG",
      "execution_count": 164,
      "outputs": [
        {
          "output_type": "execute_result",
          "data": {
            "text/plain": [
              "        ID_Zindi       Date      ID        LAT        LON  Precipitation  \\\n",
              "28411  ID_YRJGZ0 2019-12-26   X5591  45.716300  10.044766            0.0   \n",
              "59612  ID_M33NQO 2021-01-24   X5568  45.730837   9.125734            0.0   \n",
              "59642  ID_ECQDLF 2021-01-24   X9969  45.842207   9.351658            0.0   \n",
              "59658  ID_ZJB463 2021-01-25    VR02  45.182626  11.310511            0.0   \n",
              "71124  ID_4NYULE 2021-06-19  X10458  45.233494   9.666250            0.0   \n",
              "72382  ID_GA49D9 2021-05-07  X10097  45.046502  11.180936            0.0   \n",
              "\n",
              "          LST       AAI  CloudFraction  NO2_strat  NO2_total      NO2_trop  \\\n",
              "28411     NaN -1.120340       0.090115   0.000028   0.000024 -3.410000e-06   \n",
              "59612  279.66 -1.730232       0.159323   0.000031   0.000027 -3.790000e-06   \n",
              "59642     NaN -2.011505       0.158856   0.000031   0.000026 -5.060000e-06   \n",
              "59658     NaN -1.951611       0.248553   0.000029   0.000051 -2.530000e-05   \n",
              "71124     NaN -1.123964       0.286428   0.000059   0.000073 -3.650000e-07   \n",
              "72382     NaN -1.161608       0.022313   0.000063   0.000060 -3.120000e-06   \n",
              "\n",
              "       TropopausePressure  GT_NO2  \n",
              "28411         14416.17286   4.975  \n",
              "59612         22027.81204  11.650  \n",
              "59642         22006.63457   8.425  \n",
              "59658         19283.91055  35.000  \n",
              "71124         14435.95410   9.200  \n",
              "72382         14430.02613   5.175  "
            ],
            "text/html": [
              "\n",
              "  <div id=\"df-264abe7d-565a-48e4-b8e9-8c43c8186833\" class=\"colab-df-container\">\n",
              "    <div>\n",
              "<style scoped>\n",
              "    .dataframe tbody tr th:only-of-type {\n",
              "        vertical-align: middle;\n",
              "    }\n",
              "\n",
              "    .dataframe tbody tr th {\n",
              "        vertical-align: top;\n",
              "    }\n",
              "\n",
              "    .dataframe thead th {\n",
              "        text-align: right;\n",
              "    }\n",
              "</style>\n",
              "<table border=\"1\" class=\"dataframe\">\n",
              "  <thead>\n",
              "    <tr style=\"text-align: right;\">\n",
              "      <th></th>\n",
              "      <th>ID_Zindi</th>\n",
              "      <th>Date</th>\n",
              "      <th>ID</th>\n",
              "      <th>LAT</th>\n",
              "      <th>LON</th>\n",
              "      <th>Precipitation</th>\n",
              "      <th>LST</th>\n",
              "      <th>AAI</th>\n",
              "      <th>CloudFraction</th>\n",
              "      <th>NO2_strat</th>\n",
              "      <th>NO2_total</th>\n",
              "      <th>NO2_trop</th>\n",
              "      <th>TropopausePressure</th>\n",
              "      <th>GT_NO2</th>\n",
              "    </tr>\n",
              "  </thead>\n",
              "  <tbody>\n",
              "    <tr>\n",
              "      <th>28411</th>\n",
              "      <td>ID_YRJGZ0</td>\n",
              "      <td>2019-12-26</td>\n",
              "      <td>X5591</td>\n",
              "      <td>45.716300</td>\n",
              "      <td>10.044766</td>\n",
              "      <td>0.0</td>\n",
              "      <td>NaN</td>\n",
              "      <td>-1.120340</td>\n",
              "      <td>0.090115</td>\n",
              "      <td>0.000028</td>\n",
              "      <td>0.000024</td>\n",
              "      <td>-3.410000e-06</td>\n",
              "      <td>14416.17286</td>\n",
              "      <td>4.975</td>\n",
              "    </tr>\n",
              "    <tr>\n",
              "      <th>59612</th>\n",
              "      <td>ID_M33NQO</td>\n",
              "      <td>2021-01-24</td>\n",
              "      <td>X5568</td>\n",
              "      <td>45.730837</td>\n",
              "      <td>9.125734</td>\n",
              "      <td>0.0</td>\n",
              "      <td>279.66</td>\n",
              "      <td>-1.730232</td>\n",
              "      <td>0.159323</td>\n",
              "      <td>0.000031</td>\n",
              "      <td>0.000027</td>\n",
              "      <td>-3.790000e-06</td>\n",
              "      <td>22027.81204</td>\n",
              "      <td>11.650</td>\n",
              "    </tr>\n",
              "    <tr>\n",
              "      <th>59642</th>\n",
              "      <td>ID_ECQDLF</td>\n",
              "      <td>2021-01-24</td>\n",
              "      <td>X9969</td>\n",
              "      <td>45.842207</td>\n",
              "      <td>9.351658</td>\n",
              "      <td>0.0</td>\n",
              "      <td>NaN</td>\n",
              "      <td>-2.011505</td>\n",
              "      <td>0.158856</td>\n",
              "      <td>0.000031</td>\n",
              "      <td>0.000026</td>\n",
              "      <td>-5.060000e-06</td>\n",
              "      <td>22006.63457</td>\n",
              "      <td>8.425</td>\n",
              "    </tr>\n",
              "    <tr>\n",
              "      <th>59658</th>\n",
              "      <td>ID_ZJB463</td>\n",
              "      <td>2021-01-25</td>\n",
              "      <td>VR02</td>\n",
              "      <td>45.182626</td>\n",
              "      <td>11.310511</td>\n",
              "      <td>0.0</td>\n",
              "      <td>NaN</td>\n",
              "      <td>-1.951611</td>\n",
              "      <td>0.248553</td>\n",
              "      <td>0.000029</td>\n",
              "      <td>0.000051</td>\n",
              "      <td>-2.530000e-05</td>\n",
              "      <td>19283.91055</td>\n",
              "      <td>35.000</td>\n",
              "    </tr>\n",
              "    <tr>\n",
              "      <th>71124</th>\n",
              "      <td>ID_4NYULE</td>\n",
              "      <td>2021-06-19</td>\n",
              "      <td>X10458</td>\n",
              "      <td>45.233494</td>\n",
              "      <td>9.666250</td>\n",
              "      <td>0.0</td>\n",
              "      <td>NaN</td>\n",
              "      <td>-1.123964</td>\n",
              "      <td>0.286428</td>\n",
              "      <td>0.000059</td>\n",
              "      <td>0.000073</td>\n",
              "      <td>-3.650000e-07</td>\n",
              "      <td>14435.95410</td>\n",
              "      <td>9.200</td>\n",
              "    </tr>\n",
              "    <tr>\n",
              "      <th>72382</th>\n",
              "      <td>ID_GA49D9</td>\n",
              "      <td>2021-05-07</td>\n",
              "      <td>X10097</td>\n",
              "      <td>45.046502</td>\n",
              "      <td>11.180936</td>\n",
              "      <td>0.0</td>\n",
              "      <td>NaN</td>\n",
              "      <td>-1.161608</td>\n",
              "      <td>0.022313</td>\n",
              "      <td>0.000063</td>\n",
              "      <td>0.000060</td>\n",
              "      <td>-3.120000e-06</td>\n",
              "      <td>14430.02613</td>\n",
              "      <td>5.175</td>\n",
              "    </tr>\n",
              "  </tbody>\n",
              "</table>\n",
              "</div>\n",
              "    <div class=\"colab-df-buttons\">\n",
              "\n",
              "  <div class=\"colab-df-container\">\n",
              "    <button class=\"colab-df-convert\" onclick=\"convertToInteractive('df-264abe7d-565a-48e4-b8e9-8c43c8186833')\"\n",
              "            title=\"Convert this dataframe to an interactive table.\"\n",
              "            style=\"display:none;\">\n",
              "\n",
              "  <svg xmlns=\"http://www.w3.org/2000/svg\" height=\"24px\" viewBox=\"0 -960 960 960\">\n",
              "    <path d=\"M120-120v-720h720v720H120Zm60-500h600v-160H180v160Zm220 220h160v-160H400v160Zm0 220h160v-160H400v160ZM180-400h160v-160H180v160Zm440 0h160v-160H620v160ZM180-180h160v-160H180v160Zm440 0h160v-160H620v160Z\"/>\n",
              "  </svg>\n",
              "    </button>\n",
              "\n",
              "  <style>\n",
              "    .colab-df-container {\n",
              "      display:flex;\n",
              "      gap: 12px;\n",
              "    }\n",
              "\n",
              "    .colab-df-convert {\n",
              "      background-color: #E8F0FE;\n",
              "      border: none;\n",
              "      border-radius: 50%;\n",
              "      cursor: pointer;\n",
              "      display: none;\n",
              "      fill: #1967D2;\n",
              "      height: 32px;\n",
              "      padding: 0 0 0 0;\n",
              "      width: 32px;\n",
              "    }\n",
              "\n",
              "    .colab-df-convert:hover {\n",
              "      background-color: #E2EBFA;\n",
              "      box-shadow: 0px 1px 2px rgba(60, 64, 67, 0.3), 0px 1px 3px 1px rgba(60, 64, 67, 0.15);\n",
              "      fill: #174EA6;\n",
              "    }\n",
              "\n",
              "    .colab-df-buttons div {\n",
              "      margin-bottom: 4px;\n",
              "    }\n",
              "\n",
              "    [theme=dark] .colab-df-convert {\n",
              "      background-color: #3B4455;\n",
              "      fill: #D2E3FC;\n",
              "    }\n",
              "\n",
              "    [theme=dark] .colab-df-convert:hover {\n",
              "      background-color: #434B5C;\n",
              "      box-shadow: 0px 1px 3px 1px rgba(0, 0, 0, 0.15);\n",
              "      filter: drop-shadow(0px 1px 2px rgba(0, 0, 0, 0.3));\n",
              "      fill: #FFFFFF;\n",
              "    }\n",
              "  </style>\n",
              "\n",
              "    <script>\n",
              "      const buttonEl =\n",
              "        document.querySelector('#df-264abe7d-565a-48e4-b8e9-8c43c8186833 button.colab-df-convert');\n",
              "      buttonEl.style.display =\n",
              "        google.colab.kernel.accessAllowed ? 'block' : 'none';\n",
              "\n",
              "      async function convertToInteractive(key) {\n",
              "        const element = document.querySelector('#df-264abe7d-565a-48e4-b8e9-8c43c8186833');\n",
              "        const dataTable =\n",
              "          await google.colab.kernel.invokeFunction('convertToInteractive',\n",
              "                                                    [key], {});\n",
              "        if (!dataTable) return;\n",
              "\n",
              "        const docLinkHtml = 'Like what you see? Visit the ' +\n",
              "          '<a target=\"_blank\" href=https://colab.research.google.com/notebooks/data_table.ipynb>data table notebook</a>'\n",
              "          + ' to learn more about interactive tables.';\n",
              "        element.innerHTML = '';\n",
              "        dataTable['output_type'] = 'display_data';\n",
              "        await google.colab.output.renderOutput(dataTable, element);\n",
              "        const docLink = document.createElement('div');\n",
              "        docLink.innerHTML = docLinkHtml;\n",
              "        element.appendChild(docLink);\n",
              "      }\n",
              "    </script>\n",
              "  </div>\n",
              "\n",
              "\n",
              "<div id=\"df-f6f3e725-1ca5-441a-ae32-3e76f5f0d189\">\n",
              "  <button class=\"colab-df-quickchart\" onclick=\"quickchart('df-f6f3e725-1ca5-441a-ae32-3e76f5f0d189')\"\n",
              "            title=\"Suggest charts\"\n",
              "            style=\"display:none;\">\n",
              "\n",
              "<svg xmlns=\"http://www.w3.org/2000/svg\" height=\"24px\"viewBox=\"0 0 24 24\"\n",
              "     width=\"24px\">\n",
              "    <g>\n",
              "        <path d=\"M19 3H5c-1.1 0-2 .9-2 2v14c0 1.1.9 2 2 2h14c1.1 0 2-.9 2-2V5c0-1.1-.9-2-2-2zM9 17H7v-7h2v7zm4 0h-2V7h2v10zm4 0h-2v-4h2v4z\"/>\n",
              "    </g>\n",
              "</svg>\n",
              "  </button>\n",
              "\n",
              "<style>\n",
              "  .colab-df-quickchart {\n",
              "      --bg-color: #E8F0FE;\n",
              "      --fill-color: #1967D2;\n",
              "      --hover-bg-color: #E2EBFA;\n",
              "      --hover-fill-color: #174EA6;\n",
              "      --disabled-fill-color: #AAA;\n",
              "      --disabled-bg-color: #DDD;\n",
              "  }\n",
              "\n",
              "  [theme=dark] .colab-df-quickchart {\n",
              "      --bg-color: #3B4455;\n",
              "      --fill-color: #D2E3FC;\n",
              "      --hover-bg-color: #434B5C;\n",
              "      --hover-fill-color: #FFFFFF;\n",
              "      --disabled-bg-color: #3B4455;\n",
              "      --disabled-fill-color: #666;\n",
              "  }\n",
              "\n",
              "  .colab-df-quickchart {\n",
              "    background-color: var(--bg-color);\n",
              "    border: none;\n",
              "    border-radius: 50%;\n",
              "    cursor: pointer;\n",
              "    display: none;\n",
              "    fill: var(--fill-color);\n",
              "    height: 32px;\n",
              "    padding: 0;\n",
              "    width: 32px;\n",
              "  }\n",
              "\n",
              "  .colab-df-quickchart:hover {\n",
              "    background-color: var(--hover-bg-color);\n",
              "    box-shadow: 0 1px 2px rgba(60, 64, 67, 0.3), 0 1px 3px 1px rgba(60, 64, 67, 0.15);\n",
              "    fill: var(--button-hover-fill-color);\n",
              "  }\n",
              "\n",
              "  .colab-df-quickchart-complete:disabled,\n",
              "  .colab-df-quickchart-complete:disabled:hover {\n",
              "    background-color: var(--disabled-bg-color);\n",
              "    fill: var(--disabled-fill-color);\n",
              "    box-shadow: none;\n",
              "  }\n",
              "\n",
              "  .colab-df-spinner {\n",
              "    border: 2px solid var(--fill-color);\n",
              "    border-color: transparent;\n",
              "    border-bottom-color: var(--fill-color);\n",
              "    animation:\n",
              "      spin 1s steps(1) infinite;\n",
              "  }\n",
              "\n",
              "  @keyframes spin {\n",
              "    0% {\n",
              "      border-color: transparent;\n",
              "      border-bottom-color: var(--fill-color);\n",
              "      border-left-color: var(--fill-color);\n",
              "    }\n",
              "    20% {\n",
              "      border-color: transparent;\n",
              "      border-left-color: var(--fill-color);\n",
              "      border-top-color: var(--fill-color);\n",
              "    }\n",
              "    30% {\n",
              "      border-color: transparent;\n",
              "      border-left-color: var(--fill-color);\n",
              "      border-top-color: var(--fill-color);\n",
              "      border-right-color: var(--fill-color);\n",
              "    }\n",
              "    40% {\n",
              "      border-color: transparent;\n",
              "      border-right-color: var(--fill-color);\n",
              "      border-top-color: var(--fill-color);\n",
              "    }\n",
              "    60% {\n",
              "      border-color: transparent;\n",
              "      border-right-color: var(--fill-color);\n",
              "    }\n",
              "    80% {\n",
              "      border-color: transparent;\n",
              "      border-right-color: var(--fill-color);\n",
              "      border-bottom-color: var(--fill-color);\n",
              "    }\n",
              "    90% {\n",
              "      border-color: transparent;\n",
              "      border-bottom-color: var(--fill-color);\n",
              "    }\n",
              "  }\n",
              "</style>\n",
              "\n",
              "  <script>\n",
              "    async function quickchart(key) {\n",
              "      const quickchartButtonEl =\n",
              "        document.querySelector('#' + key + ' button');\n",
              "      quickchartButtonEl.disabled = true;  // To prevent multiple clicks.\n",
              "      quickchartButtonEl.classList.add('colab-df-spinner');\n",
              "      try {\n",
              "        const charts = await google.colab.kernel.invokeFunction(\n",
              "            'suggestCharts', [key], {});\n",
              "      } catch (error) {\n",
              "        console.error('Error during call to suggestCharts:', error);\n",
              "      }\n",
              "      quickchartButtonEl.classList.remove('colab-df-spinner');\n",
              "      quickchartButtonEl.classList.add('colab-df-quickchart-complete');\n",
              "    }\n",
              "    (() => {\n",
              "      let quickchartButtonEl =\n",
              "        document.querySelector('#df-f6f3e725-1ca5-441a-ae32-3e76f5f0d189 button');\n",
              "      quickchartButtonEl.style.display =\n",
              "        google.colab.kernel.accessAllowed ? 'block' : 'none';\n",
              "    })();\n",
              "  </script>\n",
              "</div>\n",
              "\n",
              "    </div>\n",
              "  </div>\n"
            ],
            "application/vnd.google.colaboratory.intrinsic+json": {
              "type": "dataframe",
              "summary": "{\n  \"name\": \"train_df\",\n  \"rows\": 6,\n  \"fields\": [\n    {\n      \"column\": \"ID_Zindi\",\n      \"properties\": {\n        \"dtype\": \"string\",\n        \"num_unique_values\": 6,\n        \"samples\": [\n          \"ID_YRJGZ0\",\n          \"ID_M33NQO\",\n          \"ID_GA49D9\"\n        ],\n        \"semantic_type\": \"\",\n        \"description\": \"\"\n      }\n    },\n    {\n      \"column\": \"Date\",\n      \"properties\": {\n        \"dtype\": \"date\",\n        \"min\": \"2019-12-26 00:00:00\",\n        \"max\": \"2021-06-19 00:00:00\",\n        \"num_unique_values\": 5,\n        \"samples\": [\n          \"2021-01-24 00:00:00\",\n          \"2021-05-07 00:00:00\",\n          \"2021-01-25 00:00:00\"\n        ],\n        \"semantic_type\": \"\",\n        \"description\": \"\"\n      }\n    },\n    {\n      \"column\": \"ID\",\n      \"properties\": {\n        \"dtype\": \"string\",\n        \"num_unique_values\": 6,\n        \"samples\": [\n          \"X5591\",\n          \"X5568\",\n          \"X10097\"\n        ],\n        \"semantic_type\": \"\",\n        \"description\": \"\"\n      }\n    },\n    {\n      \"column\": \"LAT\",\n      \"properties\": {\n        \"dtype\": \"number\",\n        \"std\": 0.3418584477369014,\n        \"min\": 45.04650154,\n        \"max\": 45.84220726,\n        \"num_unique_values\": 6,\n        \"samples\": [\n          45.71629992,\n          45.73083672,\n          45.04650154\n        ],\n        \"semantic_type\": \"\",\n        \"description\": \"\"\n      }\n    },\n    {\n      \"column\": \"LON\",\n      \"properties\": {\n        \"dtype\": \"number\",\n        \"std\": 0.9309238466955758,\n        \"min\": 9.125734327,\n        \"max\": 11.31051146,\n        \"num_unique_values\": 6,\n        \"samples\": [\n          10.044766,\n          9.125734327,\n          11.18093582\n        ],\n        \"semantic_type\": \"\",\n        \"description\": \"\"\n      }\n    },\n    {\n      \"column\": \"Precipitation\",\n      \"properties\": {\n        \"dtype\": \"number\",\n        \"std\": 0.0,\n        \"min\": 0.0,\n        \"max\": 0.0,\n        \"num_unique_values\": 1,\n        \"samples\": [\n          0.0\n        ],\n        \"semantic_type\": \"\",\n        \"description\": \"\"\n      }\n    },\n    {\n      \"column\": \"LST\",\n      \"properties\": {\n        \"dtype\": \"number\",\n        \"std\": null,\n        \"min\": 279.66,\n        \"max\": 279.66,\n        \"num_unique_values\": 1,\n        \"samples\": [\n          279.66\n        ],\n        \"semantic_type\": \"\",\n        \"description\": \"\"\n      }\n    },\n    {\n      \"column\": \"AAI\",\n      \"properties\": {\n        \"dtype\": \"number\",\n        \"std\": 0.4282542950051796,\n        \"min\": -2.01150544,\n        \"max\": -1.12033987,\n        \"num_unique_values\": 6,\n        \"samples\": [\n          -1.12033987\n        ],\n        \"semantic_type\": \"\",\n        \"description\": \"\"\n      }\n    },\n    {\n      \"column\": \"CloudFraction\",\n      \"properties\": {\n        \"dtype\": \"number\",\n        \"std\": 0.0976357381256301,\n        \"min\": 0.022313417,\n        \"max\": 0.286427726,\n        \"num_unique_values\": 6,\n        \"samples\": [\n          0.0901151\n        ],\n        \"semantic_type\": \"\",\n        \"description\": \"\"\n      }\n    },\n    {\n      \"column\": \"NO2_strat\",\n      \"properties\": {\n        \"dtype\": \"number\",\n        \"std\": 1.604910174018056e-05,\n        \"min\": 2.78e-05,\n        \"max\": 6.27e-05,\n        \"num_unique_values\": 6,\n        \"samples\": [\n          2.78e-05\n        ],\n        \"semantic_type\": \"\",\n        \"description\": \"\"\n      }\n    },\n    {\n      \"column\": \"NO2_total\",\n      \"properties\": {\n        \"dtype\": \"number\",\n        \"std\": 2.0543287630432153e-05,\n        \"min\": 2.44e-05,\n        \"max\": 7.32e-05,\n        \"num_unique_values\": 6,\n        \"samples\": [\n          2.44e-05\n        ],\n        \"semantic_type\": \"\",\n        \"description\": \"\"\n      }\n    },\n    {\n      \"column\": \"NO2_trop\",\n      \"properties\": {\n        \"dtype\": \"number\",\n        \"std\": 9.173564419933326e-06,\n        \"min\": -2.53e-05,\n        \"max\": -3.65e-07,\n        \"num_unique_values\": 6,\n        \"samples\": [\n          -3.41e-06\n        ],\n        \"semantic_type\": \"\",\n        \"description\": \"\"\n      }\n    },\n    {\n      \"column\": \"TropopausePressure\",\n      \"properties\": {\n        \"dtype\": \"number\",\n        \"std\": 3791.8159684585694,\n        \"min\": 14416.17286,\n        \"max\": 22027.81204,\n        \"num_unique_values\": 6,\n        \"samples\": [\n          14416.17286\n        ],\n        \"semantic_type\": \"\",\n        \"description\": \"\"\n      }\n    },\n    {\n      \"column\": \"GT_NO2\",\n      \"properties\": {\n        \"dtype\": \"number\",\n        \"std\": 11.355124577329244,\n        \"min\": 4.975,\n        \"max\": 35.0,\n        \"num_unique_values\": 6,\n        \"samples\": [\n          4.975\n        ],\n        \"semantic_type\": \"\",\n        \"description\": \"\"\n      }\n    }\n  ]\n}"
            }
          },
          "metadata": {},
          "execution_count": 164
        }
      ]
    },
    {
      "cell_type": "code",
      "execution_count": 165,
      "id": "899f270c-4e0d-4619-b64c-4c3345574723",
      "metadata": {
        "id": "899f270c-4e0d-4619-b64c-4c3345574723"
      },
      "outputs": [],
      "source": [
        "train_df['Day'] = train_df['Date'].dt.day"
      ]
    },
    {
      "cell_type": "code",
      "execution_count": 166,
      "id": "00933558-4c73-45fe-aae1-09373f13fd8f",
      "metadata": {
        "id": "00933558-4c73-45fe-aae1-09373f13fd8f"
      },
      "outputs": [],
      "source": [
        "train_df['Month'] = train_df['Date'].dt.month\n",
        "train_df['Year'] = train_df['Date'].dt.year"
      ]
    },
    {
      "cell_type": "code",
      "execution_count": 167,
      "id": "9ea368cb-6cd5-4246-acc2-863f3aac6be6",
      "metadata": {
        "id": "9ea368cb-6cd5-4246-acc2-863f3aac6be6"
      },
      "outputs": [],
      "source": [
        "train_df.drop('Date',axis = 1,inplace=True)"
      ]
    },
    {
      "cell_type": "code",
      "execution_count": 168,
      "id": "71216945-6c7d-4899-b950-3f9840e48971",
      "metadata": {
        "colab": {
          "base_uri": "https://localhost:8080/"
        },
        "id": "71216945-6c7d-4899-b950-3f9840e48971",
        "outputId": "3aef0d8d-50da-4333-8f1f-b8538a1082a6"
      },
      "outputs": [
        {
          "output_type": "execute_result",
          "data": {
            "text/plain": [
              "ID\n",
              "PD01      1096\n",
              "X5591     1096\n",
              "X5609     1096\n",
              "X5607     1096\n",
              "X5603     1096\n",
              "          ... \n",
              "X10507    1096\n",
              "X10458    1096\n",
              "X10452    1096\n",
              "X10331    1096\n",
              "X9999     1096\n",
              "Name: count, Length: 79, dtype: int64"
            ]
          },
          "metadata": {},
          "execution_count": 168
        }
      ],
      "source": [
        "train_df['ID'].value_counts()"
      ]
    },
    {
      "cell_type": "code",
      "execution_count": 169,
      "id": "2a9bd125-5417-4304-9597-1ca32e356e59",
      "metadata": {
        "colab": {
          "base_uri": "https://localhost:8080/"
        },
        "id": "2a9bd125-5417-4304-9597-1ca32e356e59",
        "outputId": "40864030-21c5-4c47-b42b-6413579ea60f"
      },
      "outputs": [
        {
          "output_type": "stream",
          "name": "stdout",
          "text": [
            "<class 'pandas.core.frame.DataFrame'>\n",
            "RangeIndex: 86584 entries, 0 to 86583\n",
            "Data columns (total 16 columns):\n",
            " #   Column              Non-Null Count  Dtype  \n",
            "---  ------              --------------  -----  \n",
            " 0   ID_Zindi            86584 non-null  object \n",
            " 1   ID                  86584 non-null  object \n",
            " 2   LAT                 86584 non-null  float64\n",
            " 3   LON                 86584 non-null  float64\n",
            " 4   Precipitation       86584 non-null  float64\n",
            " 5   LST                 46798 non-null  float64\n",
            " 6   AAI                 73709 non-null  float64\n",
            " 7   CloudFraction       73709 non-null  float64\n",
            " 8   NO2_strat           73709 non-null  float64\n",
            " 9   NO2_total           73709 non-null  float64\n",
            " 10  NO2_trop            51111 non-null  float64\n",
            " 11  TropopausePressure  73709 non-null  float64\n",
            " 12  GT_NO2              82051 non-null  float64\n",
            " 13  Day                 86584 non-null  int32  \n",
            " 14  Month               86584 non-null  int32  \n",
            " 15  Year                86584 non-null  int32  \n",
            "dtypes: float64(11), int32(3), object(2)\n",
            "memory usage: 9.6+ MB\n"
          ]
        }
      ],
      "source": [
        "train_df.info()"
      ]
    },
    {
      "cell_type": "code",
      "execution_count": 170,
      "id": "d70e61c9-8043-4fd9-8e9d-8683a18aeb56",
      "metadata": {
        "colab": {
          "base_uri": "https://localhost:8080/",
          "height": 696
        },
        "id": "d70e61c9-8043-4fd9-8e9d-8683a18aeb56",
        "outputId": "4dc558e7-036a-45fa-dd70-0c4908049361"
      },
      "outputs": [
        {
          "output_type": "execute_result",
          "data": {
            "text/plain": [
              "        ID_Zindi     ID        LAT        LON  Precipitation     LST  \\\n",
              "86564  ID_DFI0QN  X5611  45.159373   9.698148            0.0     NaN   \n",
              "86565  ID_A4BI2F  X5950  45.278488  10.006202            0.0     NaN   \n",
              "86566  ID_PVTBLC  X5958  45.366309   9.703946            0.0     NaN   \n",
              "86567  ID_V14WM5  X5965  45.283977   9.863398            0.0     NaN   \n",
              "86568  ID_NABILT  X6685  45.194676   9.164638            0.0     NaN   \n",
              "86569  ID_9QP7Y8  X6781  45.539529  10.231786            0.0  284.40   \n",
              "86570  ID_WUKZNU  X6813  45.249544  10.299119            0.0     NaN   \n",
              "86571  ID_GBSIG7  X6826  45.463753  10.480772            0.0  283.54   \n",
              "86572  ID_OJ173N  X6859  45.515708  10.336240            0.0  282.10   \n",
              "86573  ID_EUPODO  X6871  45.145260  10.803326            0.0  273.42   \n",
              "86574  ID_RJX7BI  X6880  44.924694  10.517502            0.0     NaN   \n",
              "86575  ID_5UUDRQ  X9802  45.160568  10.795564            0.0  273.58   \n",
              "86576  ID_5IL1ER  X9852  45.040077   8.914145            0.0     NaN   \n",
              "86577  ID_O4C8FJ  X9857  44.999546   9.008437            0.0  280.40   \n",
              "86578  ID_25AJ1V  X9877  45.580263   9.273573            0.0  283.64   \n",
              "86579  ID_NCWXIY  X9897  45.498227   9.556232            0.0     NaN   \n",
              "86580  ID_UDQIEE  X9928  45.142541  10.043836            0.0     NaN   \n",
              "86581  ID_ENDUPX  X9969  45.842207   9.351658            0.0  284.98   \n",
              "86582  ID_3ZBA6C  X9993  45.113503   8.874065            0.0     NaN   \n",
              "86583  ID_GWG0LD  X9999  45.526473   9.515980            0.0     NaN   \n",
              "\n",
              "            AAI  CloudFraction  NO2_strat  NO2_total  NO2_trop  \\\n",
              "86564 -1.537893       0.284638   0.000032   0.000400       NaN   \n",
              "86565 -1.089471       0.344780   0.000032   0.000407       NaN   \n",
              "86566       NaN            NaN        NaN        NaN       NaN   \n",
              "86567 -1.098018       0.297598   0.000032   0.000384       NaN   \n",
              "86568 -1.026156       0.476533   0.000031   0.000751       NaN   \n",
              "86569 -0.297831       0.004217   0.000031   0.000176  0.000145   \n",
              "86570 -1.037367       0.359459   0.000031   0.000555       NaN   \n",
              "86571 -0.613807       0.033910   0.000031   0.000241  0.000210   \n",
              "86572 -0.058019       0.000036   0.000031   0.000212  0.000180   \n",
              "86573 -0.916674       0.510518   0.000032   0.000556       NaN   \n",
              "86574       NaN            NaN        NaN        NaN       NaN   \n",
              "86575 -0.856952       0.450912   0.000032   0.000487       NaN   \n",
              "86576 -0.809365       0.403880   0.000031   0.000632       NaN   \n",
              "86577 -1.132546       0.276916   0.000031   0.000398       NaN   \n",
              "86578 -0.412519       0.013118   0.000031   0.000259  0.000228   \n",
              "86579 -0.434350       0.250490   0.000032   0.000643       NaN   \n",
              "86580       NaN            NaN        NaN        NaN       NaN   \n",
              "86581 -0.157753       0.000000   0.000031   0.000153  0.000122   \n",
              "86582 -0.798636       0.399524   0.000031   0.000717       NaN   \n",
              "86583 -0.434482       0.250530   0.000032   0.000643       NaN   \n",
              "\n",
              "       TropopausePressure  GT_NO2  Day  Month  Year  \n",
              "86564         13065.14930  25.175   31     12  2021  \n",
              "86565         13065.05908  20.175   31     12  2021  \n",
              "86566                 NaN  28.025   31     12  2021  \n",
              "86567         13065.00600  25.900   31     12  2021  \n",
              "86568         13063.22661  33.875   31     12  2021  \n",
              "86569         13059.45932  53.075   31     12  2021  \n",
              "86570         13064.80943  34.475   31     12  2021  \n",
              "86571         13063.23622  34.500   31     12  2021  \n",
              "86572         13060.58817  36.325   31     12  2021  \n",
              "86573         13063.69438  27.300   31     12  2021  \n",
              "86574                 NaN  29.225   31     12  2021  \n",
              "86575         13064.10961  27.675   31     12  2021  \n",
              "86576         13062.00654  19.875   31     12  2021  \n",
              "86577         13061.95402  24.225   31     12  2021  \n",
              "86578         13060.43351  56.275   31     12  2021  \n",
              "86579         13063.79770  39.750   31     12  2021  \n",
              "86580                 NaN  30.125   31     12  2021  \n",
              "86581         13050.16499  28.325   31     12  2021  \n",
              "86582         13061.41329  21.250   31     12  2021  \n",
              "86583         13063.79500  40.350   31     12  2021  "
            ],
            "text/html": [
              "\n",
              "  <div id=\"df-4f707377-d3c3-4d3e-971a-ca548d6ecd84\" class=\"colab-df-container\">\n",
              "    <div>\n",
              "<style scoped>\n",
              "    .dataframe tbody tr th:only-of-type {\n",
              "        vertical-align: middle;\n",
              "    }\n",
              "\n",
              "    .dataframe tbody tr th {\n",
              "        vertical-align: top;\n",
              "    }\n",
              "\n",
              "    .dataframe thead th {\n",
              "        text-align: right;\n",
              "    }\n",
              "</style>\n",
              "<table border=\"1\" class=\"dataframe\">\n",
              "  <thead>\n",
              "    <tr style=\"text-align: right;\">\n",
              "      <th></th>\n",
              "      <th>ID_Zindi</th>\n",
              "      <th>ID</th>\n",
              "      <th>LAT</th>\n",
              "      <th>LON</th>\n",
              "      <th>Precipitation</th>\n",
              "      <th>LST</th>\n",
              "      <th>AAI</th>\n",
              "      <th>CloudFraction</th>\n",
              "      <th>NO2_strat</th>\n",
              "      <th>NO2_total</th>\n",
              "      <th>NO2_trop</th>\n",
              "      <th>TropopausePressure</th>\n",
              "      <th>GT_NO2</th>\n",
              "      <th>Day</th>\n",
              "      <th>Month</th>\n",
              "      <th>Year</th>\n",
              "    </tr>\n",
              "  </thead>\n",
              "  <tbody>\n",
              "    <tr>\n",
              "      <th>86564</th>\n",
              "      <td>ID_DFI0QN</td>\n",
              "      <td>X5611</td>\n",
              "      <td>45.159373</td>\n",
              "      <td>9.698148</td>\n",
              "      <td>0.0</td>\n",
              "      <td>NaN</td>\n",
              "      <td>-1.537893</td>\n",
              "      <td>0.284638</td>\n",
              "      <td>0.000032</td>\n",
              "      <td>0.000400</td>\n",
              "      <td>NaN</td>\n",
              "      <td>13065.14930</td>\n",
              "      <td>25.175</td>\n",
              "      <td>31</td>\n",
              "      <td>12</td>\n",
              "      <td>2021</td>\n",
              "    </tr>\n",
              "    <tr>\n",
              "      <th>86565</th>\n",
              "      <td>ID_A4BI2F</td>\n",
              "      <td>X5950</td>\n",
              "      <td>45.278488</td>\n",
              "      <td>10.006202</td>\n",
              "      <td>0.0</td>\n",
              "      <td>NaN</td>\n",
              "      <td>-1.089471</td>\n",
              "      <td>0.344780</td>\n",
              "      <td>0.000032</td>\n",
              "      <td>0.000407</td>\n",
              "      <td>NaN</td>\n",
              "      <td>13065.05908</td>\n",
              "      <td>20.175</td>\n",
              "      <td>31</td>\n",
              "      <td>12</td>\n",
              "      <td>2021</td>\n",
              "    </tr>\n",
              "    <tr>\n",
              "      <th>86566</th>\n",
              "      <td>ID_PVTBLC</td>\n",
              "      <td>X5958</td>\n",
              "      <td>45.366309</td>\n",
              "      <td>9.703946</td>\n",
              "      <td>0.0</td>\n",
              "      <td>NaN</td>\n",
              "      <td>NaN</td>\n",
              "      <td>NaN</td>\n",
              "      <td>NaN</td>\n",
              "      <td>NaN</td>\n",
              "      <td>NaN</td>\n",
              "      <td>NaN</td>\n",
              "      <td>28.025</td>\n",
              "      <td>31</td>\n",
              "      <td>12</td>\n",
              "      <td>2021</td>\n",
              "    </tr>\n",
              "    <tr>\n",
              "      <th>86567</th>\n",
              "      <td>ID_V14WM5</td>\n",
              "      <td>X5965</td>\n",
              "      <td>45.283977</td>\n",
              "      <td>9.863398</td>\n",
              "      <td>0.0</td>\n",
              "      <td>NaN</td>\n",
              "      <td>-1.098018</td>\n",
              "      <td>0.297598</td>\n",
              "      <td>0.000032</td>\n",
              "      <td>0.000384</td>\n",
              "      <td>NaN</td>\n",
              "      <td>13065.00600</td>\n",
              "      <td>25.900</td>\n",
              "      <td>31</td>\n",
              "      <td>12</td>\n",
              "      <td>2021</td>\n",
              "    </tr>\n",
              "    <tr>\n",
              "      <th>86568</th>\n",
              "      <td>ID_NABILT</td>\n",
              "      <td>X6685</td>\n",
              "      <td>45.194676</td>\n",
              "      <td>9.164638</td>\n",
              "      <td>0.0</td>\n",
              "      <td>NaN</td>\n",
              "      <td>-1.026156</td>\n",
              "      <td>0.476533</td>\n",
              "      <td>0.000031</td>\n",
              "      <td>0.000751</td>\n",
              "      <td>NaN</td>\n",
              "      <td>13063.22661</td>\n",
              "      <td>33.875</td>\n",
              "      <td>31</td>\n",
              "      <td>12</td>\n",
              "      <td>2021</td>\n",
              "    </tr>\n",
              "    <tr>\n",
              "      <th>86569</th>\n",
              "      <td>ID_9QP7Y8</td>\n",
              "      <td>X6781</td>\n",
              "      <td>45.539529</td>\n",
              "      <td>10.231786</td>\n",
              "      <td>0.0</td>\n",
              "      <td>284.40</td>\n",
              "      <td>-0.297831</td>\n",
              "      <td>0.004217</td>\n",
              "      <td>0.000031</td>\n",
              "      <td>0.000176</td>\n",
              "      <td>0.000145</td>\n",
              "      <td>13059.45932</td>\n",
              "      <td>53.075</td>\n",
              "      <td>31</td>\n",
              "      <td>12</td>\n",
              "      <td>2021</td>\n",
              "    </tr>\n",
              "    <tr>\n",
              "      <th>86570</th>\n",
              "      <td>ID_WUKZNU</td>\n",
              "      <td>X6813</td>\n",
              "      <td>45.249544</td>\n",
              "      <td>10.299119</td>\n",
              "      <td>0.0</td>\n",
              "      <td>NaN</td>\n",
              "      <td>-1.037367</td>\n",
              "      <td>0.359459</td>\n",
              "      <td>0.000031</td>\n",
              "      <td>0.000555</td>\n",
              "      <td>NaN</td>\n",
              "      <td>13064.80943</td>\n",
              "      <td>34.475</td>\n",
              "      <td>31</td>\n",
              "      <td>12</td>\n",
              "      <td>2021</td>\n",
              "    </tr>\n",
              "    <tr>\n",
              "      <th>86571</th>\n",
              "      <td>ID_GBSIG7</td>\n",
              "      <td>X6826</td>\n",
              "      <td>45.463753</td>\n",
              "      <td>10.480772</td>\n",
              "      <td>0.0</td>\n",
              "      <td>283.54</td>\n",
              "      <td>-0.613807</td>\n",
              "      <td>0.033910</td>\n",
              "      <td>0.000031</td>\n",
              "      <td>0.000241</td>\n",
              "      <td>0.000210</td>\n",
              "      <td>13063.23622</td>\n",
              "      <td>34.500</td>\n",
              "      <td>31</td>\n",
              "      <td>12</td>\n",
              "      <td>2021</td>\n",
              "    </tr>\n",
              "    <tr>\n",
              "      <th>86572</th>\n",
              "      <td>ID_OJ173N</td>\n",
              "      <td>X6859</td>\n",
              "      <td>45.515708</td>\n",
              "      <td>10.336240</td>\n",
              "      <td>0.0</td>\n",
              "      <td>282.10</td>\n",
              "      <td>-0.058019</td>\n",
              "      <td>0.000036</td>\n",
              "      <td>0.000031</td>\n",
              "      <td>0.000212</td>\n",
              "      <td>0.000180</td>\n",
              "      <td>13060.58817</td>\n",
              "      <td>36.325</td>\n",
              "      <td>31</td>\n",
              "      <td>12</td>\n",
              "      <td>2021</td>\n",
              "    </tr>\n",
              "    <tr>\n",
              "      <th>86573</th>\n",
              "      <td>ID_EUPODO</td>\n",
              "      <td>X6871</td>\n",
              "      <td>45.145260</td>\n",
              "      <td>10.803326</td>\n",
              "      <td>0.0</td>\n",
              "      <td>273.42</td>\n",
              "      <td>-0.916674</td>\n",
              "      <td>0.510518</td>\n",
              "      <td>0.000032</td>\n",
              "      <td>0.000556</td>\n",
              "      <td>NaN</td>\n",
              "      <td>13063.69438</td>\n",
              "      <td>27.300</td>\n",
              "      <td>31</td>\n",
              "      <td>12</td>\n",
              "      <td>2021</td>\n",
              "    </tr>\n",
              "    <tr>\n",
              "      <th>86574</th>\n",
              "      <td>ID_RJX7BI</td>\n",
              "      <td>X6880</td>\n",
              "      <td>44.924694</td>\n",
              "      <td>10.517502</td>\n",
              "      <td>0.0</td>\n",
              "      <td>NaN</td>\n",
              "      <td>NaN</td>\n",
              "      <td>NaN</td>\n",
              "      <td>NaN</td>\n",
              "      <td>NaN</td>\n",
              "      <td>NaN</td>\n",
              "      <td>NaN</td>\n",
              "      <td>29.225</td>\n",
              "      <td>31</td>\n",
              "      <td>12</td>\n",
              "      <td>2021</td>\n",
              "    </tr>\n",
              "    <tr>\n",
              "      <th>86575</th>\n",
              "      <td>ID_5UUDRQ</td>\n",
              "      <td>X9802</td>\n",
              "      <td>45.160568</td>\n",
              "      <td>10.795564</td>\n",
              "      <td>0.0</td>\n",
              "      <td>273.58</td>\n",
              "      <td>-0.856952</td>\n",
              "      <td>0.450912</td>\n",
              "      <td>0.000032</td>\n",
              "      <td>0.000487</td>\n",
              "      <td>NaN</td>\n",
              "      <td>13064.10961</td>\n",
              "      <td>27.675</td>\n",
              "      <td>31</td>\n",
              "      <td>12</td>\n",
              "      <td>2021</td>\n",
              "    </tr>\n",
              "    <tr>\n",
              "      <th>86576</th>\n",
              "      <td>ID_5IL1ER</td>\n",
              "      <td>X9852</td>\n",
              "      <td>45.040077</td>\n",
              "      <td>8.914145</td>\n",
              "      <td>0.0</td>\n",
              "      <td>NaN</td>\n",
              "      <td>-0.809365</td>\n",
              "      <td>0.403880</td>\n",
              "      <td>0.000031</td>\n",
              "      <td>0.000632</td>\n",
              "      <td>NaN</td>\n",
              "      <td>13062.00654</td>\n",
              "      <td>19.875</td>\n",
              "      <td>31</td>\n",
              "      <td>12</td>\n",
              "      <td>2021</td>\n",
              "    </tr>\n",
              "    <tr>\n",
              "      <th>86577</th>\n",
              "      <td>ID_O4C8FJ</td>\n",
              "      <td>X9857</td>\n",
              "      <td>44.999546</td>\n",
              "      <td>9.008437</td>\n",
              "      <td>0.0</td>\n",
              "      <td>280.40</td>\n",
              "      <td>-1.132546</td>\n",
              "      <td>0.276916</td>\n",
              "      <td>0.000031</td>\n",
              "      <td>0.000398</td>\n",
              "      <td>NaN</td>\n",
              "      <td>13061.95402</td>\n",
              "      <td>24.225</td>\n",
              "      <td>31</td>\n",
              "      <td>12</td>\n",
              "      <td>2021</td>\n",
              "    </tr>\n",
              "    <tr>\n",
              "      <th>86578</th>\n",
              "      <td>ID_25AJ1V</td>\n",
              "      <td>X9877</td>\n",
              "      <td>45.580263</td>\n",
              "      <td>9.273573</td>\n",
              "      <td>0.0</td>\n",
              "      <td>283.64</td>\n",
              "      <td>-0.412519</td>\n",
              "      <td>0.013118</td>\n",
              "      <td>0.000031</td>\n",
              "      <td>0.000259</td>\n",
              "      <td>0.000228</td>\n",
              "      <td>13060.43351</td>\n",
              "      <td>56.275</td>\n",
              "      <td>31</td>\n",
              "      <td>12</td>\n",
              "      <td>2021</td>\n",
              "    </tr>\n",
              "    <tr>\n",
              "      <th>86579</th>\n",
              "      <td>ID_NCWXIY</td>\n",
              "      <td>X9897</td>\n",
              "      <td>45.498227</td>\n",
              "      <td>9.556232</td>\n",
              "      <td>0.0</td>\n",
              "      <td>NaN</td>\n",
              "      <td>-0.434350</td>\n",
              "      <td>0.250490</td>\n",
              "      <td>0.000032</td>\n",
              "      <td>0.000643</td>\n",
              "      <td>NaN</td>\n",
              "      <td>13063.79770</td>\n",
              "      <td>39.750</td>\n",
              "      <td>31</td>\n",
              "      <td>12</td>\n",
              "      <td>2021</td>\n",
              "    </tr>\n",
              "    <tr>\n",
              "      <th>86580</th>\n",
              "      <td>ID_UDQIEE</td>\n",
              "      <td>X9928</td>\n",
              "      <td>45.142541</td>\n",
              "      <td>10.043836</td>\n",
              "      <td>0.0</td>\n",
              "      <td>NaN</td>\n",
              "      <td>NaN</td>\n",
              "      <td>NaN</td>\n",
              "      <td>NaN</td>\n",
              "      <td>NaN</td>\n",
              "      <td>NaN</td>\n",
              "      <td>NaN</td>\n",
              "      <td>30.125</td>\n",
              "      <td>31</td>\n",
              "      <td>12</td>\n",
              "      <td>2021</td>\n",
              "    </tr>\n",
              "    <tr>\n",
              "      <th>86581</th>\n",
              "      <td>ID_ENDUPX</td>\n",
              "      <td>X9969</td>\n",
              "      <td>45.842207</td>\n",
              "      <td>9.351658</td>\n",
              "      <td>0.0</td>\n",
              "      <td>284.98</td>\n",
              "      <td>-0.157753</td>\n",
              "      <td>0.000000</td>\n",
              "      <td>0.000031</td>\n",
              "      <td>0.000153</td>\n",
              "      <td>0.000122</td>\n",
              "      <td>13050.16499</td>\n",
              "      <td>28.325</td>\n",
              "      <td>31</td>\n",
              "      <td>12</td>\n",
              "      <td>2021</td>\n",
              "    </tr>\n",
              "    <tr>\n",
              "      <th>86582</th>\n",
              "      <td>ID_3ZBA6C</td>\n",
              "      <td>X9993</td>\n",
              "      <td>45.113503</td>\n",
              "      <td>8.874065</td>\n",
              "      <td>0.0</td>\n",
              "      <td>NaN</td>\n",
              "      <td>-0.798636</td>\n",
              "      <td>0.399524</td>\n",
              "      <td>0.000031</td>\n",
              "      <td>0.000717</td>\n",
              "      <td>NaN</td>\n",
              "      <td>13061.41329</td>\n",
              "      <td>21.250</td>\n",
              "      <td>31</td>\n",
              "      <td>12</td>\n",
              "      <td>2021</td>\n",
              "    </tr>\n",
              "    <tr>\n",
              "      <th>86583</th>\n",
              "      <td>ID_GWG0LD</td>\n",
              "      <td>X9999</td>\n",
              "      <td>45.526473</td>\n",
              "      <td>9.515980</td>\n",
              "      <td>0.0</td>\n",
              "      <td>NaN</td>\n",
              "      <td>-0.434482</td>\n",
              "      <td>0.250530</td>\n",
              "      <td>0.000032</td>\n",
              "      <td>0.000643</td>\n",
              "      <td>NaN</td>\n",
              "      <td>13063.79500</td>\n",
              "      <td>40.350</td>\n",
              "      <td>31</td>\n",
              "      <td>12</td>\n",
              "      <td>2021</td>\n",
              "    </tr>\n",
              "  </tbody>\n",
              "</table>\n",
              "</div>\n",
              "    <div class=\"colab-df-buttons\">\n",
              "\n",
              "  <div class=\"colab-df-container\">\n",
              "    <button class=\"colab-df-convert\" onclick=\"convertToInteractive('df-4f707377-d3c3-4d3e-971a-ca548d6ecd84')\"\n",
              "            title=\"Convert this dataframe to an interactive table.\"\n",
              "            style=\"display:none;\">\n",
              "\n",
              "  <svg xmlns=\"http://www.w3.org/2000/svg\" height=\"24px\" viewBox=\"0 -960 960 960\">\n",
              "    <path d=\"M120-120v-720h720v720H120Zm60-500h600v-160H180v160Zm220 220h160v-160H400v160Zm0 220h160v-160H400v160ZM180-400h160v-160H180v160Zm440 0h160v-160H620v160ZM180-180h160v-160H180v160Zm440 0h160v-160H620v160Z\"/>\n",
              "  </svg>\n",
              "    </button>\n",
              "\n",
              "  <style>\n",
              "    .colab-df-container {\n",
              "      display:flex;\n",
              "      gap: 12px;\n",
              "    }\n",
              "\n",
              "    .colab-df-convert {\n",
              "      background-color: #E8F0FE;\n",
              "      border: none;\n",
              "      border-radius: 50%;\n",
              "      cursor: pointer;\n",
              "      display: none;\n",
              "      fill: #1967D2;\n",
              "      height: 32px;\n",
              "      padding: 0 0 0 0;\n",
              "      width: 32px;\n",
              "    }\n",
              "\n",
              "    .colab-df-convert:hover {\n",
              "      background-color: #E2EBFA;\n",
              "      box-shadow: 0px 1px 2px rgba(60, 64, 67, 0.3), 0px 1px 3px 1px rgba(60, 64, 67, 0.15);\n",
              "      fill: #174EA6;\n",
              "    }\n",
              "\n",
              "    .colab-df-buttons div {\n",
              "      margin-bottom: 4px;\n",
              "    }\n",
              "\n",
              "    [theme=dark] .colab-df-convert {\n",
              "      background-color: #3B4455;\n",
              "      fill: #D2E3FC;\n",
              "    }\n",
              "\n",
              "    [theme=dark] .colab-df-convert:hover {\n",
              "      background-color: #434B5C;\n",
              "      box-shadow: 0px 1px 3px 1px rgba(0, 0, 0, 0.15);\n",
              "      filter: drop-shadow(0px 1px 2px rgba(0, 0, 0, 0.3));\n",
              "      fill: #FFFFFF;\n",
              "    }\n",
              "  </style>\n",
              "\n",
              "    <script>\n",
              "      const buttonEl =\n",
              "        document.querySelector('#df-4f707377-d3c3-4d3e-971a-ca548d6ecd84 button.colab-df-convert');\n",
              "      buttonEl.style.display =\n",
              "        google.colab.kernel.accessAllowed ? 'block' : 'none';\n",
              "\n",
              "      async function convertToInteractive(key) {\n",
              "        const element = document.querySelector('#df-4f707377-d3c3-4d3e-971a-ca548d6ecd84');\n",
              "        const dataTable =\n",
              "          await google.colab.kernel.invokeFunction('convertToInteractive',\n",
              "                                                    [key], {});\n",
              "        if (!dataTable) return;\n",
              "\n",
              "        const docLinkHtml = 'Like what you see? Visit the ' +\n",
              "          '<a target=\"_blank\" href=https://colab.research.google.com/notebooks/data_table.ipynb>data table notebook</a>'\n",
              "          + ' to learn more about interactive tables.';\n",
              "        element.innerHTML = '';\n",
              "        dataTable['output_type'] = 'display_data';\n",
              "        await google.colab.output.renderOutput(dataTable, element);\n",
              "        const docLink = document.createElement('div');\n",
              "        docLink.innerHTML = docLinkHtml;\n",
              "        element.appendChild(docLink);\n",
              "      }\n",
              "    </script>\n",
              "  </div>\n",
              "\n",
              "\n",
              "<div id=\"df-482d21b8-da38-46ce-a66a-131d857da155\">\n",
              "  <button class=\"colab-df-quickchart\" onclick=\"quickchart('df-482d21b8-da38-46ce-a66a-131d857da155')\"\n",
              "            title=\"Suggest charts\"\n",
              "            style=\"display:none;\">\n",
              "\n",
              "<svg xmlns=\"http://www.w3.org/2000/svg\" height=\"24px\"viewBox=\"0 0 24 24\"\n",
              "     width=\"24px\">\n",
              "    <g>\n",
              "        <path d=\"M19 3H5c-1.1 0-2 .9-2 2v14c0 1.1.9 2 2 2h14c1.1 0 2-.9 2-2V5c0-1.1-.9-2-2-2zM9 17H7v-7h2v7zm4 0h-2V7h2v10zm4 0h-2v-4h2v4z\"/>\n",
              "    </g>\n",
              "</svg>\n",
              "  </button>\n",
              "\n",
              "<style>\n",
              "  .colab-df-quickchart {\n",
              "      --bg-color: #E8F0FE;\n",
              "      --fill-color: #1967D2;\n",
              "      --hover-bg-color: #E2EBFA;\n",
              "      --hover-fill-color: #174EA6;\n",
              "      --disabled-fill-color: #AAA;\n",
              "      --disabled-bg-color: #DDD;\n",
              "  }\n",
              "\n",
              "  [theme=dark] .colab-df-quickchart {\n",
              "      --bg-color: #3B4455;\n",
              "      --fill-color: #D2E3FC;\n",
              "      --hover-bg-color: #434B5C;\n",
              "      --hover-fill-color: #FFFFFF;\n",
              "      --disabled-bg-color: #3B4455;\n",
              "      --disabled-fill-color: #666;\n",
              "  }\n",
              "\n",
              "  .colab-df-quickchart {\n",
              "    background-color: var(--bg-color);\n",
              "    border: none;\n",
              "    border-radius: 50%;\n",
              "    cursor: pointer;\n",
              "    display: none;\n",
              "    fill: var(--fill-color);\n",
              "    height: 32px;\n",
              "    padding: 0;\n",
              "    width: 32px;\n",
              "  }\n",
              "\n",
              "  .colab-df-quickchart:hover {\n",
              "    background-color: var(--hover-bg-color);\n",
              "    box-shadow: 0 1px 2px rgba(60, 64, 67, 0.3), 0 1px 3px 1px rgba(60, 64, 67, 0.15);\n",
              "    fill: var(--button-hover-fill-color);\n",
              "  }\n",
              "\n",
              "  .colab-df-quickchart-complete:disabled,\n",
              "  .colab-df-quickchart-complete:disabled:hover {\n",
              "    background-color: var(--disabled-bg-color);\n",
              "    fill: var(--disabled-fill-color);\n",
              "    box-shadow: none;\n",
              "  }\n",
              "\n",
              "  .colab-df-spinner {\n",
              "    border: 2px solid var(--fill-color);\n",
              "    border-color: transparent;\n",
              "    border-bottom-color: var(--fill-color);\n",
              "    animation:\n",
              "      spin 1s steps(1) infinite;\n",
              "  }\n",
              "\n",
              "  @keyframes spin {\n",
              "    0% {\n",
              "      border-color: transparent;\n",
              "      border-bottom-color: var(--fill-color);\n",
              "      border-left-color: var(--fill-color);\n",
              "    }\n",
              "    20% {\n",
              "      border-color: transparent;\n",
              "      border-left-color: var(--fill-color);\n",
              "      border-top-color: var(--fill-color);\n",
              "    }\n",
              "    30% {\n",
              "      border-color: transparent;\n",
              "      border-left-color: var(--fill-color);\n",
              "      border-top-color: var(--fill-color);\n",
              "      border-right-color: var(--fill-color);\n",
              "    }\n",
              "    40% {\n",
              "      border-color: transparent;\n",
              "      border-right-color: var(--fill-color);\n",
              "      border-top-color: var(--fill-color);\n",
              "    }\n",
              "    60% {\n",
              "      border-color: transparent;\n",
              "      border-right-color: var(--fill-color);\n",
              "    }\n",
              "    80% {\n",
              "      border-color: transparent;\n",
              "      border-right-color: var(--fill-color);\n",
              "      border-bottom-color: var(--fill-color);\n",
              "    }\n",
              "    90% {\n",
              "      border-color: transparent;\n",
              "      border-bottom-color: var(--fill-color);\n",
              "    }\n",
              "  }\n",
              "</style>\n",
              "\n",
              "  <script>\n",
              "    async function quickchart(key) {\n",
              "      const quickchartButtonEl =\n",
              "        document.querySelector('#' + key + ' button');\n",
              "      quickchartButtonEl.disabled = true;  // To prevent multiple clicks.\n",
              "      quickchartButtonEl.classList.add('colab-df-spinner');\n",
              "      try {\n",
              "        const charts = await google.colab.kernel.invokeFunction(\n",
              "            'suggestCharts', [key], {});\n",
              "      } catch (error) {\n",
              "        console.error('Error during call to suggestCharts:', error);\n",
              "      }\n",
              "      quickchartButtonEl.classList.remove('colab-df-spinner');\n",
              "      quickchartButtonEl.classList.add('colab-df-quickchart-complete');\n",
              "    }\n",
              "    (() => {\n",
              "      let quickchartButtonEl =\n",
              "        document.querySelector('#df-482d21b8-da38-46ce-a66a-131d857da155 button');\n",
              "      quickchartButtonEl.style.display =\n",
              "        google.colab.kernel.accessAllowed ? 'block' : 'none';\n",
              "    })();\n",
              "  </script>\n",
              "</div>\n",
              "\n",
              "    </div>\n",
              "  </div>\n"
            ],
            "application/vnd.google.colaboratory.intrinsic+json": {
              "type": "dataframe",
              "summary": "{\n  \"name\": \"train_df\",\n  \"rows\": 20,\n  \"fields\": [\n    {\n      \"column\": \"ID_Zindi\",\n      \"properties\": {\n        \"dtype\": \"string\",\n        \"num_unique_values\": 20,\n        \"samples\": [\n          \"ID_DFI0QN\",\n          \"ID_ENDUPX\",\n          \"ID_NCWXIY\"\n        ],\n        \"semantic_type\": \"\",\n        \"description\": \"\"\n      }\n    },\n    {\n      \"column\": \"ID\",\n      \"properties\": {\n        \"dtype\": \"string\",\n        \"num_unique_values\": 20,\n        \"samples\": [\n          \"X5611\",\n          \"X9969\",\n          \"X9897\"\n        ],\n        \"semantic_type\": \"\",\n        \"description\": \"\"\n      }\n    },\n    {\n      \"column\": \"LAT\",\n      \"properties\": {\n        \"dtype\": \"number\",\n        \"std\": 0.23328184901664006,\n        \"min\": 44.92469405,\n        \"max\": 45.84220726,\n        \"num_unique_values\": 20,\n        \"samples\": [\n          45.1593728,\n          45.84220726,\n          45.49822713\n        ],\n        \"semantic_type\": \"\",\n        \"description\": \"\"\n      }\n    },\n    {\n      \"column\": \"LON\",\n      \"properties\": {\n        \"dtype\": \"number\",\n        \"std\": 0.611544152416549,\n        \"min\": 8.874064849,\n        \"max\": 10.80332595,\n        \"num_unique_values\": 20,\n        \"samples\": [\n          9.698148249,\n          9.351658166,\n          9.556232262\n        ],\n        \"semantic_type\": \"\",\n        \"description\": \"\"\n      }\n    },\n    {\n      \"column\": \"Precipitation\",\n      \"properties\": {\n        \"dtype\": \"number\",\n        \"std\": 0.0,\n        \"min\": 0.0,\n        \"max\": 0.0,\n        \"num_unique_values\": 1,\n        \"samples\": [\n          0.0\n        ],\n        \"semantic_type\": \"\",\n        \"description\": \"\"\n      }\n    },\n    {\n      \"column\": \"LST\",\n      \"properties\": {\n        \"dtype\": \"number\",\n        \"std\": 4.697019571722357,\n        \"min\": 273.42,\n        \"max\": 284.98,\n        \"num_unique_values\": 8,\n        \"samples\": [\n          283.54\n        ],\n        \"semantic_type\": \"\",\n        \"description\": \"\"\n      }\n    },\n    {\n      \"column\": \"AAI\",\n      \"properties\": {\n        \"dtype\": \"number\",\n        \"std\": 0.4010157629337001,\n        \"min\": -1.537893057,\n        \"max\": -0.058018822,\n        \"num_unique_values\": 17,\n        \"samples\": [\n          -1.537893057\n        ],\n        \"semantic_type\": \"\",\n        \"description\": \"\"\n      }\n    },\n    {\n      \"column\": \"CloudFraction\",\n      \"properties\": {\n        \"dtype\": \"number\",\n        \"std\": 0.17997715249574717,\n        \"min\": 0.0,\n        \"max\": 0.510518042,\n        \"num_unique_values\": 17,\n        \"samples\": [\n          0.284637809\n        ],\n        \"semantic_type\": \"\",\n        \"description\": \"\"\n      }\n    },\n    {\n      \"column\": \"NO2_strat\",\n      \"properties\": {\n        \"dtype\": \"number\",\n        \"std\": 2.513200443774489e-07,\n        \"min\": 3.11e-05,\n        \"max\": 3.19e-05,\n        \"num_unique_values\": 9,\n        \"samples\": [\n          3.13e-05\n        ],\n        \"semantic_type\": \"\",\n        \"description\": \"\"\n      }\n    },\n    {\n      \"column\": \"NO2_total\",\n      \"properties\": {\n        \"dtype\": \"number\",\n        \"std\": 0.00019438456804519655,\n        \"min\": 0.000153,\n        \"max\": 0.000751,\n        \"num_unique_values\": 16,\n        \"samples\": [\n          0.0004\n        ],\n        \"semantic_type\": \"\",\n        \"description\": \"\"\n      }\n    },\n    {\n      \"column\": \"NO2_trop\",\n      \"properties\": {\n        \"dtype\": \"number\",\n        \"std\": 4.401136216933078e-05,\n        \"min\": 0.000122,\n        \"max\": 0.000228,\n        \"num_unique_values\": 5,\n        \"samples\": [\n          0.00021\n        ],\n        \"semantic_type\": \"\",\n        \"description\": \"\"\n      }\n    },\n    {\n      \"column\": \"TropopausePressure\",\n      \"properties\": {\n        \"dtype\": \"number\",\n        \"std\": 3.5657470300051646,\n        \"min\": 13050.16499,\n        \"max\": 13065.1493,\n        \"num_unique_values\": 17,\n        \"samples\": [\n          13065.1493\n        ],\n        \"semantic_type\": \"\",\n        \"description\": \"\"\n      }\n    },\n    {\n      \"column\": \"GT_NO2\",\n      \"properties\": {\n        \"dtype\": \"number\",\n        \"std\": 9.800485353179951,\n        \"min\": 19.875,\n        \"max\": 56.275,\n        \"num_unique_values\": 20,\n        \"samples\": [\n          25.175\n        ],\n        \"semantic_type\": \"\",\n        \"description\": \"\"\n      }\n    },\n    {\n      \"column\": \"Day\",\n      \"properties\": {\n        \"dtype\": \"int32\",\n        \"num_unique_values\": 1,\n        \"samples\": [\n          31\n        ],\n        \"semantic_type\": \"\",\n        \"description\": \"\"\n      }\n    },\n    {\n      \"column\": \"Month\",\n      \"properties\": {\n        \"dtype\": \"int32\",\n        \"num_unique_values\": 1,\n        \"samples\": [\n          12\n        ],\n        \"semantic_type\": \"\",\n        \"description\": \"\"\n      }\n    },\n    {\n      \"column\": \"Year\",\n      \"properties\": {\n        \"dtype\": \"int32\",\n        \"num_unique_values\": 1,\n        \"samples\": [\n          2021\n        ],\n        \"semantic_type\": \"\",\n        \"description\": \"\"\n      }\n    }\n  ]\n}"
            }
          },
          "metadata": {},
          "execution_count": 170
        }
      ],
      "source": [
        "train_df.tail(20)"
      ]
    },
    {
      "cell_type": "code",
      "execution_count": 171,
      "id": "8b952bbe-0ae7-46d0-adc7-8fbfd7745b3a",
      "metadata": {
        "id": "8b952bbe-0ae7-46d0-adc7-8fbfd7745b3a"
      },
      "outputs": [],
      "source": [
        "#EDA AND FILLING NULL VALUES"
      ]
    },
    {
      "cell_type": "code",
      "execution_count": 172,
      "id": "d6ec28ac-0747-4da1-a942-9e65a13ee018",
      "metadata": {
        "colab": {
          "base_uri": "https://localhost:8080/"
        },
        "id": "d6ec28ac-0747-4da1-a942-9e65a13ee018",
        "outputId": "91120a27-86f5-4452-b08e-6b54f574875f"
      },
      "outputs": [
        {
          "output_type": "execute_result",
          "data": {
            "text/plain": [
              "300.76"
            ]
          },
          "metadata": {},
          "execution_count": 172
        }
      ],
      "source": [
        "train_df['LST'].median()"
      ]
    },
    {
      "cell_type": "code",
      "execution_count": 173,
      "id": "AFa8-BrpA7ob",
      "metadata": {
        "colab": {
          "base_uri": "https://localhost:8080/"
        },
        "id": "AFa8-BrpA7ob",
        "outputId": "6c95f912-4116-4b01-ee82-34c38586954d"
      },
      "outputs": [
        {
          "output_type": "execute_result",
          "data": {
            "text/plain": [
              "Index(['ID_Zindi', 'ID', 'LAT', 'LON', 'Precipitation', 'LST', 'AAI',\n",
              "       'CloudFraction', 'NO2_strat', 'NO2_total', 'NO2_trop',\n",
              "       'TropopausePressure', 'GT_NO2', 'Day', 'Month', 'Year'],\n",
              "      dtype='object')"
            ]
          },
          "metadata": {},
          "execution_count": 173
        }
      ],
      "source": [
        "train_df.columns"
      ]
    },
    {
      "cell_type": "markdown",
      "id": "B_FC9ShUAw7Q",
      "metadata": {
        "id": "B_FC9ShUAw7Q"
      },
      "source": [
        "VISUALIZATION USING BOXPLOT AND IQR CALCULATION FOR FINDING OUTLIERS IN THE DATASET"
      ]
    },
    {
      "cell_type": "code",
      "execution_count": 173,
      "id": "IC2O3HurAuxi",
      "metadata": {
        "id": "IC2O3HurAuxi"
      },
      "outputs": [],
      "source": []
    },
    {
      "cell_type": "code",
      "execution_count": 173,
      "id": "khe9KLv3Au1p",
      "metadata": {
        "id": "khe9KLv3Au1p"
      },
      "outputs": [],
      "source": []
    },
    {
      "cell_type": "code",
      "execution_count": 173,
      "id": "1g7QzycYAu5E",
      "metadata": {
        "id": "1g7QzycYAu5E"
      },
      "outputs": [],
      "source": []
    },
    {
      "cell_type": "code",
      "execution_count": 173,
      "id": "9730gJxwAu90",
      "metadata": {
        "id": "9730gJxwAu90"
      },
      "outputs": [],
      "source": []
    },
    {
      "cell_type": "code",
      "execution_count": 173,
      "id": "-qiMC31-AvBe",
      "metadata": {
        "id": "-qiMC31-AvBe"
      },
      "outputs": [],
      "source": []
    },
    {
      "cell_type": "code",
      "execution_count": 173,
      "id": "bRzAU9I3AvE7",
      "metadata": {
        "id": "bRzAU9I3AvE7"
      },
      "outputs": [],
      "source": []
    },
    {
      "cell_type": "code",
      "execution_count": 174,
      "id": "61087205-2a8d-41ce-b8de-8c2722762eee",
      "metadata": {
        "colab": {
          "base_uri": "https://localhost:8080/"
        },
        "id": "61087205-2a8d-41ce-b8de-8c2722762eee",
        "outputId": "904d5eae-6ac4-4b94-a17f-35487013f1f2"
      },
      "outputs": [
        {
          "output_type": "execute_result",
          "data": {
            "text/plain": [
              "count    46798.000000\n",
              "mean       299.268841\n",
              "std         10.927167\n",
              "min        253.200000\n",
              "25%        290.920000\n",
              "50%        300.760000\n",
              "75%        307.940000\n",
              "max        327.840000\n",
              "Name: LST, dtype: float64"
            ]
          },
          "metadata": {},
          "execution_count": 174
        }
      ],
      "source": [
        "train_df['LST'].describe()"
      ]
    },
    {
      "cell_type": "code",
      "execution_count": 175,
      "id": "d5ae90b8-595a-41cf-aae6-740ede168208",
      "metadata": {
        "id": "d5ae90b8-595a-41cf-aae6-740ede168208"
      },
      "outputs": [],
      "source": [
        "#train_df['LST'] = train_df['LST'].fillna(train_df['LST'].median())"
      ]
    },
    {
      "cell_type": "code",
      "execution_count": 176,
      "id": "c0002fef-6345-4737-b43c-3c62053bb69a",
      "metadata": {
        "id": "c0002fef-6345-4737-b43c-3c62053bb69a"
      },
      "outputs": [],
      "source": [
        "#train_df['AAI'].describe()"
      ]
    },
    {
      "cell_type": "code",
      "execution_count": 177,
      "id": "c3d0dfa3-3cfc-46de-909b-e713ea42a5fc",
      "metadata": {
        "id": "c3d0dfa3-3cfc-46de-909b-e713ea42a5fc"
      },
      "outputs": [],
      "source": [
        "#train_df['AAI'] = train_df['AAI'].fillna(train_df['AAI'].median())"
      ]
    },
    {
      "cell_type": "code",
      "execution_count": 178,
      "id": "847f5501-c944-4a16-be27-84c9d1865885",
      "metadata": {
        "id": "847f5501-c944-4a16-be27-84c9d1865885"
      },
      "outputs": [],
      "source": [
        "#train_df['CloudFraction'] = train_df['CloudFraction'].fillna(train_df['CloudFraction'].median())"
      ]
    },
    {
      "cell_type": "code",
      "execution_count": 179,
      "id": "6bf3fea2-b55c-4ae5-97e7-d8d3619c0cd7",
      "metadata": {
        "id": "6bf3fea2-b55c-4ae5-97e7-d8d3619c0cd7"
      },
      "outputs": [],
      "source": [
        "#train_df['NO2_strat'] = train_df['NO2_strat'].fillna(train_df['NO2_strat'].median())"
      ]
    },
    {
      "cell_type": "code",
      "execution_count": 180,
      "id": "70ad1f51-1575-4833-a450-50acc3b36712",
      "metadata": {
        "id": "70ad1f51-1575-4833-a450-50acc3b36712"
      },
      "outputs": [],
      "source": [
        "#train_df['NO2_total'] = train_df['NO2_total'].fillna(train_df['NO2_total'].median())"
      ]
    },
    {
      "cell_type": "code",
      "execution_count": 181,
      "id": "ff7ca9a5-5852-44a5-b9e6-ae6d533687c1",
      "metadata": {
        "id": "ff7ca9a5-5852-44a5-b9e6-ae6d533687c1"
      },
      "outputs": [],
      "source": [
        "#train_df['NO2_trop'] = train_df['NO2_trop'].fillna(train_df['NO2_total']-train_df['NO2_strat'])"
      ]
    },
    {
      "cell_type": "code",
      "execution_count": 182,
      "id": "96a1f02e-0f6a-4504-88ff-53a7b942978a",
      "metadata": {
        "id": "96a1f02e-0f6a-4504-88ff-53a7b942978a"
      },
      "outputs": [],
      "source": [
        "#train_df['TropopausePressure'] =  train_df['TropopausePressure'].fillna(train_df['TropopausePressure'].median())"
      ]
    },
    {
      "cell_type": "code",
      "execution_count": 183,
      "id": "4b837a8a-346b-45df-865d-25af209f5530",
      "metadata": {
        "id": "4b837a8a-346b-45df-865d-25af209f5530"
      },
      "outputs": [],
      "source": [
        "#train_df['GT_NO2'] =  train_df['GT_NO2'].fillna(train_df['GT_NO2'].median())"
      ]
    },
    {
      "cell_type": "code",
      "execution_count": 184,
      "id": "2d972e44-b6ed-4110-acfb-a1722424aaf6",
      "metadata": {
        "id": "2d972e44-b6ed-4110-acfb-a1722424aaf6"
      },
      "outputs": [],
      "source": [
        "#sns.heatmap(train_df.isnull(),cbar=False)"
      ]
    },
    {
      "cell_type": "code",
      "execution_count": 185,
      "id": "KRdK1QpD-obB",
      "metadata": {
        "colab": {
          "base_uri": "https://localhost:8080/"
        },
        "id": "KRdK1QpD-obB",
        "outputId": "c84d89e8-1973-4890-d0bc-53da25111883"
      },
      "outputs": [
        {
          "output_type": "execute_result",
          "data": {
            "text/plain": [
              "Index(['ID_Zindi', 'ID', 'LAT', 'LON', 'Precipitation', 'LST', 'AAI',\n",
              "       'CloudFraction', 'NO2_strat', 'NO2_total', 'NO2_trop',\n",
              "       'TropopausePressure', 'GT_NO2', 'Day', 'Month', 'Year'],\n",
              "      dtype='object')"
            ]
          },
          "metadata": {},
          "execution_count": 185
        }
      ],
      "source": [
        "train_df.columns"
      ]
    },
    {
      "cell_type": "code",
      "execution_count": 185,
      "id": "s4URKCK0-3CM",
      "metadata": {
        "id": "s4URKCK0-3CM"
      },
      "outputs": [],
      "source": []
    },
    {
      "cell_type": "code",
      "execution_count": 186,
      "id": "1d70031a-9fd9-4921-a194-64ca14e7fd0e",
      "metadata": {
        "colab": {
          "base_uri": "https://localhost:8080/"
        },
        "id": "1d70031a-9fd9-4921-a194-64ca14e7fd0e",
        "outputId": "ea67bd62-5eb5-4682-ac21-155dd2a20ac3"
      },
      "outputs": [
        {
          "output_type": "execute_result",
          "data": {
            "text/plain": [
              "ID\n",
              "PD01      1096\n",
              "X5591     1096\n",
              "X5609     1096\n",
              "X5607     1096\n",
              "X5603     1096\n",
              "          ... \n",
              "X10507    1096\n",
              "X10458    1096\n",
              "X10452    1096\n",
              "X10331    1096\n",
              "X9999     1096\n",
              "Name: count, Length: 79, dtype: int64"
            ]
          },
          "metadata": {},
          "execution_count": 186
        }
      ],
      "source": [
        "train_df['ID'].value_counts()"
      ]
    },
    {
      "cell_type": "code",
      "execution_count": 186,
      "id": "e9496e96-13f1-48e8-a3b2-945e841a6958",
      "metadata": {
        "id": "e9496e96-13f1-48e8-a3b2-945e841a6958"
      },
      "outputs": [],
      "source": []
    },
    {
      "cell_type": "code",
      "execution_count": 187,
      "id": "c84a01e0-5509-4d38-8183-25e4969e81d5",
      "metadata": {
        "id": "c84a01e0-5509-4d38-8183-25e4969e81d5"
      },
      "outputs": [],
      "source": [
        "#train_df[['ID_code', 'ID_value']] = train_df['ID'].str.extract(r'([A-Za-z]+)(\\d+)')"
      ]
    },
    {
      "cell_type": "code",
      "execution_count": 188,
      "id": "5161b5a0-ff7f-4fb8-b8df-2d3e7199b874",
      "metadata": {
        "id": "5161b5a0-ff7f-4fb8-b8df-2d3e7199b874"
      },
      "outputs": [],
      "source": [
        "train_df.drop('ID',axis = 1,inplace=True)"
      ]
    },
    {
      "cell_type": "code",
      "execution_count": 189,
      "id": "75b32f6f-53f7-4434-bdf7-49d76ec2102f",
      "metadata": {
        "id": "75b32f6f-53f7-4434-bdf7-49d76ec2102f"
      },
      "outputs": [],
      "source": [
        "#train_df['ID_value'] = train_df['ID_value'].astype(int)"
      ]
    },
    {
      "cell_type": "code",
      "execution_count": 190,
      "id": "KslYfYd45riY",
      "metadata": {
        "id": "KslYfYd45riY"
      },
      "outputs": [],
      "source": [
        "#train_df = train_df.drop('ID_Zindi',axis = 1)"
      ]
    },
    {
      "cell_type": "code",
      "execution_count": 191,
      "id": "c3212abd-ef77-4b9d-b86d-85edd7b87c53",
      "metadata": {
        "id": "c3212abd-ef77-4b9d-b86d-85edd7b87c53"
      },
      "outputs": [],
      "source": [
        "#Label Encoding the categorical data"
      ]
    },
    {
      "cell_type": "code",
      "execution_count": 192,
      "id": "I8X7DUbp7lKM",
      "metadata": {
        "colab": {
          "base_uri": "https://localhost:8080/"
        },
        "id": "I8X7DUbp7lKM",
        "outputId": "3b6dafeb-cd22-4e43-bea4-6d29823cd1fd"
      },
      "outputs": [
        {
          "output_type": "execute_result",
          "data": {
            "text/plain": [
              "ID_Zindi               object\n",
              "LAT                   float64\n",
              "LON                   float64\n",
              "Precipitation         float64\n",
              "LST                   float64\n",
              "AAI                   float64\n",
              "CloudFraction         float64\n",
              "NO2_strat             float64\n",
              "NO2_total             float64\n",
              "NO2_trop              float64\n",
              "TropopausePressure    float64\n",
              "GT_NO2                float64\n",
              "Day                     int32\n",
              "Month                   int32\n",
              "Year                    int32\n",
              "dtype: object"
            ]
          },
          "metadata": {},
          "execution_count": 192
        }
      ],
      "source": [
        "train_df.dtypes"
      ]
    },
    {
      "cell_type": "code",
      "execution_count": 193,
      "id": "N166bGpyLjZF",
      "metadata": {
        "colab": {
          "base_uri": "https://localhost:8080/"
        },
        "id": "N166bGpyLjZF",
        "outputId": "02220fcb-4b2a-4026-c5ca-bbb7db585937"
      },
      "outputs": [
        {
          "output_type": "execute_result",
          "data": {
            "text/plain": [
              "ID_Zindi                  0\n",
              "LAT                       0\n",
              "LON                       0\n",
              "Precipitation             0\n",
              "LST                   39786\n",
              "AAI                   12875\n",
              "CloudFraction         12875\n",
              "NO2_strat             12875\n",
              "NO2_total             12875\n",
              "NO2_trop              35473\n",
              "TropopausePressure    12875\n",
              "GT_NO2                 4533\n",
              "Day                       0\n",
              "Month                     0\n",
              "Year                      0\n",
              "dtype: int64"
            ]
          },
          "metadata": {},
          "execution_count": 193
        }
      ],
      "source": [
        "train_df.isnull().sum()"
      ]
    },
    {
      "cell_type": "code",
      "execution_count": 194,
      "id": "7zYUnNhk-frP",
      "metadata": {
        "id": "7zYUnNhk-frP"
      },
      "outputs": [],
      "source": [
        "new_df = train_df[['LAT', 'LON', 'Precipitation', 'LST', 'AAI',\n",
        "       'CloudFraction', 'NO2_strat', 'NO2_total',\n",
        "       'TropopausePressure', 'GT_NO2', 'Day', 'Month', 'Year']]"
      ]
    },
    {
      "cell_type": "code",
      "execution_count": 195,
      "id": "dSyzGfPK-_Or",
      "metadata": {
        "id": "dSyzGfPK-_Or"
      },
      "outputs": [],
      "source": [
        "knn = KNNImputer(n_neighbors=5,weights='distance')\n",
        "new_df_trf = knn.fit_transform(new_df)"
      ]
    },
    {
      "cell_type": "code",
      "execution_count": 196,
      "id": "XXhHEeRw_rZa",
      "metadata": {
        "id": "XXhHEeRw_rZa"
      },
      "outputs": [],
      "source": [
        "new_df_trf = pd.DataFrame(new_df_trf,columns=new_df.columns)"
      ]
    },
    {
      "cell_type": "code",
      "execution_count": 197,
      "id": "MlfaiSNIBh8m",
      "metadata": {
        "id": "MlfaiSNIBh8m"
      },
      "outputs": [],
      "source": [
        "new_df_trf['NO2_trop'] = train_df['NO2_trop']"
      ]
    },
    {
      "cell_type": "code",
      "execution_count": 198,
      "id": "OKE0c3WvNTP8",
      "metadata": {
        "colab": {
          "base_uri": "https://localhost:8080/",
          "height": 226
        },
        "id": "OKE0c3WvNTP8",
        "outputId": "f7946979-ebbe-4392-fe14-15295d6910d0"
      },
      "outputs": [
        {
          "output_type": "execute_result",
          "data": {
            "text/plain": [
              "         LAT        LON  Precipitation         LST       AAI  CloudFraction  \\\n",
              "0  45.601585  11.903551       0.000000  282.546835  0.230527       0.559117   \n",
              "1  45.371005  11.840830       3.047342  280.390662 -0.074006       0.869309   \n",
              "2  45.045825  12.060869       0.000000  282.394977  0.024470       0.674160   \n",
              "3  45.104075  11.553241       1.200467  282.522163 -0.010442       0.920054   \n",
              "4  45.038758  11.790152       1.274564  282.642766 -0.176178       0.747464   \n",
              "\n",
              "   NO2_strat  NO2_total  TropopausePressure  GT_NO2  Day  Month    Year  \\\n",
              "0   0.000024   0.000117         14440.82126    31.0  1.0    1.0  2019.0   \n",
              "1   0.000024   0.000127         14441.79815    42.0  1.0    1.0  2019.0   \n",
              "2   0.000024   0.000086         14437.38294    31.0  1.0    1.0  2019.0   \n",
              "3   0.000024   0.000124         14440.83831    30.0  1.0    1.0  2019.0   \n",
              "4   0.000024   0.000116         14438.79037    58.0  1.0    1.0  2019.0   \n",
              "\n",
              "   NO2_trop  \n",
              "0       NaN  \n",
              "1       NaN  \n",
              "2       NaN  \n",
              "3       NaN  \n",
              "4       NaN  "
            ],
            "text/html": [
              "\n",
              "  <div id=\"df-8b7981ad-05ab-4a43-8c55-0249fd99941d\" class=\"colab-df-container\">\n",
              "    <div>\n",
              "<style scoped>\n",
              "    .dataframe tbody tr th:only-of-type {\n",
              "        vertical-align: middle;\n",
              "    }\n",
              "\n",
              "    .dataframe tbody tr th {\n",
              "        vertical-align: top;\n",
              "    }\n",
              "\n",
              "    .dataframe thead th {\n",
              "        text-align: right;\n",
              "    }\n",
              "</style>\n",
              "<table border=\"1\" class=\"dataframe\">\n",
              "  <thead>\n",
              "    <tr style=\"text-align: right;\">\n",
              "      <th></th>\n",
              "      <th>LAT</th>\n",
              "      <th>LON</th>\n",
              "      <th>Precipitation</th>\n",
              "      <th>LST</th>\n",
              "      <th>AAI</th>\n",
              "      <th>CloudFraction</th>\n",
              "      <th>NO2_strat</th>\n",
              "      <th>NO2_total</th>\n",
              "      <th>TropopausePressure</th>\n",
              "      <th>GT_NO2</th>\n",
              "      <th>Day</th>\n",
              "      <th>Month</th>\n",
              "      <th>Year</th>\n",
              "      <th>NO2_trop</th>\n",
              "    </tr>\n",
              "  </thead>\n",
              "  <tbody>\n",
              "    <tr>\n",
              "      <th>0</th>\n",
              "      <td>45.601585</td>\n",
              "      <td>11.903551</td>\n",
              "      <td>0.000000</td>\n",
              "      <td>282.546835</td>\n",
              "      <td>0.230527</td>\n",
              "      <td>0.559117</td>\n",
              "      <td>0.000024</td>\n",
              "      <td>0.000117</td>\n",
              "      <td>14440.82126</td>\n",
              "      <td>31.0</td>\n",
              "      <td>1.0</td>\n",
              "      <td>1.0</td>\n",
              "      <td>2019.0</td>\n",
              "      <td>NaN</td>\n",
              "    </tr>\n",
              "    <tr>\n",
              "      <th>1</th>\n",
              "      <td>45.371005</td>\n",
              "      <td>11.840830</td>\n",
              "      <td>3.047342</td>\n",
              "      <td>280.390662</td>\n",
              "      <td>-0.074006</td>\n",
              "      <td>0.869309</td>\n",
              "      <td>0.000024</td>\n",
              "      <td>0.000127</td>\n",
              "      <td>14441.79815</td>\n",
              "      <td>42.0</td>\n",
              "      <td>1.0</td>\n",
              "      <td>1.0</td>\n",
              "      <td>2019.0</td>\n",
              "      <td>NaN</td>\n",
              "    </tr>\n",
              "    <tr>\n",
              "      <th>2</th>\n",
              "      <td>45.045825</td>\n",
              "      <td>12.060869</td>\n",
              "      <td>0.000000</td>\n",
              "      <td>282.394977</td>\n",
              "      <td>0.024470</td>\n",
              "      <td>0.674160</td>\n",
              "      <td>0.000024</td>\n",
              "      <td>0.000086</td>\n",
              "      <td>14437.38294</td>\n",
              "      <td>31.0</td>\n",
              "      <td>1.0</td>\n",
              "      <td>1.0</td>\n",
              "      <td>2019.0</td>\n",
              "      <td>NaN</td>\n",
              "    </tr>\n",
              "    <tr>\n",
              "      <th>3</th>\n",
              "      <td>45.104075</td>\n",
              "      <td>11.553241</td>\n",
              "      <td>1.200467</td>\n",
              "      <td>282.522163</td>\n",
              "      <td>-0.010442</td>\n",
              "      <td>0.920054</td>\n",
              "      <td>0.000024</td>\n",
              "      <td>0.000124</td>\n",
              "      <td>14440.83831</td>\n",
              "      <td>30.0</td>\n",
              "      <td>1.0</td>\n",
              "      <td>1.0</td>\n",
              "      <td>2019.0</td>\n",
              "      <td>NaN</td>\n",
              "    </tr>\n",
              "    <tr>\n",
              "      <th>4</th>\n",
              "      <td>45.038758</td>\n",
              "      <td>11.790152</td>\n",
              "      <td>1.274564</td>\n",
              "      <td>282.642766</td>\n",
              "      <td>-0.176178</td>\n",
              "      <td>0.747464</td>\n",
              "      <td>0.000024</td>\n",
              "      <td>0.000116</td>\n",
              "      <td>14438.79037</td>\n",
              "      <td>58.0</td>\n",
              "      <td>1.0</td>\n",
              "      <td>1.0</td>\n",
              "      <td>2019.0</td>\n",
              "      <td>NaN</td>\n",
              "    </tr>\n",
              "  </tbody>\n",
              "</table>\n",
              "</div>\n",
              "    <div class=\"colab-df-buttons\">\n",
              "\n",
              "  <div class=\"colab-df-container\">\n",
              "    <button class=\"colab-df-convert\" onclick=\"convertToInteractive('df-8b7981ad-05ab-4a43-8c55-0249fd99941d')\"\n",
              "            title=\"Convert this dataframe to an interactive table.\"\n",
              "            style=\"display:none;\">\n",
              "\n",
              "  <svg xmlns=\"http://www.w3.org/2000/svg\" height=\"24px\" viewBox=\"0 -960 960 960\">\n",
              "    <path d=\"M120-120v-720h720v720H120Zm60-500h600v-160H180v160Zm220 220h160v-160H400v160Zm0 220h160v-160H400v160ZM180-400h160v-160H180v160Zm440 0h160v-160H620v160ZM180-180h160v-160H180v160Zm440 0h160v-160H620v160Z\"/>\n",
              "  </svg>\n",
              "    </button>\n",
              "\n",
              "  <style>\n",
              "    .colab-df-container {\n",
              "      display:flex;\n",
              "      gap: 12px;\n",
              "    }\n",
              "\n",
              "    .colab-df-convert {\n",
              "      background-color: #E8F0FE;\n",
              "      border: none;\n",
              "      border-radius: 50%;\n",
              "      cursor: pointer;\n",
              "      display: none;\n",
              "      fill: #1967D2;\n",
              "      height: 32px;\n",
              "      padding: 0 0 0 0;\n",
              "      width: 32px;\n",
              "    }\n",
              "\n",
              "    .colab-df-convert:hover {\n",
              "      background-color: #E2EBFA;\n",
              "      box-shadow: 0px 1px 2px rgba(60, 64, 67, 0.3), 0px 1px 3px 1px rgba(60, 64, 67, 0.15);\n",
              "      fill: #174EA6;\n",
              "    }\n",
              "\n",
              "    .colab-df-buttons div {\n",
              "      margin-bottom: 4px;\n",
              "    }\n",
              "\n",
              "    [theme=dark] .colab-df-convert {\n",
              "      background-color: #3B4455;\n",
              "      fill: #D2E3FC;\n",
              "    }\n",
              "\n",
              "    [theme=dark] .colab-df-convert:hover {\n",
              "      background-color: #434B5C;\n",
              "      box-shadow: 0px 1px 3px 1px rgba(0, 0, 0, 0.15);\n",
              "      filter: drop-shadow(0px 1px 2px rgba(0, 0, 0, 0.3));\n",
              "      fill: #FFFFFF;\n",
              "    }\n",
              "  </style>\n",
              "\n",
              "    <script>\n",
              "      const buttonEl =\n",
              "        document.querySelector('#df-8b7981ad-05ab-4a43-8c55-0249fd99941d button.colab-df-convert');\n",
              "      buttonEl.style.display =\n",
              "        google.colab.kernel.accessAllowed ? 'block' : 'none';\n",
              "\n",
              "      async function convertToInteractive(key) {\n",
              "        const element = document.querySelector('#df-8b7981ad-05ab-4a43-8c55-0249fd99941d');\n",
              "        const dataTable =\n",
              "          await google.colab.kernel.invokeFunction('convertToInteractive',\n",
              "                                                    [key], {});\n",
              "        if (!dataTable) return;\n",
              "\n",
              "        const docLinkHtml = 'Like what you see? Visit the ' +\n",
              "          '<a target=\"_blank\" href=https://colab.research.google.com/notebooks/data_table.ipynb>data table notebook</a>'\n",
              "          + ' to learn more about interactive tables.';\n",
              "        element.innerHTML = '';\n",
              "        dataTable['output_type'] = 'display_data';\n",
              "        await google.colab.output.renderOutput(dataTable, element);\n",
              "        const docLink = document.createElement('div');\n",
              "        docLink.innerHTML = docLinkHtml;\n",
              "        element.appendChild(docLink);\n",
              "      }\n",
              "    </script>\n",
              "  </div>\n",
              "\n",
              "\n",
              "<div id=\"df-a2216494-ea00-4dd8-b513-a21ed352561f\">\n",
              "  <button class=\"colab-df-quickchart\" onclick=\"quickchart('df-a2216494-ea00-4dd8-b513-a21ed352561f')\"\n",
              "            title=\"Suggest charts\"\n",
              "            style=\"display:none;\">\n",
              "\n",
              "<svg xmlns=\"http://www.w3.org/2000/svg\" height=\"24px\"viewBox=\"0 0 24 24\"\n",
              "     width=\"24px\">\n",
              "    <g>\n",
              "        <path d=\"M19 3H5c-1.1 0-2 .9-2 2v14c0 1.1.9 2 2 2h14c1.1 0 2-.9 2-2V5c0-1.1-.9-2-2-2zM9 17H7v-7h2v7zm4 0h-2V7h2v10zm4 0h-2v-4h2v4z\"/>\n",
              "    </g>\n",
              "</svg>\n",
              "  </button>\n",
              "\n",
              "<style>\n",
              "  .colab-df-quickchart {\n",
              "      --bg-color: #E8F0FE;\n",
              "      --fill-color: #1967D2;\n",
              "      --hover-bg-color: #E2EBFA;\n",
              "      --hover-fill-color: #174EA6;\n",
              "      --disabled-fill-color: #AAA;\n",
              "      --disabled-bg-color: #DDD;\n",
              "  }\n",
              "\n",
              "  [theme=dark] .colab-df-quickchart {\n",
              "      --bg-color: #3B4455;\n",
              "      --fill-color: #D2E3FC;\n",
              "      --hover-bg-color: #434B5C;\n",
              "      --hover-fill-color: #FFFFFF;\n",
              "      --disabled-bg-color: #3B4455;\n",
              "      --disabled-fill-color: #666;\n",
              "  }\n",
              "\n",
              "  .colab-df-quickchart {\n",
              "    background-color: var(--bg-color);\n",
              "    border: none;\n",
              "    border-radius: 50%;\n",
              "    cursor: pointer;\n",
              "    display: none;\n",
              "    fill: var(--fill-color);\n",
              "    height: 32px;\n",
              "    padding: 0;\n",
              "    width: 32px;\n",
              "  }\n",
              "\n",
              "  .colab-df-quickchart:hover {\n",
              "    background-color: var(--hover-bg-color);\n",
              "    box-shadow: 0 1px 2px rgba(60, 64, 67, 0.3), 0 1px 3px 1px rgba(60, 64, 67, 0.15);\n",
              "    fill: var(--button-hover-fill-color);\n",
              "  }\n",
              "\n",
              "  .colab-df-quickchart-complete:disabled,\n",
              "  .colab-df-quickchart-complete:disabled:hover {\n",
              "    background-color: var(--disabled-bg-color);\n",
              "    fill: var(--disabled-fill-color);\n",
              "    box-shadow: none;\n",
              "  }\n",
              "\n",
              "  .colab-df-spinner {\n",
              "    border: 2px solid var(--fill-color);\n",
              "    border-color: transparent;\n",
              "    border-bottom-color: var(--fill-color);\n",
              "    animation:\n",
              "      spin 1s steps(1) infinite;\n",
              "  }\n",
              "\n",
              "  @keyframes spin {\n",
              "    0% {\n",
              "      border-color: transparent;\n",
              "      border-bottom-color: var(--fill-color);\n",
              "      border-left-color: var(--fill-color);\n",
              "    }\n",
              "    20% {\n",
              "      border-color: transparent;\n",
              "      border-left-color: var(--fill-color);\n",
              "      border-top-color: var(--fill-color);\n",
              "    }\n",
              "    30% {\n",
              "      border-color: transparent;\n",
              "      border-left-color: var(--fill-color);\n",
              "      border-top-color: var(--fill-color);\n",
              "      border-right-color: var(--fill-color);\n",
              "    }\n",
              "    40% {\n",
              "      border-color: transparent;\n",
              "      border-right-color: var(--fill-color);\n",
              "      border-top-color: var(--fill-color);\n",
              "    }\n",
              "    60% {\n",
              "      border-color: transparent;\n",
              "      border-right-color: var(--fill-color);\n",
              "    }\n",
              "    80% {\n",
              "      border-color: transparent;\n",
              "      border-right-color: var(--fill-color);\n",
              "      border-bottom-color: var(--fill-color);\n",
              "    }\n",
              "    90% {\n",
              "      border-color: transparent;\n",
              "      border-bottom-color: var(--fill-color);\n",
              "    }\n",
              "  }\n",
              "</style>\n",
              "\n",
              "  <script>\n",
              "    async function quickchart(key) {\n",
              "      const quickchartButtonEl =\n",
              "        document.querySelector('#' + key + ' button');\n",
              "      quickchartButtonEl.disabled = true;  // To prevent multiple clicks.\n",
              "      quickchartButtonEl.classList.add('colab-df-spinner');\n",
              "      try {\n",
              "        const charts = await google.colab.kernel.invokeFunction(\n",
              "            'suggestCharts', [key], {});\n",
              "      } catch (error) {\n",
              "        console.error('Error during call to suggestCharts:', error);\n",
              "      }\n",
              "      quickchartButtonEl.classList.remove('colab-df-spinner');\n",
              "      quickchartButtonEl.classList.add('colab-df-quickchart-complete');\n",
              "    }\n",
              "    (() => {\n",
              "      let quickchartButtonEl =\n",
              "        document.querySelector('#df-a2216494-ea00-4dd8-b513-a21ed352561f button');\n",
              "      quickchartButtonEl.style.display =\n",
              "        google.colab.kernel.accessAllowed ? 'block' : 'none';\n",
              "    })();\n",
              "  </script>\n",
              "</div>\n",
              "\n",
              "    </div>\n",
              "  </div>\n"
            ],
            "application/vnd.google.colaboratory.intrinsic+json": {
              "type": "dataframe",
              "variable_name": "new_df_trf",
              "summary": "{\n  \"name\": \"new_df_trf\",\n  \"rows\": 86584,\n  \"fields\": [\n    {\n      \"column\": \"LAT\",\n      \"properties\": {\n        \"dtype\": \"number\",\n        \"std\": 0.22540949566498233,\n        \"min\": 44.92469405,\n        \"max\": 45.88973369,\n        \"num_unique_values\": 79,\n        \"samples\": [\n          45.54264789,\n          45.60158469,\n          45.30360787\n        ],\n        \"semantic_type\": \"\",\n        \"description\": \"\"\n      }\n    },\n    {\n      \"column\": \"LON\",\n      \"properties\": {\n        \"dtype\": \"number\",\n        \"std\": 1.0566370652665111,\n        \"min\": 8.736496578,\n        \"max\": 12.59068235,\n        \"num_unique_values\": 79,\n        \"samples\": [\n          10.21120522,\n          11.90355081,\n          8.84480461\n        ],\n        \"semantic_type\": \"\",\n        \"description\": \"\"\n      }\n    },\n    {\n      \"column\": \"Precipitation\",\n      \"properties\": {\n        \"dtype\": \"number\",\n        \"std\": 7.617394210893272,\n        \"min\": 0.0,\n        \"max\": 135.3968048,\n        \"num_unique_values\": 14264,\n        \"samples\": [\n          1.445254445,\n          0.426165134,\n          24.66330719\n        ],\n        \"semantic_type\": \"\",\n        \"description\": \"\"\n      }\n    },\n    {\n      \"column\": \"LST\",\n      \"properties\": {\n        \"dtype\": \"number\",\n        \"std\": 10.730803092052309,\n        \"min\": 253.2,\n        \"max\": 327.84,\n        \"num_unique_values\": 42294,\n        \"samples\": [\n          313.98,\n          286.4200593980442,\n          300.8889198033957\n        ],\n        \"semantic_type\": \"\",\n        \"description\": \"\"\n      }\n    },\n    {\n      \"column\": \"AAI\",\n      \"properties\": {\n        \"dtype\": \"number\",\n        \"std\": 0.66840948073171,\n        \"min\": -5.196266174,\n        \"max\": 2.143020488,\n        \"num_unique_values\": 84343,\n        \"samples\": [\n          -0.525717795,\n          -1.294257427,\n          -1.424178839\n        ],\n        \"semantic_type\": \"\",\n        \"description\": \"\"\n      }\n    },\n    {\n      \"column\": \"CloudFraction\",\n      \"properties\": {\n        \"dtype\": \"number\",\n        \"std\": 0.2608698102255868,\n        \"min\": 0.0,\n        \"max\": 1.000000044,\n        \"num_unique_values\": 76278,\n        \"samples\": [\n          0.31233820985191707,\n          0.080725782,\n          0.015316312\n        ],\n        \"semantic_type\": \"\",\n        \"description\": \"\"\n      }\n    },\n    {\n      \"column\": \"NO2_strat\",\n      \"properties\": {\n        \"dtype\": \"number\",\n        \"std\": 1.2463128040971306e-05,\n        \"min\": 1.34e-05,\n        \"max\": 7.28e-05,\n        \"num_unique_values\": 13444,\n        \"samples\": [\n          3.840580526485316e-05,\n          3.401121517061649e-05,\n          5.090012798855433e-05\n        ],\n        \"semantic_type\": \"\",\n        \"description\": \"\"\n      }\n    },\n    {\n      \"column\": \"NO2_total\",\n      \"properties\": {\n        \"dtype\": \"number\",\n        \"std\": 0.00010395213738127516,\n        \"min\": -1.19e-05,\n        \"max\": 0.002047452,\n        \"num_unique_values\": 14314,\n        \"samples\": [\n          9.552757018602663e-05,\n          5.48e-05,\n          0.00011666332051896483\n        ],\n        \"semantic_type\": \"\",\n        \"description\": \"\"\n      }\n    },\n    {\n      \"column\": \"TropopausePressure\",\n      \"properties\": {\n        \"dtype\": \"number\",\n        \"std\": 2907.3777437344543,\n        \"min\": 8614.349685,\n        \"max\": 24449.00715,\n        \"num_unique_values\": 83563,\n        \"samples\": [\n          19243.91092,\n          22102.4951,\n          16727.56206\n        ],\n        \"semantic_type\": \"\",\n        \"description\": \"\"\n      }\n    },\n    {\n      \"column\": \"GT_NO2\",\n      \"properties\": {\n        \"dtype\": \"number\",\n        \"std\": 17.083583191048078,\n        \"min\": 0.0,\n        \"max\": 188.2333333,\n        \"num_unique_values\": 8778,\n        \"samples\": [\n          49.45,\n          17.3,\n          8.738065952256179\n        ],\n        \"semantic_type\": \"\",\n        \"description\": \"\"\n      }\n    },\n    {\n      \"column\": \"Day\",\n      \"properties\": {\n        \"dtype\": \"number\",\n        \"std\": 8.801420919943839,\n        \"min\": 1.0,\n        \"max\": 31.0,\n        \"num_unique_values\": 31,\n        \"samples\": [\n          9.0,\n          27.0,\n          5.0\n        ],\n        \"semantic_type\": \"\",\n        \"description\": \"\"\n      }\n    },\n    {\n      \"column\": \"Month\",\n      \"properties\": {\n        \"dtype\": \"number\",\n        \"std\": 3.449006128703941,\n        \"min\": 1.0,\n        \"max\": 12.0,\n        \"num_unique_values\": 12,\n        \"samples\": [\n          11.0,\n          10.0,\n          1.0\n        ],\n        \"semantic_type\": \"\",\n        \"description\": \"\"\n      }\n    },\n    {\n      \"column\": \"Year\",\n      \"properties\": {\n        \"dtype\": \"number\",\n        \"std\": 0.8161287195511359,\n        \"min\": 2019.0,\n        \"max\": 2021.0,\n        \"num_unique_values\": 3,\n        \"samples\": [\n          2019.0,\n          2020.0,\n          2021.0\n        ],\n        \"semantic_type\": \"\",\n        \"description\": \"\"\n      }\n    },\n    {\n      \"column\": \"NO2_trop\",\n      \"properties\": {\n        \"dtype\": \"number\",\n        \"std\": 9.2019982794371e-05,\n        \"min\": -2.53e-05,\n        \"max\": 0.001097291,\n        \"num_unique_values\": 1516,\n        \"samples\": [\n          0.000112,\n          0.000269,\n          2.68e-06\n        ],\n        \"semantic_type\": \"\",\n        \"description\": \"\"\n      }\n    }\n  ]\n}"
            }
          },
          "metadata": {},
          "execution_count": 198
        }
      ],
      "source": [
        "new_df_trf.head()"
      ]
    },
    {
      "cell_type": "code",
      "execution_count": 199,
      "id": "IayyoJekXEq_",
      "metadata": {
        "id": "IayyoJekXEq_"
      },
      "outputs": [],
      "source": [
        "new_df_trf = new_df_trf[['LAT', 'LON', 'Precipitation', 'LST', 'AAI',\n",
        "       'CloudFraction', 'NO2_strat', 'NO2_total','NO2_trop',\n",
        "       'TropopausePressure', 'GT_NO2', 'Day', 'Month', 'Year']]"
      ]
    },
    {
      "cell_type": "code",
      "execution_count": 200,
      "id": "252cKTmZNuN3",
      "metadata": {
        "colab": {
          "base_uri": "https://localhost:8080/",
          "height": 443
        },
        "id": "252cKTmZNuN3",
        "outputId": "a237aaa4-799a-4173-ac80-a00f1aa28cbe"
      },
      "outputs": [
        {
          "output_type": "execute_result",
          "data": {
            "text/plain": [
              "             LAT        LON  Precipitation         LST       AAI  \\\n",
              "0      45.601585  11.903551       0.000000  282.546835  0.230527   \n",
              "1      45.371005  11.840830       3.047342  280.390662 -0.074006   \n",
              "2      45.045825  12.060869       0.000000  282.394977  0.024470   \n",
              "3      45.104075  11.553241       1.200467  282.522163 -0.010442   \n",
              "4      45.038758  11.790152       1.274564  282.642766 -0.176178   \n",
              "...          ...        ...            ...         ...       ...   \n",
              "86579  45.498227   9.556232       0.000000  275.463360 -0.434350   \n",
              "86580  45.142541  10.043836       0.000000  279.648648 -0.789369   \n",
              "86581  45.842207   9.351658       0.000000  284.980000 -0.157753   \n",
              "86582  45.113503   8.874065       0.000000  283.990869 -0.798636   \n",
              "86583  45.526473   9.515980       0.000000  275.931548 -0.434482   \n",
              "\n",
              "       CloudFraction  NO2_strat  NO2_total  NO2_trop  TropopausePressure  \\\n",
              "0           0.559117   0.000024   0.000117       NaN        14440.821260   \n",
              "1           0.869309   0.000024   0.000127       NaN        14441.798150   \n",
              "2           0.674160   0.000024   0.000086       NaN        14437.382940   \n",
              "3           0.920054   0.000024   0.000124       NaN        14440.838310   \n",
              "4           0.747464   0.000024   0.000116       NaN        14438.790370   \n",
              "...              ...        ...        ...       ...                 ...   \n",
              "86579       0.250490   0.000032   0.000643       NaN        13063.797700   \n",
              "86580       0.270153   0.000031   0.000477       NaN        17136.562057   \n",
              "86581       0.000000   0.000031   0.000153  0.000122        13050.164990   \n",
              "86582       0.399524   0.000031   0.000717       NaN        13061.413290   \n",
              "86583       0.250530   0.000032   0.000643       NaN        13063.795000   \n",
              "\n",
              "       GT_NO2   Day  Month    Year  \n",
              "0      31.000   1.0    1.0  2019.0  \n",
              "1      42.000   1.0    1.0  2019.0  \n",
              "2      31.000   1.0    1.0  2019.0  \n",
              "3      30.000   1.0    1.0  2019.0  \n",
              "4      58.000   1.0    1.0  2019.0  \n",
              "...       ...   ...    ...     ...  \n",
              "86579  39.750  31.0   12.0  2021.0  \n",
              "86580  30.125  31.0   12.0  2021.0  \n",
              "86581  28.325  31.0   12.0  2021.0  \n",
              "86582  21.250  31.0   12.0  2021.0  \n",
              "86583  40.350  31.0   12.0  2021.0  \n",
              "\n",
              "[86584 rows x 14 columns]"
            ],
            "text/html": [
              "\n",
              "  <div id=\"df-e6e88388-1cf9-4f5c-9bb1-32feca236f4e\" class=\"colab-df-container\">\n",
              "    <div>\n",
              "<style scoped>\n",
              "    .dataframe tbody tr th:only-of-type {\n",
              "        vertical-align: middle;\n",
              "    }\n",
              "\n",
              "    .dataframe tbody tr th {\n",
              "        vertical-align: top;\n",
              "    }\n",
              "\n",
              "    .dataframe thead th {\n",
              "        text-align: right;\n",
              "    }\n",
              "</style>\n",
              "<table border=\"1\" class=\"dataframe\">\n",
              "  <thead>\n",
              "    <tr style=\"text-align: right;\">\n",
              "      <th></th>\n",
              "      <th>LAT</th>\n",
              "      <th>LON</th>\n",
              "      <th>Precipitation</th>\n",
              "      <th>LST</th>\n",
              "      <th>AAI</th>\n",
              "      <th>CloudFraction</th>\n",
              "      <th>NO2_strat</th>\n",
              "      <th>NO2_total</th>\n",
              "      <th>NO2_trop</th>\n",
              "      <th>TropopausePressure</th>\n",
              "      <th>GT_NO2</th>\n",
              "      <th>Day</th>\n",
              "      <th>Month</th>\n",
              "      <th>Year</th>\n",
              "    </tr>\n",
              "  </thead>\n",
              "  <tbody>\n",
              "    <tr>\n",
              "      <th>0</th>\n",
              "      <td>45.601585</td>\n",
              "      <td>11.903551</td>\n",
              "      <td>0.000000</td>\n",
              "      <td>282.546835</td>\n",
              "      <td>0.230527</td>\n",
              "      <td>0.559117</td>\n",
              "      <td>0.000024</td>\n",
              "      <td>0.000117</td>\n",
              "      <td>NaN</td>\n",
              "      <td>14440.821260</td>\n",
              "      <td>31.000</td>\n",
              "      <td>1.0</td>\n",
              "      <td>1.0</td>\n",
              "      <td>2019.0</td>\n",
              "    </tr>\n",
              "    <tr>\n",
              "      <th>1</th>\n",
              "      <td>45.371005</td>\n",
              "      <td>11.840830</td>\n",
              "      <td>3.047342</td>\n",
              "      <td>280.390662</td>\n",
              "      <td>-0.074006</td>\n",
              "      <td>0.869309</td>\n",
              "      <td>0.000024</td>\n",
              "      <td>0.000127</td>\n",
              "      <td>NaN</td>\n",
              "      <td>14441.798150</td>\n",
              "      <td>42.000</td>\n",
              "      <td>1.0</td>\n",
              "      <td>1.0</td>\n",
              "      <td>2019.0</td>\n",
              "    </tr>\n",
              "    <tr>\n",
              "      <th>2</th>\n",
              "      <td>45.045825</td>\n",
              "      <td>12.060869</td>\n",
              "      <td>0.000000</td>\n",
              "      <td>282.394977</td>\n",
              "      <td>0.024470</td>\n",
              "      <td>0.674160</td>\n",
              "      <td>0.000024</td>\n",
              "      <td>0.000086</td>\n",
              "      <td>NaN</td>\n",
              "      <td>14437.382940</td>\n",
              "      <td>31.000</td>\n",
              "      <td>1.0</td>\n",
              "      <td>1.0</td>\n",
              "      <td>2019.0</td>\n",
              "    </tr>\n",
              "    <tr>\n",
              "      <th>3</th>\n",
              "      <td>45.104075</td>\n",
              "      <td>11.553241</td>\n",
              "      <td>1.200467</td>\n",
              "      <td>282.522163</td>\n",
              "      <td>-0.010442</td>\n",
              "      <td>0.920054</td>\n",
              "      <td>0.000024</td>\n",
              "      <td>0.000124</td>\n",
              "      <td>NaN</td>\n",
              "      <td>14440.838310</td>\n",
              "      <td>30.000</td>\n",
              "      <td>1.0</td>\n",
              "      <td>1.0</td>\n",
              "      <td>2019.0</td>\n",
              "    </tr>\n",
              "    <tr>\n",
              "      <th>4</th>\n",
              "      <td>45.038758</td>\n",
              "      <td>11.790152</td>\n",
              "      <td>1.274564</td>\n",
              "      <td>282.642766</td>\n",
              "      <td>-0.176178</td>\n",
              "      <td>0.747464</td>\n",
              "      <td>0.000024</td>\n",
              "      <td>0.000116</td>\n",
              "      <td>NaN</td>\n",
              "      <td>14438.790370</td>\n",
              "      <td>58.000</td>\n",
              "      <td>1.0</td>\n",
              "      <td>1.0</td>\n",
              "      <td>2019.0</td>\n",
              "    </tr>\n",
              "    <tr>\n",
              "      <th>...</th>\n",
              "      <td>...</td>\n",
              "      <td>...</td>\n",
              "      <td>...</td>\n",
              "      <td>...</td>\n",
              "      <td>...</td>\n",
              "      <td>...</td>\n",
              "      <td>...</td>\n",
              "      <td>...</td>\n",
              "      <td>...</td>\n",
              "      <td>...</td>\n",
              "      <td>...</td>\n",
              "      <td>...</td>\n",
              "      <td>...</td>\n",
              "      <td>...</td>\n",
              "    </tr>\n",
              "    <tr>\n",
              "      <th>86579</th>\n",
              "      <td>45.498227</td>\n",
              "      <td>9.556232</td>\n",
              "      <td>0.000000</td>\n",
              "      <td>275.463360</td>\n",
              "      <td>-0.434350</td>\n",
              "      <td>0.250490</td>\n",
              "      <td>0.000032</td>\n",
              "      <td>0.000643</td>\n",
              "      <td>NaN</td>\n",
              "      <td>13063.797700</td>\n",
              "      <td>39.750</td>\n",
              "      <td>31.0</td>\n",
              "      <td>12.0</td>\n",
              "      <td>2021.0</td>\n",
              "    </tr>\n",
              "    <tr>\n",
              "      <th>86580</th>\n",
              "      <td>45.142541</td>\n",
              "      <td>10.043836</td>\n",
              "      <td>0.000000</td>\n",
              "      <td>279.648648</td>\n",
              "      <td>-0.789369</td>\n",
              "      <td>0.270153</td>\n",
              "      <td>0.000031</td>\n",
              "      <td>0.000477</td>\n",
              "      <td>NaN</td>\n",
              "      <td>17136.562057</td>\n",
              "      <td>30.125</td>\n",
              "      <td>31.0</td>\n",
              "      <td>12.0</td>\n",
              "      <td>2021.0</td>\n",
              "    </tr>\n",
              "    <tr>\n",
              "      <th>86581</th>\n",
              "      <td>45.842207</td>\n",
              "      <td>9.351658</td>\n",
              "      <td>0.000000</td>\n",
              "      <td>284.980000</td>\n",
              "      <td>-0.157753</td>\n",
              "      <td>0.000000</td>\n",
              "      <td>0.000031</td>\n",
              "      <td>0.000153</td>\n",
              "      <td>0.000122</td>\n",
              "      <td>13050.164990</td>\n",
              "      <td>28.325</td>\n",
              "      <td>31.0</td>\n",
              "      <td>12.0</td>\n",
              "      <td>2021.0</td>\n",
              "    </tr>\n",
              "    <tr>\n",
              "      <th>86582</th>\n",
              "      <td>45.113503</td>\n",
              "      <td>8.874065</td>\n",
              "      <td>0.000000</td>\n",
              "      <td>283.990869</td>\n",
              "      <td>-0.798636</td>\n",
              "      <td>0.399524</td>\n",
              "      <td>0.000031</td>\n",
              "      <td>0.000717</td>\n",
              "      <td>NaN</td>\n",
              "      <td>13061.413290</td>\n",
              "      <td>21.250</td>\n",
              "      <td>31.0</td>\n",
              "      <td>12.0</td>\n",
              "      <td>2021.0</td>\n",
              "    </tr>\n",
              "    <tr>\n",
              "      <th>86583</th>\n",
              "      <td>45.526473</td>\n",
              "      <td>9.515980</td>\n",
              "      <td>0.000000</td>\n",
              "      <td>275.931548</td>\n",
              "      <td>-0.434482</td>\n",
              "      <td>0.250530</td>\n",
              "      <td>0.000032</td>\n",
              "      <td>0.000643</td>\n",
              "      <td>NaN</td>\n",
              "      <td>13063.795000</td>\n",
              "      <td>40.350</td>\n",
              "      <td>31.0</td>\n",
              "      <td>12.0</td>\n",
              "      <td>2021.0</td>\n",
              "    </tr>\n",
              "  </tbody>\n",
              "</table>\n",
              "<p>86584 rows × 14 columns</p>\n",
              "</div>\n",
              "    <div class=\"colab-df-buttons\">\n",
              "\n",
              "  <div class=\"colab-df-container\">\n",
              "    <button class=\"colab-df-convert\" onclick=\"convertToInteractive('df-e6e88388-1cf9-4f5c-9bb1-32feca236f4e')\"\n",
              "            title=\"Convert this dataframe to an interactive table.\"\n",
              "            style=\"display:none;\">\n",
              "\n",
              "  <svg xmlns=\"http://www.w3.org/2000/svg\" height=\"24px\" viewBox=\"0 -960 960 960\">\n",
              "    <path d=\"M120-120v-720h720v720H120Zm60-500h600v-160H180v160Zm220 220h160v-160H400v160Zm0 220h160v-160H400v160ZM180-400h160v-160H180v160Zm440 0h160v-160H620v160ZM180-180h160v-160H180v160Zm440 0h160v-160H620v160Z\"/>\n",
              "  </svg>\n",
              "    </button>\n",
              "\n",
              "  <style>\n",
              "    .colab-df-container {\n",
              "      display:flex;\n",
              "      gap: 12px;\n",
              "    }\n",
              "\n",
              "    .colab-df-convert {\n",
              "      background-color: #E8F0FE;\n",
              "      border: none;\n",
              "      border-radius: 50%;\n",
              "      cursor: pointer;\n",
              "      display: none;\n",
              "      fill: #1967D2;\n",
              "      height: 32px;\n",
              "      padding: 0 0 0 0;\n",
              "      width: 32px;\n",
              "    }\n",
              "\n",
              "    .colab-df-convert:hover {\n",
              "      background-color: #E2EBFA;\n",
              "      box-shadow: 0px 1px 2px rgba(60, 64, 67, 0.3), 0px 1px 3px 1px rgba(60, 64, 67, 0.15);\n",
              "      fill: #174EA6;\n",
              "    }\n",
              "\n",
              "    .colab-df-buttons div {\n",
              "      margin-bottom: 4px;\n",
              "    }\n",
              "\n",
              "    [theme=dark] .colab-df-convert {\n",
              "      background-color: #3B4455;\n",
              "      fill: #D2E3FC;\n",
              "    }\n",
              "\n",
              "    [theme=dark] .colab-df-convert:hover {\n",
              "      background-color: #434B5C;\n",
              "      box-shadow: 0px 1px 3px 1px rgba(0, 0, 0, 0.15);\n",
              "      filter: drop-shadow(0px 1px 2px rgba(0, 0, 0, 0.3));\n",
              "      fill: #FFFFFF;\n",
              "    }\n",
              "  </style>\n",
              "\n",
              "    <script>\n",
              "      const buttonEl =\n",
              "        document.querySelector('#df-e6e88388-1cf9-4f5c-9bb1-32feca236f4e button.colab-df-convert');\n",
              "      buttonEl.style.display =\n",
              "        google.colab.kernel.accessAllowed ? 'block' : 'none';\n",
              "\n",
              "      async function convertToInteractive(key) {\n",
              "        const element = document.querySelector('#df-e6e88388-1cf9-4f5c-9bb1-32feca236f4e');\n",
              "        const dataTable =\n",
              "          await google.colab.kernel.invokeFunction('convertToInteractive',\n",
              "                                                    [key], {});\n",
              "        if (!dataTable) return;\n",
              "\n",
              "        const docLinkHtml = 'Like what you see? Visit the ' +\n",
              "          '<a target=\"_blank\" href=https://colab.research.google.com/notebooks/data_table.ipynb>data table notebook</a>'\n",
              "          + ' to learn more about interactive tables.';\n",
              "        element.innerHTML = '';\n",
              "        dataTable['output_type'] = 'display_data';\n",
              "        await google.colab.output.renderOutput(dataTable, element);\n",
              "        const docLink = document.createElement('div');\n",
              "        docLink.innerHTML = docLinkHtml;\n",
              "        element.appendChild(docLink);\n",
              "      }\n",
              "    </script>\n",
              "  </div>\n",
              "\n",
              "\n",
              "<div id=\"df-a60222c6-7558-4f2b-89e0-6d7d6713d427\">\n",
              "  <button class=\"colab-df-quickchart\" onclick=\"quickchart('df-a60222c6-7558-4f2b-89e0-6d7d6713d427')\"\n",
              "            title=\"Suggest charts\"\n",
              "            style=\"display:none;\">\n",
              "\n",
              "<svg xmlns=\"http://www.w3.org/2000/svg\" height=\"24px\"viewBox=\"0 0 24 24\"\n",
              "     width=\"24px\">\n",
              "    <g>\n",
              "        <path d=\"M19 3H5c-1.1 0-2 .9-2 2v14c0 1.1.9 2 2 2h14c1.1 0 2-.9 2-2V5c0-1.1-.9-2-2-2zM9 17H7v-7h2v7zm4 0h-2V7h2v10zm4 0h-2v-4h2v4z\"/>\n",
              "    </g>\n",
              "</svg>\n",
              "  </button>\n",
              "\n",
              "<style>\n",
              "  .colab-df-quickchart {\n",
              "      --bg-color: #E8F0FE;\n",
              "      --fill-color: #1967D2;\n",
              "      --hover-bg-color: #E2EBFA;\n",
              "      --hover-fill-color: #174EA6;\n",
              "      --disabled-fill-color: #AAA;\n",
              "      --disabled-bg-color: #DDD;\n",
              "  }\n",
              "\n",
              "  [theme=dark] .colab-df-quickchart {\n",
              "      --bg-color: #3B4455;\n",
              "      --fill-color: #D2E3FC;\n",
              "      --hover-bg-color: #434B5C;\n",
              "      --hover-fill-color: #FFFFFF;\n",
              "      --disabled-bg-color: #3B4455;\n",
              "      --disabled-fill-color: #666;\n",
              "  }\n",
              "\n",
              "  .colab-df-quickchart {\n",
              "    background-color: var(--bg-color);\n",
              "    border: none;\n",
              "    border-radius: 50%;\n",
              "    cursor: pointer;\n",
              "    display: none;\n",
              "    fill: var(--fill-color);\n",
              "    height: 32px;\n",
              "    padding: 0;\n",
              "    width: 32px;\n",
              "  }\n",
              "\n",
              "  .colab-df-quickchart:hover {\n",
              "    background-color: var(--hover-bg-color);\n",
              "    box-shadow: 0 1px 2px rgba(60, 64, 67, 0.3), 0 1px 3px 1px rgba(60, 64, 67, 0.15);\n",
              "    fill: var(--button-hover-fill-color);\n",
              "  }\n",
              "\n",
              "  .colab-df-quickchart-complete:disabled,\n",
              "  .colab-df-quickchart-complete:disabled:hover {\n",
              "    background-color: var(--disabled-bg-color);\n",
              "    fill: var(--disabled-fill-color);\n",
              "    box-shadow: none;\n",
              "  }\n",
              "\n",
              "  .colab-df-spinner {\n",
              "    border: 2px solid var(--fill-color);\n",
              "    border-color: transparent;\n",
              "    border-bottom-color: var(--fill-color);\n",
              "    animation:\n",
              "      spin 1s steps(1) infinite;\n",
              "  }\n",
              "\n",
              "  @keyframes spin {\n",
              "    0% {\n",
              "      border-color: transparent;\n",
              "      border-bottom-color: var(--fill-color);\n",
              "      border-left-color: var(--fill-color);\n",
              "    }\n",
              "    20% {\n",
              "      border-color: transparent;\n",
              "      border-left-color: var(--fill-color);\n",
              "      border-top-color: var(--fill-color);\n",
              "    }\n",
              "    30% {\n",
              "      border-color: transparent;\n",
              "      border-left-color: var(--fill-color);\n",
              "      border-top-color: var(--fill-color);\n",
              "      border-right-color: var(--fill-color);\n",
              "    }\n",
              "    40% {\n",
              "      border-color: transparent;\n",
              "      border-right-color: var(--fill-color);\n",
              "      border-top-color: var(--fill-color);\n",
              "    }\n",
              "    60% {\n",
              "      border-color: transparent;\n",
              "      border-right-color: var(--fill-color);\n",
              "    }\n",
              "    80% {\n",
              "      border-color: transparent;\n",
              "      border-right-color: var(--fill-color);\n",
              "      border-bottom-color: var(--fill-color);\n",
              "    }\n",
              "    90% {\n",
              "      border-color: transparent;\n",
              "      border-bottom-color: var(--fill-color);\n",
              "    }\n",
              "  }\n",
              "</style>\n",
              "\n",
              "  <script>\n",
              "    async function quickchart(key) {\n",
              "      const quickchartButtonEl =\n",
              "        document.querySelector('#' + key + ' button');\n",
              "      quickchartButtonEl.disabled = true;  // To prevent multiple clicks.\n",
              "      quickchartButtonEl.classList.add('colab-df-spinner');\n",
              "      try {\n",
              "        const charts = await google.colab.kernel.invokeFunction(\n",
              "            'suggestCharts', [key], {});\n",
              "      } catch (error) {\n",
              "        console.error('Error during call to suggestCharts:', error);\n",
              "      }\n",
              "      quickchartButtonEl.classList.remove('colab-df-spinner');\n",
              "      quickchartButtonEl.classList.add('colab-df-quickchart-complete');\n",
              "    }\n",
              "    (() => {\n",
              "      let quickchartButtonEl =\n",
              "        document.querySelector('#df-a60222c6-7558-4f2b-89e0-6d7d6713d427 button');\n",
              "      quickchartButtonEl.style.display =\n",
              "        google.colab.kernel.accessAllowed ? 'block' : 'none';\n",
              "    })();\n",
              "  </script>\n",
              "</div>\n",
              "\n",
              "  <div id=\"id_5190010f-a384-47e1-8606-ebe444cc3fb6\">\n",
              "    <style>\n",
              "      .colab-df-generate {\n",
              "        background-color: #E8F0FE;\n",
              "        border: none;\n",
              "        border-radius: 50%;\n",
              "        cursor: pointer;\n",
              "        display: none;\n",
              "        fill: #1967D2;\n",
              "        height: 32px;\n",
              "        padding: 0 0 0 0;\n",
              "        width: 32px;\n",
              "      }\n",
              "\n",
              "      .colab-df-generate:hover {\n",
              "        background-color: #E2EBFA;\n",
              "        box-shadow: 0px 1px 2px rgba(60, 64, 67, 0.3), 0px 1px 3px 1px rgba(60, 64, 67, 0.15);\n",
              "        fill: #174EA6;\n",
              "      }\n",
              "\n",
              "      [theme=dark] .colab-df-generate {\n",
              "        background-color: #3B4455;\n",
              "        fill: #D2E3FC;\n",
              "      }\n",
              "\n",
              "      [theme=dark] .colab-df-generate:hover {\n",
              "        background-color: #434B5C;\n",
              "        box-shadow: 0px 1px 3px 1px rgba(0, 0, 0, 0.15);\n",
              "        filter: drop-shadow(0px 1px 2px rgba(0, 0, 0, 0.3));\n",
              "        fill: #FFFFFF;\n",
              "      }\n",
              "    </style>\n",
              "    <button class=\"colab-df-generate\" onclick=\"generateWithVariable('new_df_trf')\"\n",
              "            title=\"Generate code using this dataframe.\"\n",
              "            style=\"display:none;\">\n",
              "\n",
              "  <svg xmlns=\"http://www.w3.org/2000/svg\" height=\"24px\"viewBox=\"0 0 24 24\"\n",
              "       width=\"24px\">\n",
              "    <path d=\"M7,19H8.4L18.45,9,17,7.55,7,17.6ZM5,21V16.75L18.45,3.32a2,2,0,0,1,2.83,0l1.4,1.43a1.91,1.91,0,0,1,.58,1.4,1.91,1.91,0,0,1-.58,1.4L9.25,21ZM18.45,9,17,7.55Zm-12,3A5.31,5.31,0,0,0,4.9,8.1,5.31,5.31,0,0,0,1,6.5,5.31,5.31,0,0,0,4.9,4.9,5.31,5.31,0,0,0,6.5,1,5.31,5.31,0,0,0,8.1,4.9,5.31,5.31,0,0,0,12,6.5,5.46,5.46,0,0,0,6.5,12Z\"/>\n",
              "  </svg>\n",
              "    </button>\n",
              "    <script>\n",
              "      (() => {\n",
              "      const buttonEl =\n",
              "        document.querySelector('#id_5190010f-a384-47e1-8606-ebe444cc3fb6 button.colab-df-generate');\n",
              "      buttonEl.style.display =\n",
              "        google.colab.kernel.accessAllowed ? 'block' : 'none';\n",
              "\n",
              "      buttonEl.onclick = () => {\n",
              "        google.colab.notebook.generateWithVariable('new_df_trf');\n",
              "      }\n",
              "      })();\n",
              "    </script>\n",
              "  </div>\n",
              "\n",
              "    </div>\n",
              "  </div>\n"
            ],
            "application/vnd.google.colaboratory.intrinsic+json": {
              "type": "dataframe",
              "variable_name": "new_df_trf",
              "summary": "{\n  \"name\": \"new_df_trf\",\n  \"rows\": 86584,\n  \"fields\": [\n    {\n      \"column\": \"LAT\",\n      \"properties\": {\n        \"dtype\": \"number\",\n        \"std\": 0.22540949566498233,\n        \"min\": 44.92469405,\n        \"max\": 45.88973369,\n        \"num_unique_values\": 79,\n        \"samples\": [\n          45.54264789,\n          45.60158469,\n          45.30360787\n        ],\n        \"semantic_type\": \"\",\n        \"description\": \"\"\n      }\n    },\n    {\n      \"column\": \"LON\",\n      \"properties\": {\n        \"dtype\": \"number\",\n        \"std\": 1.0566370652665111,\n        \"min\": 8.736496578,\n        \"max\": 12.59068235,\n        \"num_unique_values\": 79,\n        \"samples\": [\n          10.21120522,\n          11.90355081,\n          8.84480461\n        ],\n        \"semantic_type\": \"\",\n        \"description\": \"\"\n      }\n    },\n    {\n      \"column\": \"Precipitation\",\n      \"properties\": {\n        \"dtype\": \"number\",\n        \"std\": 7.617394210893272,\n        \"min\": 0.0,\n        \"max\": 135.3968048,\n        \"num_unique_values\": 14264,\n        \"samples\": [\n          1.445254445,\n          0.426165134,\n          24.66330719\n        ],\n        \"semantic_type\": \"\",\n        \"description\": \"\"\n      }\n    },\n    {\n      \"column\": \"LST\",\n      \"properties\": {\n        \"dtype\": \"number\",\n        \"std\": 10.730803092052309,\n        \"min\": 253.2,\n        \"max\": 327.84,\n        \"num_unique_values\": 42294,\n        \"samples\": [\n          313.98,\n          286.4200593980442,\n          300.8889198033957\n        ],\n        \"semantic_type\": \"\",\n        \"description\": \"\"\n      }\n    },\n    {\n      \"column\": \"AAI\",\n      \"properties\": {\n        \"dtype\": \"number\",\n        \"std\": 0.66840948073171,\n        \"min\": -5.196266174,\n        \"max\": 2.143020488,\n        \"num_unique_values\": 84343,\n        \"samples\": [\n          -0.525717795,\n          -1.294257427,\n          -1.424178839\n        ],\n        \"semantic_type\": \"\",\n        \"description\": \"\"\n      }\n    },\n    {\n      \"column\": \"CloudFraction\",\n      \"properties\": {\n        \"dtype\": \"number\",\n        \"std\": 0.2608698102255868,\n        \"min\": 0.0,\n        \"max\": 1.000000044,\n        \"num_unique_values\": 76278,\n        \"samples\": [\n          0.31233820985191707,\n          0.080725782,\n          0.015316312\n        ],\n        \"semantic_type\": \"\",\n        \"description\": \"\"\n      }\n    },\n    {\n      \"column\": \"NO2_strat\",\n      \"properties\": {\n        \"dtype\": \"number\",\n        \"std\": 1.2463128040971306e-05,\n        \"min\": 1.34e-05,\n        \"max\": 7.28e-05,\n        \"num_unique_values\": 13444,\n        \"samples\": [\n          3.840580526485316e-05,\n          3.401121517061649e-05,\n          5.090012798855433e-05\n        ],\n        \"semantic_type\": \"\",\n        \"description\": \"\"\n      }\n    },\n    {\n      \"column\": \"NO2_total\",\n      \"properties\": {\n        \"dtype\": \"number\",\n        \"std\": 0.00010395213738127516,\n        \"min\": -1.19e-05,\n        \"max\": 0.002047452,\n        \"num_unique_values\": 14314,\n        \"samples\": [\n          9.552757018602663e-05,\n          5.48e-05,\n          0.00011666332051896483\n        ],\n        \"semantic_type\": \"\",\n        \"description\": \"\"\n      }\n    },\n    {\n      \"column\": \"NO2_trop\",\n      \"properties\": {\n        \"dtype\": \"number\",\n        \"std\": 9.2019982794371e-05,\n        \"min\": -2.53e-05,\n        \"max\": 0.001097291,\n        \"num_unique_values\": 1516,\n        \"samples\": [\n          0.000112,\n          0.000269,\n          2.68e-06\n        ],\n        \"semantic_type\": \"\",\n        \"description\": \"\"\n      }\n    },\n    {\n      \"column\": \"TropopausePressure\",\n      \"properties\": {\n        \"dtype\": \"number\",\n        \"std\": 2907.3777437344543,\n        \"min\": 8614.349685,\n        \"max\": 24449.00715,\n        \"num_unique_values\": 83563,\n        \"samples\": [\n          19243.91092,\n          22102.4951,\n          16727.56206\n        ],\n        \"semantic_type\": \"\",\n        \"description\": \"\"\n      }\n    },\n    {\n      \"column\": \"GT_NO2\",\n      \"properties\": {\n        \"dtype\": \"number\",\n        \"std\": 17.083583191048078,\n        \"min\": 0.0,\n        \"max\": 188.2333333,\n        \"num_unique_values\": 8778,\n        \"samples\": [\n          49.45,\n          17.3,\n          8.738065952256179\n        ],\n        \"semantic_type\": \"\",\n        \"description\": \"\"\n      }\n    },\n    {\n      \"column\": \"Day\",\n      \"properties\": {\n        \"dtype\": \"number\",\n        \"std\": 8.801420919943839,\n        \"min\": 1.0,\n        \"max\": 31.0,\n        \"num_unique_values\": 31,\n        \"samples\": [\n          9.0,\n          27.0,\n          5.0\n        ],\n        \"semantic_type\": \"\",\n        \"description\": \"\"\n      }\n    },\n    {\n      \"column\": \"Month\",\n      \"properties\": {\n        \"dtype\": \"number\",\n        \"std\": 3.449006128703941,\n        \"min\": 1.0,\n        \"max\": 12.0,\n        \"num_unique_values\": 12,\n        \"samples\": [\n          11.0,\n          10.0,\n          1.0\n        ],\n        \"semantic_type\": \"\",\n        \"description\": \"\"\n      }\n    },\n    {\n      \"column\": \"Year\",\n      \"properties\": {\n        \"dtype\": \"number\",\n        \"std\": 0.8161287195511359,\n        \"min\": 2019.0,\n        \"max\": 2021.0,\n        \"num_unique_values\": 3,\n        \"samples\": [\n          2019.0,\n          2020.0,\n          2021.0\n        ],\n        \"semantic_type\": \"\",\n        \"description\": \"\"\n      }\n    }\n  ]\n}"
            }
          },
          "metadata": {},
          "execution_count": 200
        }
      ],
      "source": [
        "new_df_trf"
      ]
    },
    {
      "cell_type": "code",
      "execution_count": 201,
      "id": "MXcXVFA4L1v0",
      "metadata": {
        "id": "MXcXVFA4L1v0"
      },
      "outputs": [],
      "source": [
        "new_df_trf['NO2_trop'] = new_df_trf['NO2_trop'].fillna(new_df_trf['NO2_total']-new_df_trf['NO2_strat'])"
      ]
    },
    {
      "cell_type": "code",
      "execution_count": 202,
      "id": "MetIapNaNUYo",
      "metadata": {
        "colab": {
          "base_uri": "https://localhost:8080/",
          "height": 443
        },
        "id": "MetIapNaNUYo",
        "outputId": "54efe90d-cefb-4935-f1f3-0dba1b42bcd0"
      },
      "outputs": [
        {
          "output_type": "execute_result",
          "data": {
            "text/plain": [
              "             LAT        LON  Precipitation         LST       AAI  \\\n",
              "0      45.601585  11.903551       0.000000  282.546835  0.230527   \n",
              "1      45.371005  11.840830       3.047342  280.390662 -0.074006   \n",
              "2      45.045825  12.060869       0.000000  282.394977  0.024470   \n",
              "3      45.104075  11.553241       1.200467  282.522163 -0.010442   \n",
              "4      45.038758  11.790152       1.274564  282.642766 -0.176178   \n",
              "...          ...        ...            ...         ...       ...   \n",
              "86579  45.498227   9.556232       0.000000  275.463360 -0.434350   \n",
              "86580  45.142541  10.043836       0.000000  279.648648 -0.789369   \n",
              "86581  45.842207   9.351658       0.000000  284.980000 -0.157753   \n",
              "86582  45.113503   8.874065       0.000000  283.990869 -0.798636   \n",
              "86583  45.526473   9.515980       0.000000  275.931548 -0.434482   \n",
              "\n",
              "       CloudFraction  NO2_strat  NO2_total  NO2_trop  TropopausePressure  \\\n",
              "0           0.559117   0.000024   0.000117  0.000093        14440.821260   \n",
              "1           0.869309   0.000024   0.000127  0.000103        14441.798150   \n",
              "2           0.674160   0.000024   0.000086  0.000062        14437.382940   \n",
              "3           0.920054   0.000024   0.000124  0.000100        14440.838310   \n",
              "4           0.747464   0.000024   0.000116  0.000092        14438.790370   \n",
              "...              ...        ...        ...       ...                 ...   \n",
              "86579       0.250490   0.000032   0.000643  0.000611        13063.797700   \n",
              "86580       0.270153   0.000031   0.000477  0.000446        17136.562057   \n",
              "86581       0.000000   0.000031   0.000153  0.000122        13050.164990   \n",
              "86582       0.399524   0.000031   0.000717  0.000686        13061.413290   \n",
              "86583       0.250530   0.000032   0.000643  0.000611        13063.795000   \n",
              "\n",
              "       GT_NO2   Day  Month    Year  \n",
              "0      31.000   1.0    1.0  2019.0  \n",
              "1      42.000   1.0    1.0  2019.0  \n",
              "2      31.000   1.0    1.0  2019.0  \n",
              "3      30.000   1.0    1.0  2019.0  \n",
              "4      58.000   1.0    1.0  2019.0  \n",
              "...       ...   ...    ...     ...  \n",
              "86579  39.750  31.0   12.0  2021.0  \n",
              "86580  30.125  31.0   12.0  2021.0  \n",
              "86581  28.325  31.0   12.0  2021.0  \n",
              "86582  21.250  31.0   12.0  2021.0  \n",
              "86583  40.350  31.0   12.0  2021.0  \n",
              "\n",
              "[86584 rows x 14 columns]"
            ],
            "text/html": [
              "\n",
              "  <div id=\"df-4198930c-7823-459e-b9a9-8cb3f698fa00\" class=\"colab-df-container\">\n",
              "    <div>\n",
              "<style scoped>\n",
              "    .dataframe tbody tr th:only-of-type {\n",
              "        vertical-align: middle;\n",
              "    }\n",
              "\n",
              "    .dataframe tbody tr th {\n",
              "        vertical-align: top;\n",
              "    }\n",
              "\n",
              "    .dataframe thead th {\n",
              "        text-align: right;\n",
              "    }\n",
              "</style>\n",
              "<table border=\"1\" class=\"dataframe\">\n",
              "  <thead>\n",
              "    <tr style=\"text-align: right;\">\n",
              "      <th></th>\n",
              "      <th>LAT</th>\n",
              "      <th>LON</th>\n",
              "      <th>Precipitation</th>\n",
              "      <th>LST</th>\n",
              "      <th>AAI</th>\n",
              "      <th>CloudFraction</th>\n",
              "      <th>NO2_strat</th>\n",
              "      <th>NO2_total</th>\n",
              "      <th>NO2_trop</th>\n",
              "      <th>TropopausePressure</th>\n",
              "      <th>GT_NO2</th>\n",
              "      <th>Day</th>\n",
              "      <th>Month</th>\n",
              "      <th>Year</th>\n",
              "    </tr>\n",
              "  </thead>\n",
              "  <tbody>\n",
              "    <tr>\n",
              "      <th>0</th>\n",
              "      <td>45.601585</td>\n",
              "      <td>11.903551</td>\n",
              "      <td>0.000000</td>\n",
              "      <td>282.546835</td>\n",
              "      <td>0.230527</td>\n",
              "      <td>0.559117</td>\n",
              "      <td>0.000024</td>\n",
              "      <td>0.000117</td>\n",
              "      <td>0.000093</td>\n",
              "      <td>14440.821260</td>\n",
              "      <td>31.000</td>\n",
              "      <td>1.0</td>\n",
              "      <td>1.0</td>\n",
              "      <td>2019.0</td>\n",
              "    </tr>\n",
              "    <tr>\n",
              "      <th>1</th>\n",
              "      <td>45.371005</td>\n",
              "      <td>11.840830</td>\n",
              "      <td>3.047342</td>\n",
              "      <td>280.390662</td>\n",
              "      <td>-0.074006</td>\n",
              "      <td>0.869309</td>\n",
              "      <td>0.000024</td>\n",
              "      <td>0.000127</td>\n",
              "      <td>0.000103</td>\n",
              "      <td>14441.798150</td>\n",
              "      <td>42.000</td>\n",
              "      <td>1.0</td>\n",
              "      <td>1.0</td>\n",
              "      <td>2019.0</td>\n",
              "    </tr>\n",
              "    <tr>\n",
              "      <th>2</th>\n",
              "      <td>45.045825</td>\n",
              "      <td>12.060869</td>\n",
              "      <td>0.000000</td>\n",
              "      <td>282.394977</td>\n",
              "      <td>0.024470</td>\n",
              "      <td>0.674160</td>\n",
              "      <td>0.000024</td>\n",
              "      <td>0.000086</td>\n",
              "      <td>0.000062</td>\n",
              "      <td>14437.382940</td>\n",
              "      <td>31.000</td>\n",
              "      <td>1.0</td>\n",
              "      <td>1.0</td>\n",
              "      <td>2019.0</td>\n",
              "    </tr>\n",
              "    <tr>\n",
              "      <th>3</th>\n",
              "      <td>45.104075</td>\n",
              "      <td>11.553241</td>\n",
              "      <td>1.200467</td>\n",
              "      <td>282.522163</td>\n",
              "      <td>-0.010442</td>\n",
              "      <td>0.920054</td>\n",
              "      <td>0.000024</td>\n",
              "      <td>0.000124</td>\n",
              "      <td>0.000100</td>\n",
              "      <td>14440.838310</td>\n",
              "      <td>30.000</td>\n",
              "      <td>1.0</td>\n",
              "      <td>1.0</td>\n",
              "      <td>2019.0</td>\n",
              "    </tr>\n",
              "    <tr>\n",
              "      <th>4</th>\n",
              "      <td>45.038758</td>\n",
              "      <td>11.790152</td>\n",
              "      <td>1.274564</td>\n",
              "      <td>282.642766</td>\n",
              "      <td>-0.176178</td>\n",
              "      <td>0.747464</td>\n",
              "      <td>0.000024</td>\n",
              "      <td>0.000116</td>\n",
              "      <td>0.000092</td>\n",
              "      <td>14438.790370</td>\n",
              "      <td>58.000</td>\n",
              "      <td>1.0</td>\n",
              "      <td>1.0</td>\n",
              "      <td>2019.0</td>\n",
              "    </tr>\n",
              "    <tr>\n",
              "      <th>...</th>\n",
              "      <td>...</td>\n",
              "      <td>...</td>\n",
              "      <td>...</td>\n",
              "      <td>...</td>\n",
              "      <td>...</td>\n",
              "      <td>...</td>\n",
              "      <td>...</td>\n",
              "      <td>...</td>\n",
              "      <td>...</td>\n",
              "      <td>...</td>\n",
              "      <td>...</td>\n",
              "      <td>...</td>\n",
              "      <td>...</td>\n",
              "      <td>...</td>\n",
              "    </tr>\n",
              "    <tr>\n",
              "      <th>86579</th>\n",
              "      <td>45.498227</td>\n",
              "      <td>9.556232</td>\n",
              "      <td>0.000000</td>\n",
              "      <td>275.463360</td>\n",
              "      <td>-0.434350</td>\n",
              "      <td>0.250490</td>\n",
              "      <td>0.000032</td>\n",
              "      <td>0.000643</td>\n",
              "      <td>0.000611</td>\n",
              "      <td>13063.797700</td>\n",
              "      <td>39.750</td>\n",
              "      <td>31.0</td>\n",
              "      <td>12.0</td>\n",
              "      <td>2021.0</td>\n",
              "    </tr>\n",
              "    <tr>\n",
              "      <th>86580</th>\n",
              "      <td>45.142541</td>\n",
              "      <td>10.043836</td>\n",
              "      <td>0.000000</td>\n",
              "      <td>279.648648</td>\n",
              "      <td>-0.789369</td>\n",
              "      <td>0.270153</td>\n",
              "      <td>0.000031</td>\n",
              "      <td>0.000477</td>\n",
              "      <td>0.000446</td>\n",
              "      <td>17136.562057</td>\n",
              "      <td>30.125</td>\n",
              "      <td>31.0</td>\n",
              "      <td>12.0</td>\n",
              "      <td>2021.0</td>\n",
              "    </tr>\n",
              "    <tr>\n",
              "      <th>86581</th>\n",
              "      <td>45.842207</td>\n",
              "      <td>9.351658</td>\n",
              "      <td>0.000000</td>\n",
              "      <td>284.980000</td>\n",
              "      <td>-0.157753</td>\n",
              "      <td>0.000000</td>\n",
              "      <td>0.000031</td>\n",
              "      <td>0.000153</td>\n",
              "      <td>0.000122</td>\n",
              "      <td>13050.164990</td>\n",
              "      <td>28.325</td>\n",
              "      <td>31.0</td>\n",
              "      <td>12.0</td>\n",
              "      <td>2021.0</td>\n",
              "    </tr>\n",
              "    <tr>\n",
              "      <th>86582</th>\n",
              "      <td>45.113503</td>\n",
              "      <td>8.874065</td>\n",
              "      <td>0.000000</td>\n",
              "      <td>283.990869</td>\n",
              "      <td>-0.798636</td>\n",
              "      <td>0.399524</td>\n",
              "      <td>0.000031</td>\n",
              "      <td>0.000717</td>\n",
              "      <td>0.000686</td>\n",
              "      <td>13061.413290</td>\n",
              "      <td>21.250</td>\n",
              "      <td>31.0</td>\n",
              "      <td>12.0</td>\n",
              "      <td>2021.0</td>\n",
              "    </tr>\n",
              "    <tr>\n",
              "      <th>86583</th>\n",
              "      <td>45.526473</td>\n",
              "      <td>9.515980</td>\n",
              "      <td>0.000000</td>\n",
              "      <td>275.931548</td>\n",
              "      <td>-0.434482</td>\n",
              "      <td>0.250530</td>\n",
              "      <td>0.000032</td>\n",
              "      <td>0.000643</td>\n",
              "      <td>0.000611</td>\n",
              "      <td>13063.795000</td>\n",
              "      <td>40.350</td>\n",
              "      <td>31.0</td>\n",
              "      <td>12.0</td>\n",
              "      <td>2021.0</td>\n",
              "    </tr>\n",
              "  </tbody>\n",
              "</table>\n",
              "<p>86584 rows × 14 columns</p>\n",
              "</div>\n",
              "    <div class=\"colab-df-buttons\">\n",
              "\n",
              "  <div class=\"colab-df-container\">\n",
              "    <button class=\"colab-df-convert\" onclick=\"convertToInteractive('df-4198930c-7823-459e-b9a9-8cb3f698fa00')\"\n",
              "            title=\"Convert this dataframe to an interactive table.\"\n",
              "            style=\"display:none;\">\n",
              "\n",
              "  <svg xmlns=\"http://www.w3.org/2000/svg\" height=\"24px\" viewBox=\"0 -960 960 960\">\n",
              "    <path d=\"M120-120v-720h720v720H120Zm60-500h600v-160H180v160Zm220 220h160v-160H400v160Zm0 220h160v-160H400v160ZM180-400h160v-160H180v160Zm440 0h160v-160H620v160ZM180-180h160v-160H180v160Zm440 0h160v-160H620v160Z\"/>\n",
              "  </svg>\n",
              "    </button>\n",
              "\n",
              "  <style>\n",
              "    .colab-df-container {\n",
              "      display:flex;\n",
              "      gap: 12px;\n",
              "    }\n",
              "\n",
              "    .colab-df-convert {\n",
              "      background-color: #E8F0FE;\n",
              "      border: none;\n",
              "      border-radius: 50%;\n",
              "      cursor: pointer;\n",
              "      display: none;\n",
              "      fill: #1967D2;\n",
              "      height: 32px;\n",
              "      padding: 0 0 0 0;\n",
              "      width: 32px;\n",
              "    }\n",
              "\n",
              "    .colab-df-convert:hover {\n",
              "      background-color: #E2EBFA;\n",
              "      box-shadow: 0px 1px 2px rgba(60, 64, 67, 0.3), 0px 1px 3px 1px rgba(60, 64, 67, 0.15);\n",
              "      fill: #174EA6;\n",
              "    }\n",
              "\n",
              "    .colab-df-buttons div {\n",
              "      margin-bottom: 4px;\n",
              "    }\n",
              "\n",
              "    [theme=dark] .colab-df-convert {\n",
              "      background-color: #3B4455;\n",
              "      fill: #D2E3FC;\n",
              "    }\n",
              "\n",
              "    [theme=dark] .colab-df-convert:hover {\n",
              "      background-color: #434B5C;\n",
              "      box-shadow: 0px 1px 3px 1px rgba(0, 0, 0, 0.15);\n",
              "      filter: drop-shadow(0px 1px 2px rgba(0, 0, 0, 0.3));\n",
              "      fill: #FFFFFF;\n",
              "    }\n",
              "  </style>\n",
              "\n",
              "    <script>\n",
              "      const buttonEl =\n",
              "        document.querySelector('#df-4198930c-7823-459e-b9a9-8cb3f698fa00 button.colab-df-convert');\n",
              "      buttonEl.style.display =\n",
              "        google.colab.kernel.accessAllowed ? 'block' : 'none';\n",
              "\n",
              "      async function convertToInteractive(key) {\n",
              "        const element = document.querySelector('#df-4198930c-7823-459e-b9a9-8cb3f698fa00');\n",
              "        const dataTable =\n",
              "          await google.colab.kernel.invokeFunction('convertToInteractive',\n",
              "                                                    [key], {});\n",
              "        if (!dataTable) return;\n",
              "\n",
              "        const docLinkHtml = 'Like what you see? Visit the ' +\n",
              "          '<a target=\"_blank\" href=https://colab.research.google.com/notebooks/data_table.ipynb>data table notebook</a>'\n",
              "          + ' to learn more about interactive tables.';\n",
              "        element.innerHTML = '';\n",
              "        dataTable['output_type'] = 'display_data';\n",
              "        await google.colab.output.renderOutput(dataTable, element);\n",
              "        const docLink = document.createElement('div');\n",
              "        docLink.innerHTML = docLinkHtml;\n",
              "        element.appendChild(docLink);\n",
              "      }\n",
              "    </script>\n",
              "  </div>\n",
              "\n",
              "\n",
              "<div id=\"df-2c4fb519-8805-44fb-aa56-7aebfab25b1e\">\n",
              "  <button class=\"colab-df-quickchart\" onclick=\"quickchart('df-2c4fb519-8805-44fb-aa56-7aebfab25b1e')\"\n",
              "            title=\"Suggest charts\"\n",
              "            style=\"display:none;\">\n",
              "\n",
              "<svg xmlns=\"http://www.w3.org/2000/svg\" height=\"24px\"viewBox=\"0 0 24 24\"\n",
              "     width=\"24px\">\n",
              "    <g>\n",
              "        <path d=\"M19 3H5c-1.1 0-2 .9-2 2v14c0 1.1.9 2 2 2h14c1.1 0 2-.9 2-2V5c0-1.1-.9-2-2-2zM9 17H7v-7h2v7zm4 0h-2V7h2v10zm4 0h-2v-4h2v4z\"/>\n",
              "    </g>\n",
              "</svg>\n",
              "  </button>\n",
              "\n",
              "<style>\n",
              "  .colab-df-quickchart {\n",
              "      --bg-color: #E8F0FE;\n",
              "      --fill-color: #1967D2;\n",
              "      --hover-bg-color: #E2EBFA;\n",
              "      --hover-fill-color: #174EA6;\n",
              "      --disabled-fill-color: #AAA;\n",
              "      --disabled-bg-color: #DDD;\n",
              "  }\n",
              "\n",
              "  [theme=dark] .colab-df-quickchart {\n",
              "      --bg-color: #3B4455;\n",
              "      --fill-color: #D2E3FC;\n",
              "      --hover-bg-color: #434B5C;\n",
              "      --hover-fill-color: #FFFFFF;\n",
              "      --disabled-bg-color: #3B4455;\n",
              "      --disabled-fill-color: #666;\n",
              "  }\n",
              "\n",
              "  .colab-df-quickchart {\n",
              "    background-color: var(--bg-color);\n",
              "    border: none;\n",
              "    border-radius: 50%;\n",
              "    cursor: pointer;\n",
              "    display: none;\n",
              "    fill: var(--fill-color);\n",
              "    height: 32px;\n",
              "    padding: 0;\n",
              "    width: 32px;\n",
              "  }\n",
              "\n",
              "  .colab-df-quickchart:hover {\n",
              "    background-color: var(--hover-bg-color);\n",
              "    box-shadow: 0 1px 2px rgba(60, 64, 67, 0.3), 0 1px 3px 1px rgba(60, 64, 67, 0.15);\n",
              "    fill: var(--button-hover-fill-color);\n",
              "  }\n",
              "\n",
              "  .colab-df-quickchart-complete:disabled,\n",
              "  .colab-df-quickchart-complete:disabled:hover {\n",
              "    background-color: var(--disabled-bg-color);\n",
              "    fill: var(--disabled-fill-color);\n",
              "    box-shadow: none;\n",
              "  }\n",
              "\n",
              "  .colab-df-spinner {\n",
              "    border: 2px solid var(--fill-color);\n",
              "    border-color: transparent;\n",
              "    border-bottom-color: var(--fill-color);\n",
              "    animation:\n",
              "      spin 1s steps(1) infinite;\n",
              "  }\n",
              "\n",
              "  @keyframes spin {\n",
              "    0% {\n",
              "      border-color: transparent;\n",
              "      border-bottom-color: var(--fill-color);\n",
              "      border-left-color: var(--fill-color);\n",
              "    }\n",
              "    20% {\n",
              "      border-color: transparent;\n",
              "      border-left-color: var(--fill-color);\n",
              "      border-top-color: var(--fill-color);\n",
              "    }\n",
              "    30% {\n",
              "      border-color: transparent;\n",
              "      border-left-color: var(--fill-color);\n",
              "      border-top-color: var(--fill-color);\n",
              "      border-right-color: var(--fill-color);\n",
              "    }\n",
              "    40% {\n",
              "      border-color: transparent;\n",
              "      border-right-color: var(--fill-color);\n",
              "      border-top-color: var(--fill-color);\n",
              "    }\n",
              "    60% {\n",
              "      border-color: transparent;\n",
              "      border-right-color: var(--fill-color);\n",
              "    }\n",
              "    80% {\n",
              "      border-color: transparent;\n",
              "      border-right-color: var(--fill-color);\n",
              "      border-bottom-color: var(--fill-color);\n",
              "    }\n",
              "    90% {\n",
              "      border-color: transparent;\n",
              "      border-bottom-color: var(--fill-color);\n",
              "    }\n",
              "  }\n",
              "</style>\n",
              "\n",
              "  <script>\n",
              "    async function quickchart(key) {\n",
              "      const quickchartButtonEl =\n",
              "        document.querySelector('#' + key + ' button');\n",
              "      quickchartButtonEl.disabled = true;  // To prevent multiple clicks.\n",
              "      quickchartButtonEl.classList.add('colab-df-spinner');\n",
              "      try {\n",
              "        const charts = await google.colab.kernel.invokeFunction(\n",
              "            'suggestCharts', [key], {});\n",
              "      } catch (error) {\n",
              "        console.error('Error during call to suggestCharts:', error);\n",
              "      }\n",
              "      quickchartButtonEl.classList.remove('colab-df-spinner');\n",
              "      quickchartButtonEl.classList.add('colab-df-quickchart-complete');\n",
              "    }\n",
              "    (() => {\n",
              "      let quickchartButtonEl =\n",
              "        document.querySelector('#df-2c4fb519-8805-44fb-aa56-7aebfab25b1e button');\n",
              "      quickchartButtonEl.style.display =\n",
              "        google.colab.kernel.accessAllowed ? 'block' : 'none';\n",
              "    })();\n",
              "  </script>\n",
              "</div>\n",
              "\n",
              "  <div id=\"id_4e80efad-5850-43f8-ba21-da687a003a06\">\n",
              "    <style>\n",
              "      .colab-df-generate {\n",
              "        background-color: #E8F0FE;\n",
              "        border: none;\n",
              "        border-radius: 50%;\n",
              "        cursor: pointer;\n",
              "        display: none;\n",
              "        fill: #1967D2;\n",
              "        height: 32px;\n",
              "        padding: 0 0 0 0;\n",
              "        width: 32px;\n",
              "      }\n",
              "\n",
              "      .colab-df-generate:hover {\n",
              "        background-color: #E2EBFA;\n",
              "        box-shadow: 0px 1px 2px rgba(60, 64, 67, 0.3), 0px 1px 3px 1px rgba(60, 64, 67, 0.15);\n",
              "        fill: #174EA6;\n",
              "      }\n",
              "\n",
              "      [theme=dark] .colab-df-generate {\n",
              "        background-color: #3B4455;\n",
              "        fill: #D2E3FC;\n",
              "      }\n",
              "\n",
              "      [theme=dark] .colab-df-generate:hover {\n",
              "        background-color: #434B5C;\n",
              "        box-shadow: 0px 1px 3px 1px rgba(0, 0, 0, 0.15);\n",
              "        filter: drop-shadow(0px 1px 2px rgba(0, 0, 0, 0.3));\n",
              "        fill: #FFFFFF;\n",
              "      }\n",
              "    </style>\n",
              "    <button class=\"colab-df-generate\" onclick=\"generateWithVariable('new_df_trf')\"\n",
              "            title=\"Generate code using this dataframe.\"\n",
              "            style=\"display:none;\">\n",
              "\n",
              "  <svg xmlns=\"http://www.w3.org/2000/svg\" height=\"24px\"viewBox=\"0 0 24 24\"\n",
              "       width=\"24px\">\n",
              "    <path d=\"M7,19H8.4L18.45,9,17,7.55,7,17.6ZM5,21V16.75L18.45,3.32a2,2,0,0,1,2.83,0l1.4,1.43a1.91,1.91,0,0,1,.58,1.4,1.91,1.91,0,0,1-.58,1.4L9.25,21ZM18.45,9,17,7.55Zm-12,3A5.31,5.31,0,0,0,4.9,8.1,5.31,5.31,0,0,0,1,6.5,5.31,5.31,0,0,0,4.9,4.9,5.31,5.31,0,0,0,6.5,1,5.31,5.31,0,0,0,8.1,4.9,5.31,5.31,0,0,0,12,6.5,5.46,5.46,0,0,0,6.5,12Z\"/>\n",
              "  </svg>\n",
              "    </button>\n",
              "    <script>\n",
              "      (() => {\n",
              "      const buttonEl =\n",
              "        document.querySelector('#id_4e80efad-5850-43f8-ba21-da687a003a06 button.colab-df-generate');\n",
              "      buttonEl.style.display =\n",
              "        google.colab.kernel.accessAllowed ? 'block' : 'none';\n",
              "\n",
              "      buttonEl.onclick = () => {\n",
              "        google.colab.notebook.generateWithVariable('new_df_trf');\n",
              "      }\n",
              "      })();\n",
              "    </script>\n",
              "  </div>\n",
              "\n",
              "    </div>\n",
              "  </div>\n"
            ],
            "application/vnd.google.colaboratory.intrinsic+json": {
              "type": "dataframe",
              "variable_name": "new_df_trf",
              "summary": "{\n  \"name\": \"new_df_trf\",\n  \"rows\": 86584,\n  \"fields\": [\n    {\n      \"column\": \"LAT\",\n      \"properties\": {\n        \"dtype\": \"number\",\n        \"std\": 0.22540949566498233,\n        \"min\": 44.92469405,\n        \"max\": 45.88973369,\n        \"num_unique_values\": 79,\n        \"samples\": [\n          45.54264789,\n          45.60158469,\n          45.30360787\n        ],\n        \"semantic_type\": \"\",\n        \"description\": \"\"\n      }\n    },\n    {\n      \"column\": \"LON\",\n      \"properties\": {\n        \"dtype\": \"number\",\n        \"std\": 1.0566370652665111,\n        \"min\": 8.736496578,\n        \"max\": 12.59068235,\n        \"num_unique_values\": 79,\n        \"samples\": [\n          10.21120522,\n          11.90355081,\n          8.84480461\n        ],\n        \"semantic_type\": \"\",\n        \"description\": \"\"\n      }\n    },\n    {\n      \"column\": \"Precipitation\",\n      \"properties\": {\n        \"dtype\": \"number\",\n        \"std\": 7.617394210893272,\n        \"min\": 0.0,\n        \"max\": 135.3968048,\n        \"num_unique_values\": 14264,\n        \"samples\": [\n          1.445254445,\n          0.426165134,\n          24.66330719\n        ],\n        \"semantic_type\": \"\",\n        \"description\": \"\"\n      }\n    },\n    {\n      \"column\": \"LST\",\n      \"properties\": {\n        \"dtype\": \"number\",\n        \"std\": 10.730803092052309,\n        \"min\": 253.2,\n        \"max\": 327.84,\n        \"num_unique_values\": 42294,\n        \"samples\": [\n          313.98,\n          286.4200593980442,\n          300.8889198033957\n        ],\n        \"semantic_type\": \"\",\n        \"description\": \"\"\n      }\n    },\n    {\n      \"column\": \"AAI\",\n      \"properties\": {\n        \"dtype\": \"number\",\n        \"std\": 0.66840948073171,\n        \"min\": -5.196266174,\n        \"max\": 2.143020488,\n        \"num_unique_values\": 84343,\n        \"samples\": [\n          -0.525717795,\n          -1.294257427,\n          -1.424178839\n        ],\n        \"semantic_type\": \"\",\n        \"description\": \"\"\n      }\n    },\n    {\n      \"column\": \"CloudFraction\",\n      \"properties\": {\n        \"dtype\": \"number\",\n        \"std\": 0.2608698102255868,\n        \"min\": 0.0,\n        \"max\": 1.000000044,\n        \"num_unique_values\": 76278,\n        \"samples\": [\n          0.31233820985191707,\n          0.080725782,\n          0.015316312\n        ],\n        \"semantic_type\": \"\",\n        \"description\": \"\"\n      }\n    },\n    {\n      \"column\": \"NO2_strat\",\n      \"properties\": {\n        \"dtype\": \"number\",\n        \"std\": 1.2463128040971306e-05,\n        \"min\": 1.34e-05,\n        \"max\": 7.28e-05,\n        \"num_unique_values\": 13444,\n        \"samples\": [\n          3.840580526485316e-05,\n          3.401121517061649e-05,\n          5.090012798855433e-05\n        ],\n        \"semantic_type\": \"\",\n        \"description\": \"\"\n      }\n    },\n    {\n      \"column\": \"NO2_total\",\n      \"properties\": {\n        \"dtype\": \"number\",\n        \"std\": 0.00010395213738127516,\n        \"min\": -1.19e-05,\n        \"max\": 0.002047452,\n        \"num_unique_values\": 14314,\n        \"samples\": [\n          9.552757018602663e-05,\n          5.48e-05,\n          0.00011666332051896483\n        ],\n        \"semantic_type\": \"\",\n        \"description\": \"\"\n      }\n    },\n    {\n      \"column\": \"NO2_trop\",\n      \"properties\": {\n        \"dtype\": \"number\",\n        \"std\": 0.00010984138215951738,\n        \"min\": -4.41e-05,\n        \"max\": 0.002013652,\n        \"num_unique_values\": 20047,\n        \"samples\": [\n          7.24e-05,\n          0.0001691813416289228,\n          0.00027533805115071634\n        ],\n        \"semantic_type\": \"\",\n        \"description\": \"\"\n      }\n    },\n    {\n      \"column\": \"TropopausePressure\",\n      \"properties\": {\n        \"dtype\": \"number\",\n        \"std\": 2907.3777437344543,\n        \"min\": 8614.349685,\n        \"max\": 24449.00715,\n        \"num_unique_values\": 83563,\n        \"samples\": [\n          19243.91092,\n          22102.4951,\n          16727.56206\n        ],\n        \"semantic_type\": \"\",\n        \"description\": \"\"\n      }\n    },\n    {\n      \"column\": \"GT_NO2\",\n      \"properties\": {\n        \"dtype\": \"number\",\n        \"std\": 17.083583191048078,\n        \"min\": 0.0,\n        \"max\": 188.2333333,\n        \"num_unique_values\": 8778,\n        \"samples\": [\n          49.45,\n          17.3,\n          8.738065952256179\n        ],\n        \"semantic_type\": \"\",\n        \"description\": \"\"\n      }\n    },\n    {\n      \"column\": \"Day\",\n      \"properties\": {\n        \"dtype\": \"number\",\n        \"std\": 8.801420919943839,\n        \"min\": 1.0,\n        \"max\": 31.0,\n        \"num_unique_values\": 31,\n        \"samples\": [\n          9.0,\n          27.0,\n          5.0\n        ],\n        \"semantic_type\": \"\",\n        \"description\": \"\"\n      }\n    },\n    {\n      \"column\": \"Month\",\n      \"properties\": {\n        \"dtype\": \"number\",\n        \"std\": 3.449006128703941,\n        \"min\": 1.0,\n        \"max\": 12.0,\n        \"num_unique_values\": 12,\n        \"samples\": [\n          11.0,\n          10.0,\n          1.0\n        ],\n        \"semantic_type\": \"\",\n        \"description\": \"\"\n      }\n    },\n    {\n      \"column\": \"Year\",\n      \"properties\": {\n        \"dtype\": \"number\",\n        \"std\": 0.8161287195511359,\n        \"min\": 2019.0,\n        \"max\": 2021.0,\n        \"num_unique_values\": 3,\n        \"samples\": [\n          2019.0,\n          2020.0,\n          2021.0\n        ],\n        \"semantic_type\": \"\",\n        \"description\": \"\"\n      }\n    }\n  ]\n}"
            }
          },
          "metadata": {},
          "execution_count": 202
        }
      ],
      "source": [
        "new_df_trf"
      ]
    },
    {
      "cell_type": "code",
      "execution_count": 35,
      "id": "60afe959-948a-41dd-8a8d-5cb55f7420a8",
      "metadata": {
        "id": "60afe959-948a-41dd-8a8d-5cb55f7420a8"
      },
      "outputs": [],
      "source": [
        "from sklearn.preprocessing import LabelEncoder\n",
        "le = LabelEncoder()"
      ]
    },
    {
      "cell_type": "code",
      "execution_count": 204,
      "id": "5pCKwq-I5k-h",
      "metadata": {
        "colab": {
          "base_uri": "https://localhost:8080/",
          "height": 226
        },
        "id": "5pCKwq-I5k-h",
        "outputId": "c34a1da7-4a7a-4d74-a095-df1eb253b282"
      },
      "outputs": [
        {
          "output_type": "execute_result",
          "data": {
            "text/plain": [
              "         LAT        LON  Precipitation         LST       AAI  CloudFraction  \\\n",
              "0  45.601585  11.903551       0.000000  282.546835  0.230527       0.559117   \n",
              "1  45.371005  11.840830       3.047342  280.390662 -0.074006       0.869309   \n",
              "2  45.045825  12.060869       0.000000  282.394977  0.024470       0.674160   \n",
              "3  45.104075  11.553241       1.200467  282.522163 -0.010442       0.920054   \n",
              "4  45.038758  11.790152       1.274564  282.642766 -0.176178       0.747464   \n",
              "\n",
              "   NO2_strat  NO2_total  NO2_trop  TropopausePressure  GT_NO2  Day  Month  \\\n",
              "0   0.000024   0.000117  0.000093         14440.82126    31.0  1.0    1.0   \n",
              "1   0.000024   0.000127  0.000103         14441.79815    42.0  1.0    1.0   \n",
              "2   0.000024   0.000086  0.000062         14437.38294    31.0  1.0    1.0   \n",
              "3   0.000024   0.000124  0.000100         14440.83831    30.0  1.0    1.0   \n",
              "4   0.000024   0.000116  0.000092         14438.79037    58.0  1.0    1.0   \n",
              "\n",
              "     Year  \n",
              "0  2019.0  \n",
              "1  2019.0  \n",
              "2  2019.0  \n",
              "3  2019.0  \n",
              "4  2019.0  "
            ],
            "text/html": [
              "\n",
              "  <div id=\"df-88c21cb0-d196-42f8-a3c0-46703860c556\" class=\"colab-df-container\">\n",
              "    <div>\n",
              "<style scoped>\n",
              "    .dataframe tbody tr th:only-of-type {\n",
              "        vertical-align: middle;\n",
              "    }\n",
              "\n",
              "    .dataframe tbody tr th {\n",
              "        vertical-align: top;\n",
              "    }\n",
              "\n",
              "    .dataframe thead th {\n",
              "        text-align: right;\n",
              "    }\n",
              "</style>\n",
              "<table border=\"1\" class=\"dataframe\">\n",
              "  <thead>\n",
              "    <tr style=\"text-align: right;\">\n",
              "      <th></th>\n",
              "      <th>LAT</th>\n",
              "      <th>LON</th>\n",
              "      <th>Precipitation</th>\n",
              "      <th>LST</th>\n",
              "      <th>AAI</th>\n",
              "      <th>CloudFraction</th>\n",
              "      <th>NO2_strat</th>\n",
              "      <th>NO2_total</th>\n",
              "      <th>NO2_trop</th>\n",
              "      <th>TropopausePressure</th>\n",
              "      <th>GT_NO2</th>\n",
              "      <th>Day</th>\n",
              "      <th>Month</th>\n",
              "      <th>Year</th>\n",
              "    </tr>\n",
              "  </thead>\n",
              "  <tbody>\n",
              "    <tr>\n",
              "      <th>0</th>\n",
              "      <td>45.601585</td>\n",
              "      <td>11.903551</td>\n",
              "      <td>0.000000</td>\n",
              "      <td>282.546835</td>\n",
              "      <td>0.230527</td>\n",
              "      <td>0.559117</td>\n",
              "      <td>0.000024</td>\n",
              "      <td>0.000117</td>\n",
              "      <td>0.000093</td>\n",
              "      <td>14440.82126</td>\n",
              "      <td>31.0</td>\n",
              "      <td>1.0</td>\n",
              "      <td>1.0</td>\n",
              "      <td>2019.0</td>\n",
              "    </tr>\n",
              "    <tr>\n",
              "      <th>1</th>\n",
              "      <td>45.371005</td>\n",
              "      <td>11.840830</td>\n",
              "      <td>3.047342</td>\n",
              "      <td>280.390662</td>\n",
              "      <td>-0.074006</td>\n",
              "      <td>0.869309</td>\n",
              "      <td>0.000024</td>\n",
              "      <td>0.000127</td>\n",
              "      <td>0.000103</td>\n",
              "      <td>14441.79815</td>\n",
              "      <td>42.0</td>\n",
              "      <td>1.0</td>\n",
              "      <td>1.0</td>\n",
              "      <td>2019.0</td>\n",
              "    </tr>\n",
              "    <tr>\n",
              "      <th>2</th>\n",
              "      <td>45.045825</td>\n",
              "      <td>12.060869</td>\n",
              "      <td>0.000000</td>\n",
              "      <td>282.394977</td>\n",
              "      <td>0.024470</td>\n",
              "      <td>0.674160</td>\n",
              "      <td>0.000024</td>\n",
              "      <td>0.000086</td>\n",
              "      <td>0.000062</td>\n",
              "      <td>14437.38294</td>\n",
              "      <td>31.0</td>\n",
              "      <td>1.0</td>\n",
              "      <td>1.0</td>\n",
              "      <td>2019.0</td>\n",
              "    </tr>\n",
              "    <tr>\n",
              "      <th>3</th>\n",
              "      <td>45.104075</td>\n",
              "      <td>11.553241</td>\n",
              "      <td>1.200467</td>\n",
              "      <td>282.522163</td>\n",
              "      <td>-0.010442</td>\n",
              "      <td>0.920054</td>\n",
              "      <td>0.000024</td>\n",
              "      <td>0.000124</td>\n",
              "      <td>0.000100</td>\n",
              "      <td>14440.83831</td>\n",
              "      <td>30.0</td>\n",
              "      <td>1.0</td>\n",
              "      <td>1.0</td>\n",
              "      <td>2019.0</td>\n",
              "    </tr>\n",
              "    <tr>\n",
              "      <th>4</th>\n",
              "      <td>45.038758</td>\n",
              "      <td>11.790152</td>\n",
              "      <td>1.274564</td>\n",
              "      <td>282.642766</td>\n",
              "      <td>-0.176178</td>\n",
              "      <td>0.747464</td>\n",
              "      <td>0.000024</td>\n",
              "      <td>0.000116</td>\n",
              "      <td>0.000092</td>\n",
              "      <td>14438.79037</td>\n",
              "      <td>58.0</td>\n",
              "      <td>1.0</td>\n",
              "      <td>1.0</td>\n",
              "      <td>2019.0</td>\n",
              "    </tr>\n",
              "  </tbody>\n",
              "</table>\n",
              "</div>\n",
              "    <div class=\"colab-df-buttons\">\n",
              "\n",
              "  <div class=\"colab-df-container\">\n",
              "    <button class=\"colab-df-convert\" onclick=\"convertToInteractive('df-88c21cb0-d196-42f8-a3c0-46703860c556')\"\n",
              "            title=\"Convert this dataframe to an interactive table.\"\n",
              "            style=\"display:none;\">\n",
              "\n",
              "  <svg xmlns=\"http://www.w3.org/2000/svg\" height=\"24px\" viewBox=\"0 -960 960 960\">\n",
              "    <path d=\"M120-120v-720h720v720H120Zm60-500h600v-160H180v160Zm220 220h160v-160H400v160Zm0 220h160v-160H400v160ZM180-400h160v-160H180v160Zm440 0h160v-160H620v160ZM180-180h160v-160H180v160Zm440 0h160v-160H620v160Z\"/>\n",
              "  </svg>\n",
              "    </button>\n",
              "\n",
              "  <style>\n",
              "    .colab-df-container {\n",
              "      display:flex;\n",
              "      gap: 12px;\n",
              "    }\n",
              "\n",
              "    .colab-df-convert {\n",
              "      background-color: #E8F0FE;\n",
              "      border: none;\n",
              "      border-radius: 50%;\n",
              "      cursor: pointer;\n",
              "      display: none;\n",
              "      fill: #1967D2;\n",
              "      height: 32px;\n",
              "      padding: 0 0 0 0;\n",
              "      width: 32px;\n",
              "    }\n",
              "\n",
              "    .colab-df-convert:hover {\n",
              "      background-color: #E2EBFA;\n",
              "      box-shadow: 0px 1px 2px rgba(60, 64, 67, 0.3), 0px 1px 3px 1px rgba(60, 64, 67, 0.15);\n",
              "      fill: #174EA6;\n",
              "    }\n",
              "\n",
              "    .colab-df-buttons div {\n",
              "      margin-bottom: 4px;\n",
              "    }\n",
              "\n",
              "    [theme=dark] .colab-df-convert {\n",
              "      background-color: #3B4455;\n",
              "      fill: #D2E3FC;\n",
              "    }\n",
              "\n",
              "    [theme=dark] .colab-df-convert:hover {\n",
              "      background-color: #434B5C;\n",
              "      box-shadow: 0px 1px 3px 1px rgba(0, 0, 0, 0.15);\n",
              "      filter: drop-shadow(0px 1px 2px rgba(0, 0, 0, 0.3));\n",
              "      fill: #FFFFFF;\n",
              "    }\n",
              "  </style>\n",
              "\n",
              "    <script>\n",
              "      const buttonEl =\n",
              "        document.querySelector('#df-88c21cb0-d196-42f8-a3c0-46703860c556 button.colab-df-convert');\n",
              "      buttonEl.style.display =\n",
              "        google.colab.kernel.accessAllowed ? 'block' : 'none';\n",
              "\n",
              "      async function convertToInteractive(key) {\n",
              "        const element = document.querySelector('#df-88c21cb0-d196-42f8-a3c0-46703860c556');\n",
              "        const dataTable =\n",
              "          await google.colab.kernel.invokeFunction('convertToInteractive',\n",
              "                                                    [key], {});\n",
              "        if (!dataTable) return;\n",
              "\n",
              "        const docLinkHtml = 'Like what you see? Visit the ' +\n",
              "          '<a target=\"_blank\" href=https://colab.research.google.com/notebooks/data_table.ipynb>data table notebook</a>'\n",
              "          + ' to learn more about interactive tables.';\n",
              "        element.innerHTML = '';\n",
              "        dataTable['output_type'] = 'display_data';\n",
              "        await google.colab.output.renderOutput(dataTable, element);\n",
              "        const docLink = document.createElement('div');\n",
              "        docLink.innerHTML = docLinkHtml;\n",
              "        element.appendChild(docLink);\n",
              "      }\n",
              "    </script>\n",
              "  </div>\n",
              "\n",
              "\n",
              "<div id=\"df-8a2ddec2-0ef0-4b14-8ec8-a374c8ff01f7\">\n",
              "  <button class=\"colab-df-quickchart\" onclick=\"quickchart('df-8a2ddec2-0ef0-4b14-8ec8-a374c8ff01f7')\"\n",
              "            title=\"Suggest charts\"\n",
              "            style=\"display:none;\">\n",
              "\n",
              "<svg xmlns=\"http://www.w3.org/2000/svg\" height=\"24px\"viewBox=\"0 0 24 24\"\n",
              "     width=\"24px\">\n",
              "    <g>\n",
              "        <path d=\"M19 3H5c-1.1 0-2 .9-2 2v14c0 1.1.9 2 2 2h14c1.1 0 2-.9 2-2V5c0-1.1-.9-2-2-2zM9 17H7v-7h2v7zm4 0h-2V7h2v10zm4 0h-2v-4h2v4z\"/>\n",
              "    </g>\n",
              "</svg>\n",
              "  </button>\n",
              "\n",
              "<style>\n",
              "  .colab-df-quickchart {\n",
              "      --bg-color: #E8F0FE;\n",
              "      --fill-color: #1967D2;\n",
              "      --hover-bg-color: #E2EBFA;\n",
              "      --hover-fill-color: #174EA6;\n",
              "      --disabled-fill-color: #AAA;\n",
              "      --disabled-bg-color: #DDD;\n",
              "  }\n",
              "\n",
              "  [theme=dark] .colab-df-quickchart {\n",
              "      --bg-color: #3B4455;\n",
              "      --fill-color: #D2E3FC;\n",
              "      --hover-bg-color: #434B5C;\n",
              "      --hover-fill-color: #FFFFFF;\n",
              "      --disabled-bg-color: #3B4455;\n",
              "      --disabled-fill-color: #666;\n",
              "  }\n",
              "\n",
              "  .colab-df-quickchart {\n",
              "    background-color: var(--bg-color);\n",
              "    border: none;\n",
              "    border-radius: 50%;\n",
              "    cursor: pointer;\n",
              "    display: none;\n",
              "    fill: var(--fill-color);\n",
              "    height: 32px;\n",
              "    padding: 0;\n",
              "    width: 32px;\n",
              "  }\n",
              "\n",
              "  .colab-df-quickchart:hover {\n",
              "    background-color: var(--hover-bg-color);\n",
              "    box-shadow: 0 1px 2px rgba(60, 64, 67, 0.3), 0 1px 3px 1px rgba(60, 64, 67, 0.15);\n",
              "    fill: var(--button-hover-fill-color);\n",
              "  }\n",
              "\n",
              "  .colab-df-quickchart-complete:disabled,\n",
              "  .colab-df-quickchart-complete:disabled:hover {\n",
              "    background-color: var(--disabled-bg-color);\n",
              "    fill: var(--disabled-fill-color);\n",
              "    box-shadow: none;\n",
              "  }\n",
              "\n",
              "  .colab-df-spinner {\n",
              "    border: 2px solid var(--fill-color);\n",
              "    border-color: transparent;\n",
              "    border-bottom-color: var(--fill-color);\n",
              "    animation:\n",
              "      spin 1s steps(1) infinite;\n",
              "  }\n",
              "\n",
              "  @keyframes spin {\n",
              "    0% {\n",
              "      border-color: transparent;\n",
              "      border-bottom-color: var(--fill-color);\n",
              "      border-left-color: var(--fill-color);\n",
              "    }\n",
              "    20% {\n",
              "      border-color: transparent;\n",
              "      border-left-color: var(--fill-color);\n",
              "      border-top-color: var(--fill-color);\n",
              "    }\n",
              "    30% {\n",
              "      border-color: transparent;\n",
              "      border-left-color: var(--fill-color);\n",
              "      border-top-color: var(--fill-color);\n",
              "      border-right-color: var(--fill-color);\n",
              "    }\n",
              "    40% {\n",
              "      border-color: transparent;\n",
              "      border-right-color: var(--fill-color);\n",
              "      border-top-color: var(--fill-color);\n",
              "    }\n",
              "    60% {\n",
              "      border-color: transparent;\n",
              "      border-right-color: var(--fill-color);\n",
              "    }\n",
              "    80% {\n",
              "      border-color: transparent;\n",
              "      border-right-color: var(--fill-color);\n",
              "      border-bottom-color: var(--fill-color);\n",
              "    }\n",
              "    90% {\n",
              "      border-color: transparent;\n",
              "      border-bottom-color: var(--fill-color);\n",
              "    }\n",
              "  }\n",
              "</style>\n",
              "\n",
              "  <script>\n",
              "    async function quickchart(key) {\n",
              "      const quickchartButtonEl =\n",
              "        document.querySelector('#' + key + ' button');\n",
              "      quickchartButtonEl.disabled = true;  // To prevent multiple clicks.\n",
              "      quickchartButtonEl.classList.add('colab-df-spinner');\n",
              "      try {\n",
              "        const charts = await google.colab.kernel.invokeFunction(\n",
              "            'suggestCharts', [key], {});\n",
              "      } catch (error) {\n",
              "        console.error('Error during call to suggestCharts:', error);\n",
              "      }\n",
              "      quickchartButtonEl.classList.remove('colab-df-spinner');\n",
              "      quickchartButtonEl.classList.add('colab-df-quickchart-complete');\n",
              "    }\n",
              "    (() => {\n",
              "      let quickchartButtonEl =\n",
              "        document.querySelector('#df-8a2ddec2-0ef0-4b14-8ec8-a374c8ff01f7 button');\n",
              "      quickchartButtonEl.style.display =\n",
              "        google.colab.kernel.accessAllowed ? 'block' : 'none';\n",
              "    })();\n",
              "  </script>\n",
              "</div>\n",
              "\n",
              "    </div>\n",
              "  </div>\n"
            ],
            "application/vnd.google.colaboratory.intrinsic+json": {
              "type": "dataframe",
              "variable_name": "new_df_trf",
              "summary": "{\n  \"name\": \"new_df_trf\",\n  \"rows\": 86584,\n  \"fields\": [\n    {\n      \"column\": \"LAT\",\n      \"properties\": {\n        \"dtype\": \"number\",\n        \"std\": 0.22540949566498233,\n        \"min\": 44.92469405,\n        \"max\": 45.88973369,\n        \"num_unique_values\": 79,\n        \"samples\": [\n          45.54264789,\n          45.60158469,\n          45.30360787\n        ],\n        \"semantic_type\": \"\",\n        \"description\": \"\"\n      }\n    },\n    {\n      \"column\": \"LON\",\n      \"properties\": {\n        \"dtype\": \"number\",\n        \"std\": 1.0566370652665111,\n        \"min\": 8.736496578,\n        \"max\": 12.59068235,\n        \"num_unique_values\": 79,\n        \"samples\": [\n          10.21120522,\n          11.90355081,\n          8.84480461\n        ],\n        \"semantic_type\": \"\",\n        \"description\": \"\"\n      }\n    },\n    {\n      \"column\": \"Precipitation\",\n      \"properties\": {\n        \"dtype\": \"number\",\n        \"std\": 7.617394210893272,\n        \"min\": 0.0,\n        \"max\": 135.3968048,\n        \"num_unique_values\": 14264,\n        \"samples\": [\n          1.445254445,\n          0.426165134,\n          24.66330719\n        ],\n        \"semantic_type\": \"\",\n        \"description\": \"\"\n      }\n    },\n    {\n      \"column\": \"LST\",\n      \"properties\": {\n        \"dtype\": \"number\",\n        \"std\": 10.730803092052309,\n        \"min\": 253.2,\n        \"max\": 327.84,\n        \"num_unique_values\": 42294,\n        \"samples\": [\n          313.98,\n          286.4200593980442,\n          300.8889198033957\n        ],\n        \"semantic_type\": \"\",\n        \"description\": \"\"\n      }\n    },\n    {\n      \"column\": \"AAI\",\n      \"properties\": {\n        \"dtype\": \"number\",\n        \"std\": 0.66840948073171,\n        \"min\": -5.196266174,\n        \"max\": 2.143020488,\n        \"num_unique_values\": 84343,\n        \"samples\": [\n          -0.525717795,\n          -1.294257427,\n          -1.424178839\n        ],\n        \"semantic_type\": \"\",\n        \"description\": \"\"\n      }\n    },\n    {\n      \"column\": \"CloudFraction\",\n      \"properties\": {\n        \"dtype\": \"number\",\n        \"std\": 0.2608698102255868,\n        \"min\": 0.0,\n        \"max\": 1.000000044,\n        \"num_unique_values\": 76278,\n        \"samples\": [\n          0.31233820985191707,\n          0.080725782,\n          0.015316312\n        ],\n        \"semantic_type\": \"\",\n        \"description\": \"\"\n      }\n    },\n    {\n      \"column\": \"NO2_strat\",\n      \"properties\": {\n        \"dtype\": \"number\",\n        \"std\": 1.2463128040971306e-05,\n        \"min\": 1.34e-05,\n        \"max\": 7.28e-05,\n        \"num_unique_values\": 13444,\n        \"samples\": [\n          3.840580526485316e-05,\n          3.401121517061649e-05,\n          5.090012798855433e-05\n        ],\n        \"semantic_type\": \"\",\n        \"description\": \"\"\n      }\n    },\n    {\n      \"column\": \"NO2_total\",\n      \"properties\": {\n        \"dtype\": \"number\",\n        \"std\": 0.00010395213738127516,\n        \"min\": -1.19e-05,\n        \"max\": 0.002047452,\n        \"num_unique_values\": 14314,\n        \"samples\": [\n          9.552757018602663e-05,\n          5.48e-05,\n          0.00011666332051896483\n        ],\n        \"semantic_type\": \"\",\n        \"description\": \"\"\n      }\n    },\n    {\n      \"column\": \"NO2_trop\",\n      \"properties\": {\n        \"dtype\": \"number\",\n        \"std\": 0.00010984138215951738,\n        \"min\": -4.41e-05,\n        \"max\": 0.002013652,\n        \"num_unique_values\": 20047,\n        \"samples\": [\n          7.24e-05,\n          0.0001691813416289228,\n          0.00027533805115071634\n        ],\n        \"semantic_type\": \"\",\n        \"description\": \"\"\n      }\n    },\n    {\n      \"column\": \"TropopausePressure\",\n      \"properties\": {\n        \"dtype\": \"number\",\n        \"std\": 2907.3777437344543,\n        \"min\": 8614.349685,\n        \"max\": 24449.00715,\n        \"num_unique_values\": 83563,\n        \"samples\": [\n          19243.91092,\n          22102.4951,\n          16727.56206\n        ],\n        \"semantic_type\": \"\",\n        \"description\": \"\"\n      }\n    },\n    {\n      \"column\": \"GT_NO2\",\n      \"properties\": {\n        \"dtype\": \"number\",\n        \"std\": 17.083583191048078,\n        \"min\": 0.0,\n        \"max\": 188.2333333,\n        \"num_unique_values\": 8778,\n        \"samples\": [\n          49.45,\n          17.3,\n          8.738065952256179\n        ],\n        \"semantic_type\": \"\",\n        \"description\": \"\"\n      }\n    },\n    {\n      \"column\": \"Day\",\n      \"properties\": {\n        \"dtype\": \"number\",\n        \"std\": 8.801420919943839,\n        \"min\": 1.0,\n        \"max\": 31.0,\n        \"num_unique_values\": 31,\n        \"samples\": [\n          9.0,\n          27.0,\n          5.0\n        ],\n        \"semantic_type\": \"\",\n        \"description\": \"\"\n      }\n    },\n    {\n      \"column\": \"Month\",\n      \"properties\": {\n        \"dtype\": \"number\",\n        \"std\": 3.449006128703941,\n        \"min\": 1.0,\n        \"max\": 12.0,\n        \"num_unique_values\": 12,\n        \"samples\": [\n          11.0,\n          10.0,\n          1.0\n        ],\n        \"semantic_type\": \"\",\n        \"description\": \"\"\n      }\n    },\n    {\n      \"column\": \"Year\",\n      \"properties\": {\n        \"dtype\": \"number\",\n        \"std\": 0.8161287195511359,\n        \"min\": 2019.0,\n        \"max\": 2021.0,\n        \"num_unique_values\": 3,\n        \"samples\": [\n          2019.0,\n          2020.0,\n          2021.0\n        ],\n        \"semantic_type\": \"\",\n        \"description\": \"\"\n      }\n    }\n  ]\n}"
            }
          },
          "metadata": {},
          "execution_count": 204
        }
      ],
      "source": [
        "new_df_trf.head(5)"
      ]
    },
    {
      "cell_type": "code",
      "source": [],
      "metadata": {
        "id": "7Wiwbby-h7Xc"
      },
      "id": "7Wiwbby-h7Xc",
      "execution_count": null,
      "outputs": []
    },
    {
      "cell_type": "code",
      "execution_count": 203,
      "id": "JVKdYgKEC8qO",
      "metadata": {
        "colab": {
          "base_uri": "https://localhost:8080/"
        },
        "id": "JVKdYgKEC8qO",
        "outputId": "d0d855a6-fa2e-44b9-eb86-cfb749a7ccb7"
      },
      "outputs": [
        {
          "output_type": "execute_result",
          "data": {
            "text/plain": [
              "Index(['LAT', 'LON', 'Precipitation', 'LST', 'AAI', 'CloudFraction',\n",
              "       'NO2_strat', 'NO2_total', 'NO2_trop', 'TropopausePressure', 'GT_NO2',\n",
              "       'Day', 'Month', 'Year'],\n",
              "      dtype='object')"
            ]
          },
          "metadata": {},
          "execution_count": 203
        }
      ],
      "source": [
        "new_df_trf.columns"
      ]
    },
    {
      "cell_type": "code",
      "execution_count": 205,
      "id": "SNKOxpo_C9DZ",
      "metadata": {
        "colab": {
          "base_uri": "https://localhost:8080/"
        },
        "id": "SNKOxpo_C9DZ",
        "outputId": "f5fc612d-ac3c-4435-f643-46435537f3e1"
      },
      "outputs": [
        {
          "output_type": "execute_result",
          "data": {
            "text/plain": [
              "4.569618429259263"
            ]
          },
          "metadata": {},
          "execution_count": 205
        }
      ],
      "source": [
        "new_df_trf['Precipitation'].skew()"
      ]
    },
    {
      "cell_type": "code",
      "execution_count": 39,
      "id": "9GVx78yXC9HX",
      "metadata": {
        "colab": {
          "base_uri": "https://localhost:8080/",
          "height": 542
        },
        "id": "9GVx78yXC9HX",
        "outputId": "2c3a5bd6-2d19-4d94-f2e4-5d43a9fb4a6f"
      },
      "outputs": [
        {
          "output_type": "display_data",
          "data": {
            "text/plain": [
              "<Figure size 1000x600 with 2 Axes>"
            ],
            "image/png": "[encoded data removed]"
          },
          "metadata": {}
        }
      ],
      "source": [
        "plt.figure(figsize=(10,6))\n",
        "plt.subplot(1,2,1)\n",
        "sns.distplot(new_df_trf['Precipitation'])\n",
        "plt.subplot(1,2,2)\n",
        "sns.distplot(new_df_trf['CloudFraction'])\n",
        "plt.show()"
      ]
    },
    {
      "cell_type": "code",
      "execution_count": 40,
      "id": "fFu4W7Z5C9Lw",
      "metadata": {
        "colab": {
          "base_uri": "https://localhost:8080/"
        },
        "id": "fFu4W7Z5C9Lw",
        "outputId": "e13cd8d6-5797-4a50-c25b-6993f9764c2d"
      },
      "outputs": [
        {
          "output_type": "execute_result",
          "data": {
            "text/plain": [
              "count    86584.000000\n",
              "mean         0.222186\n",
              "std          0.260870\n",
              "min          0.000000\n",
              "25%          0.030235\n",
              "50%          0.104986\n",
              "75%          0.333449\n",
              "max          1.000000\n",
              "Name: CloudFraction, dtype: float64"
            ]
          },
          "metadata": {},
          "execution_count": 40
        }
      ],
      "source": [
        "new_df_trf['CloudFraction'].describe()"
      ]
    },
    {
      "cell_type": "code",
      "execution_count": 41,
      "id": "BUY6VwG4C9QA",
      "metadata": {
        "colab": {
          "base_uri": "https://localhost:8080/",
          "height": 428
        },
        "id": "BUY6VwG4C9QA",
        "outputId": "482b6f64-48c5-4b6b-9340-9772012851cb"
      },
      "outputs": [
        {
          "output_type": "execute_result",
          "data": {
            "text/plain": [
              "<Axes: ylabel='CloudFraction'>"
            ]
          },
          "metadata": {},
          "execution_count": 41
        },
        {
          "output_type": "display_data",
          "data": {
            "text/plain": [
              "<Figure size 640x480 with 1 Axes>"
            ],
            "image/png": "[encoded data removed]"
          },
          "metadata": {}
        }
      ],
      "source": [
        "sns.boxplot(new_df_trf['CloudFraction'])"
      ]
    },
    {
      "cell_type": "code",
      "execution_count": 206,
      "id": "cu3wsbALC9Tb",
      "metadata": {
        "id": "cu3wsbALC9Tb"
      },
      "outputs": [],
      "source": [
        "#percentile25 = new_df_trf['CloudFraction'].quantile(0.25)\n",
        "#percentile75 = new_df_trf['CloudFraction'].quantile(0.75)\n",
        "#iqr = percentile75 - percentile25"
      ]
    },
    {
      "cell_type": "code",
      "execution_count": 207,
      "id": "9nRUIYOuKlhE",
      "metadata": {
        "id": "9nRUIYOuKlhE"
      },
      "outputs": [],
      "source": [
        "#upper_limit = percentile75 + 1.5 * iqr\n",
        "#lower_limit = percentile25 - 1.5 * iqr"
      ]
    },
    {
      "cell_type": "code",
      "execution_count": 208,
      "id": "_8SJ95e6MkOk",
      "metadata": {
        "id": "_8SJ95e6MkOk"
      },
      "outputs": [],
      "source": [
        "#lower_limit"
      ]
    },
    {
      "cell_type": "code",
      "execution_count": 209,
      "id": "ZqdCzugIKllj",
      "metadata": {
        "id": "ZqdCzugIKllj"
      },
      "outputs": [],
      "source": [
        "#upper_limit"
      ]
    },
    {
      "cell_type": "code",
      "execution_count": 210,
      "id": "8-EioN3KKlpv",
      "metadata": {
        "id": "8-EioN3KKlpv"
      },
      "outputs": [],
      "source": [
        "#new_df_trf[new_df_trf['CloudFraction'] > upper_limit]"
      ]
    },
    {
      "cell_type": "code",
      "execution_count": 211,
      "id": "DkI3BsnKC9XK",
      "metadata": {
        "id": "DkI3BsnKC9XK"
      },
      "outputs": [],
      "source": [
        "#new_df_trf['CloudFraction'] = np.where(new_df_trf['CloudFraction'] > upper_limit, upper_limit, new_df_trf['CloudFraction'])"
      ]
    },
    {
      "cell_type": "code",
      "execution_count": 212,
      "id": "OawjCYZ5C9n9",
      "metadata": {
        "id": "OawjCYZ5C9n9"
      },
      "outputs": [],
      "source": [
        "#new_df_trf"
      ]
    },
    {
      "cell_type": "code",
      "execution_count": 213,
      "id": "mOQibncYC9sH",
      "metadata": {
        "id": "mOQibncYC9sH"
      },
      "outputs": [],
      "source": [
        "#new_df_trf['NO2_total'].describe()"
      ]
    },
    {
      "cell_type": "code",
      "execution_count": 214,
      "id": "lIYvnixFNZJK",
      "metadata": {
        "id": "lIYvnixFNZJK"
      },
      "outputs": [],
      "source": [
        "#sns.boxplot(new_df_trf['NO2_total'])"
      ]
    },
    {
      "cell_type": "code",
      "execution_count": 215,
      "id": "AWyWjr6UNZVH",
      "metadata": {
        "id": "AWyWjr6UNZVH"
      },
      "outputs": [],
      "source": [
        "#percentile25 = new_df_trf['NO2_trop'].quantile(0.25)\n",
        "#percentile75 = new_df_trf['NO2_trop'].quantile(0.75)\n",
        "#iqr = percentile75 - percentile25"
      ]
    },
    {
      "cell_type": "code",
      "execution_count": 216,
      "id": "75RmqR3gNZZO",
      "metadata": {
        "id": "75RmqR3gNZZO"
      },
      "outputs": [],
      "source": [
        "#upper_limit = percentile75 + 1.5 * iqr\n",
        "#lower_limit = percentile25 - 1.5 * iqr"
      ]
    },
    {
      "cell_type": "code",
      "execution_count": 217,
      "id": "tXye1ai_NZdI",
      "metadata": {
        "id": "tXye1ai_NZdI"
      },
      "outputs": [],
      "source": [
        "#lower_limit"
      ]
    },
    {
      "cell_type": "code",
      "execution_count": 218,
      "id": "L9Wan_4BNZhX",
      "metadata": {
        "id": "L9Wan_4BNZhX"
      },
      "outputs": [],
      "source": [
        "#new_df_trf['NO2_total'] = np.where(new_df_trf['NO2_total'] < 0 , 0, new_df_trf['NO2_total'])"
      ]
    },
    {
      "cell_type": "code",
      "execution_count": 219,
      "id": "-V_ISMAANZmL",
      "metadata": {
        "id": "-V_ISMAANZmL"
      },
      "outputs": [],
      "source": [
        "#new_df_trf.query('NO2_total < 0')"
      ]
    },
    {
      "cell_type": "code",
      "execution_count": 220,
      "id": "c5pK4QbkNZrS",
      "metadata": {
        "id": "c5pK4QbkNZrS"
      },
      "outputs": [],
      "source": [
        "#new_df_trf['No2_trop'] = np.where(new_df_trf['NO2_trop'] < 0 , 0, new_df_trf['NO2_trop'])"
      ]
    },
    {
      "cell_type": "code",
      "execution_count": 221,
      "id": "BdpqqOcVNZt4",
      "metadata": {
        "id": "BdpqqOcVNZt4"
      },
      "outputs": [],
      "source": [
        "#new_df_trf.isnull().sum()"
      ]
    },
    {
      "cell_type": "code",
      "execution_count": 63,
      "id": "nzpExwS8NZxF",
      "metadata": {
        "id": "nzpExwS8NZxF"
      },
      "outputs": [],
      "source": []
    },
    {
      "cell_type": "code",
      "execution_count": 63,
      "id": "4lUXMw30NZ0W",
      "metadata": {
        "id": "4lUXMw30NZ0W"
      },
      "outputs": [],
      "source": []
    },
    {
      "cell_type": "code",
      "execution_count": 63,
      "id": "8LqouUC6NZ3j",
      "metadata": {
        "id": "8LqouUC6NZ3j"
      },
      "outputs": [],
      "source": []
    },
    {
      "cell_type": "code",
      "execution_count": 63,
      "id": "CAuOgCl5NZ6N",
      "metadata": {
        "id": "CAuOgCl5NZ6N"
      },
      "outputs": [],
      "source": []
    },
    {
      "cell_type": "code",
      "execution_count": 222,
      "id": "UIxClvgJ5DBC",
      "metadata": {
        "id": "UIxClvgJ5DBC"
      },
      "outputs": [],
      "source": [
        "from sklearn.preprocessing import StandardScaler\n",
        "scaler = StandardScaler()\n",
        "imp_col = new_df_trf[['LAT','LON','Precipitation','LST','AAI','CloudFraction','NO2_strat','NO2_total','NO2_trop','TropopausePressure','Day','Month','Year']]"
      ]
    },
    {
      "cell_type": "code",
      "execution_count": 223,
      "id": "6IBhCMfiNuvD",
      "metadata": {
        "colab": {
          "base_uri": "https://localhost:8080/"
        },
        "id": "6IBhCMfiNuvD",
        "outputId": "f6cfd105-0753-40c4-e0a9-3a2d7fa24ed5"
      },
      "outputs": [
        {
          "output_type": "execute_result",
          "data": {
            "text/plain": [
              "LAT                   0\n",
              "LON                   0\n",
              "Precipitation         0\n",
              "LST                   0\n",
              "AAI                   0\n",
              "CloudFraction         0\n",
              "NO2_strat             0\n",
              "NO2_total             0\n",
              "NO2_trop              0\n",
              "TropopausePressure    0\n",
              "GT_NO2                0\n",
              "Day                   0\n",
              "Month                 0\n",
              "Year                  0\n",
              "dtype: int64"
            ]
          },
          "metadata": {},
          "execution_count": 223
        }
      ],
      "source": [
        "new_df_trf.isnull().sum()"
      ]
    },
    {
      "cell_type": "code",
      "execution_count": 224,
      "id": "9JXjka0Q6ZYC",
      "metadata": {
        "id": "9JXjka0Q6ZYC"
      },
      "outputs": [],
      "source": [
        "scaled_data = scaler.fit_transform(new_df_trf[imp_col.columns].values.reshape(-1, len(imp_col.columns)))\n",
        "new_df_trf[imp_col.columns] = scaled_data"
      ]
    },
    {
      "cell_type": "code",
      "execution_count": 226,
      "id": "lpGhKyRx6sF2",
      "metadata": {
        "colab": {
          "base_uri": "https://localhost:8080/",
          "height": 226
        },
        "id": "lpGhKyRx6sF2",
        "outputId": "98ab5d56-555f-4cd6-d7d8-dc05f85c8a7c"
      },
      "outputs": [
        {
          "output_type": "execute_result",
          "data": {
            "text/plain": [
              "        LAT       LON  Precipitation       LST       AAI  CloudFraction  \\\n",
              "0  0.799122  1.788021      -0.339426 -1.424007  2.228651       1.291575   \n",
              "1 -0.223822  1.728662       0.060627 -1.624941  1.773040       2.480649   \n",
              "2 -1.666448  1.936908      -0.339426 -1.438158  1.920370       1.732577   \n",
              "3 -1.408029  1.456486      -0.181830 -1.426306  1.868139       2.675172   \n",
              "4 -1.697798  1.680700      -0.172102 -1.415067  1.620181       2.013574   \n",
              "\n",
              "   NO2_strat  NO2_total  NO2_trop  TropopausePressure  GT_NO2       Day  \\\n",
              "0  -1.627069  -0.442631 -0.230779           -0.789609    31.0 -1.673906   \n",
              "1  -1.619046  -0.346432 -0.140648           -0.789273    42.0 -1.673906   \n",
              "2  -1.611022  -0.738923 -0.513006           -0.790792    31.0 -1.673906   \n",
              "3  -1.602998  -0.375292 -0.169781           -0.789604    30.0 -1.673906   \n",
              "4  -1.602998  -0.452251 -0.242614           -0.790308    58.0 -1.673906   \n",
              "\n",
              "      Month      Year  \n",
              "0 -1.601021 -1.225304  \n",
              "1 -1.601021 -1.225304  \n",
              "2 -1.601021 -1.225304  \n",
              "3 -1.601021 -1.225304  \n",
              "4 -1.601021 -1.225304  "
            ],
            "text/html": [
              "\n",
              "  <div id=\"df-d16fd590-3a40-47ca-acdc-6d3025803834\" class=\"colab-df-container\">\n",
              "    <div>\n",
              "<style scoped>\n",
              "    .dataframe tbody tr th:only-of-type {\n",
              "        vertical-align: middle;\n",
              "    }\n",
              "\n",
              "    .dataframe tbody tr th {\n",
              "        vertical-align: top;\n",
              "    }\n",
              "\n",
              "    .dataframe thead th {\n",
              "        text-align: right;\n",
              "    }\n",
              "</style>\n",
              "<table border=\"1\" class=\"dataframe\">\n",
              "  <thead>\n",
              "    <tr style=\"text-align: right;\">\n",
              "      <th></th>\n",
              "      <th>LAT</th>\n",
              "      <th>LON</th>\n",
              "      <th>Precipitation</th>\n",
              "      <th>LST</th>\n",
              "      <th>AAI</th>\n",
              "      <th>CloudFraction</th>\n",
              "      <th>NO2_strat</th>\n",
              "      <th>NO2_total</th>\n",
              "      <th>NO2_trop</th>\n",
              "      <th>TropopausePressure</th>\n",
              "      <th>GT_NO2</th>\n",
              "      <th>Day</th>\n",
              "      <th>Month</th>\n",
              "      <th>Year</th>\n",
              "    </tr>\n",
              "  </thead>\n",
              "  <tbody>\n",
              "    <tr>\n",
              "      <th>0</th>\n",
              "      <td>0.799122</td>\n",
              "      <td>1.788021</td>\n",
              "      <td>-0.339426</td>\n",
              "      <td>-1.424007</td>\n",
              "      <td>2.228651</td>\n",
              "      <td>1.291575</td>\n",
              "      <td>-1.627069</td>\n",
              "      <td>-0.442631</td>\n",
              "      <td>-0.230779</td>\n",
              "      <td>-0.789609</td>\n",
              "      <td>31.0</td>\n",
              "      <td>-1.673906</td>\n",
              "      <td>-1.601021</td>\n",
              "      <td>-1.225304</td>\n",
              "    </tr>\n",
              "    <tr>\n",
              "      <th>1</th>\n",
              "      <td>-0.223822</td>\n",
              "      <td>1.728662</td>\n",
              "      <td>0.060627</td>\n",
              "      <td>-1.624941</td>\n",
              "      <td>1.773040</td>\n",
              "      <td>2.480649</td>\n",
              "      <td>-1.619046</td>\n",
              "      <td>-0.346432</td>\n",
              "      <td>-0.140648</td>\n",
              "      <td>-0.789273</td>\n",
              "      <td>42.0</td>\n",
              "      <td>-1.673906</td>\n",
              "      <td>-1.601021</td>\n",
              "      <td>-1.225304</td>\n",
              "    </tr>\n",
              "    <tr>\n",
              "      <th>2</th>\n",
              "      <td>-1.666448</td>\n",
              "      <td>1.936908</td>\n",
              "      <td>-0.339426</td>\n",
              "      <td>-1.438158</td>\n",
              "      <td>1.920370</td>\n",
              "      <td>1.732577</td>\n",
              "      <td>-1.611022</td>\n",
              "      <td>-0.738923</td>\n",
              "      <td>-0.513006</td>\n",
              "      <td>-0.790792</td>\n",
              "      <td>31.0</td>\n",
              "      <td>-1.673906</td>\n",
              "      <td>-1.601021</td>\n",
              "      <td>-1.225304</td>\n",
              "    </tr>\n",
              "    <tr>\n",
              "      <th>3</th>\n",
              "      <td>-1.408029</td>\n",
              "      <td>1.456486</td>\n",
              "      <td>-0.181830</td>\n",
              "      <td>-1.426306</td>\n",
              "      <td>1.868139</td>\n",
              "      <td>2.675172</td>\n",
              "      <td>-1.602998</td>\n",
              "      <td>-0.375292</td>\n",
              "      <td>-0.169781</td>\n",
              "      <td>-0.789604</td>\n",
              "      <td>30.0</td>\n",
              "      <td>-1.673906</td>\n",
              "      <td>-1.601021</td>\n",
              "      <td>-1.225304</td>\n",
              "    </tr>\n",
              "    <tr>\n",
              "      <th>4</th>\n",
              "      <td>-1.697798</td>\n",
              "      <td>1.680700</td>\n",
              "      <td>-0.172102</td>\n",
              "      <td>-1.415067</td>\n",
              "      <td>1.620181</td>\n",
              "      <td>2.013574</td>\n",
              "      <td>-1.602998</td>\n",
              "      <td>-0.452251</td>\n",
              "      <td>-0.242614</td>\n",
              "      <td>-0.790308</td>\n",
              "      <td>58.0</td>\n",
              "      <td>-1.673906</td>\n",
              "      <td>-1.601021</td>\n",
              "      <td>-1.225304</td>\n",
              "    </tr>\n",
              "  </tbody>\n",
              "</table>\n",
              "</div>\n",
              "    <div class=\"colab-df-buttons\">\n",
              "\n",
              "  <div class=\"colab-df-container\">\n",
              "    <button class=\"colab-df-convert\" onclick=\"convertToInteractive('df-d16fd590-3a40-47ca-acdc-6d3025803834')\"\n",
              "            title=\"Convert this dataframe to an interactive table.\"\n",
              "            style=\"display:none;\">\n",
              "\n",
              "  <svg xmlns=\"http://www.w3.org/2000/svg\" height=\"24px\" viewBox=\"0 -960 960 960\">\n",
              "    <path d=\"M120-120v-720h720v720H120Zm60-500h600v-160H180v160Zm220 220h160v-160H400v160Zm0 220h160v-160H400v160ZM180-400h160v-160H180v160Zm440 0h160v-160H620v160ZM180-180h160v-160H180v160Zm440 0h160v-160H620v160Z\"/>\n",
              "  </svg>\n",
              "    </button>\n",
              "\n",
              "  <style>\n",
              "    .colab-df-container {\n",
              "      display:flex;\n",
              "      gap: 12px;\n",
              "    }\n",
              "\n",
              "    .colab-df-convert {\n",
              "      background-color: #E8F0FE;\n",
              "      border: none;\n",
              "      border-radius: 50%;\n",
              "      cursor: pointer;\n",
              "      display: none;\n",
              "      fill: #1967D2;\n",
              "      height: 32px;\n",
              "      padding: 0 0 0 0;\n",
              "      width: 32px;\n",
              "    }\n",
              "\n",
              "    .colab-df-convert:hover {\n",
              "      background-color: #E2EBFA;\n",
              "      box-shadow: 0px 1px 2px rgba(60, 64, 67, 0.3), 0px 1px 3px 1px rgba(60, 64, 67, 0.15);\n",
              "      fill: #174EA6;\n",
              "    }\n",
              "\n",
              "    .colab-df-buttons div {\n",
              "      margin-bottom: 4px;\n",
              "    }\n",
              "\n",
              "    [theme=dark] .colab-df-convert {\n",
              "      background-color: #3B4455;\n",
              "      fill: #D2E3FC;\n",
              "    }\n",
              "\n",
              "    [theme=dark] .colab-df-convert:hover {\n",
              "      background-color: #434B5C;\n",
              "      box-shadow: 0px 1px 3px 1px rgba(0, 0, 0, 0.15);\n",
              "      filter: drop-shadow(0px 1px 2px rgba(0, 0, 0, 0.3));\n",
              "      fill: #FFFFFF;\n",
              "    }\n",
              "  </style>\n",
              "\n",
              "    <script>\n",
              "      const buttonEl =\n",
              "        document.querySelector('#df-d16fd590-3a40-47ca-acdc-6d3025803834 button.colab-df-convert');\n",
              "      buttonEl.style.display =\n",
              "        google.colab.kernel.accessAllowed ? 'block' : 'none';\n",
              "\n",
              "      async function convertToInteractive(key) {\n",
              "        const element = document.querySelector('#df-d16fd590-3a40-47ca-acdc-6d3025803834');\n",
              "        const dataTable =\n",
              "          await google.colab.kernel.invokeFunction('convertToInteractive',\n",
              "                                                    [key], {});\n",
              "        if (!dataTable) return;\n",
              "\n",
              "        const docLinkHtml = 'Like what you see? Visit the ' +\n",
              "          '<a target=\"_blank\" href=https://colab.research.google.com/notebooks/data_table.ipynb>data table notebook</a>'\n",
              "          + ' to learn more about interactive tables.';\n",
              "        element.innerHTML = '';\n",
              "        dataTable['output_type'] = 'display_data';\n",
              "        await google.colab.output.renderOutput(dataTable, element);\n",
              "        const docLink = document.createElement('div');\n",
              "        docLink.innerHTML = docLinkHtml;\n",
              "        element.appendChild(docLink);\n",
              "      }\n",
              "    </script>\n",
              "  </div>\n",
              "\n",
              "\n",
              "<div id=\"df-9d574106-2411-4c07-a80a-9f5c4cec4e46\">\n",
              "  <button class=\"colab-df-quickchart\" onclick=\"quickchart('df-9d574106-2411-4c07-a80a-9f5c4cec4e46')\"\n",
              "            title=\"Suggest charts\"\n",
              "            style=\"display:none;\">\n",
              "\n",
              "<svg xmlns=\"http://www.w3.org/2000/svg\" height=\"24px\"viewBox=\"0 0 24 24\"\n",
              "     width=\"24px\">\n",
              "    <g>\n",
              "        <path d=\"M19 3H5c-1.1 0-2 .9-2 2v14c0 1.1.9 2 2 2h14c1.1 0 2-.9 2-2V5c0-1.1-.9-2-2-2zM9 17H7v-7h2v7zm4 0h-2V7h2v10zm4 0h-2v-4h2v4z\"/>\n",
              "    </g>\n",
              "</svg>\n",
              "  </button>\n",
              "\n",
              "<style>\n",
              "  .colab-df-quickchart {\n",
              "      --bg-color: #E8F0FE;\n",
              "      --fill-color: #1967D2;\n",
              "      --hover-bg-color: #E2EBFA;\n",
              "      --hover-fill-color: #174EA6;\n",
              "      --disabled-fill-color: #AAA;\n",
              "      --disabled-bg-color: #DDD;\n",
              "  }\n",
              "\n",
              "  [theme=dark] .colab-df-quickchart {\n",
              "      --bg-color: #3B4455;\n",
              "      --fill-color: #D2E3FC;\n",
              "      --hover-bg-color: #434B5C;\n",
              "      --hover-fill-color: #FFFFFF;\n",
              "      --disabled-bg-color: #3B4455;\n",
              "      --disabled-fill-color: #666;\n",
              "  }\n",
              "\n",
              "  .colab-df-quickchart {\n",
              "    background-color: var(--bg-color);\n",
              "    border: none;\n",
              "    border-radius: 50%;\n",
              "    cursor: pointer;\n",
              "    display: none;\n",
              "    fill: var(--fill-color);\n",
              "    height: 32px;\n",
              "    padding: 0;\n",
              "    width: 32px;\n",
              "  }\n",
              "\n",
              "  .colab-df-quickchart:hover {\n",
              "    background-color: var(--hover-bg-color);\n",
              "    box-shadow: 0 1px 2px rgba(60, 64, 67, 0.3), 0 1px 3px 1px rgba(60, 64, 67, 0.15);\n",
              "    fill: var(--button-hover-fill-color);\n",
              "  }\n",
              "\n",
              "  .colab-df-quickchart-complete:disabled,\n",
              "  .colab-df-quickchart-complete:disabled:hover {\n",
              "    background-color: var(--disabled-bg-color);\n",
              "    fill: var(--disabled-fill-color);\n",
              "    box-shadow: none;\n",
              "  }\n",
              "\n",
              "  .colab-df-spinner {\n",
              "    border: 2px solid var(--fill-color);\n",
              "    border-color: transparent;\n",
              "    border-bottom-color: var(--fill-color);\n",
              "    animation:\n",
              "      spin 1s steps(1) infinite;\n",
              "  }\n",
              "\n",
              "  @keyframes spin {\n",
              "    0% {\n",
              "      border-color: transparent;\n",
              "      border-bottom-color: var(--fill-color);\n",
              "      border-left-color: var(--fill-color);\n",
              "    }\n",
              "    20% {\n",
              "      border-color: transparent;\n",
              "      border-left-color: var(--fill-color);\n",
              "      border-top-color: var(--fill-color);\n",
              "    }\n",
              "    30% {\n",
              "      border-color: transparent;\n",
              "      border-left-color: var(--fill-color);\n",
              "      border-top-color: var(--fill-color);\n",
              "      border-right-color: var(--fill-color);\n",
              "    }\n",
              "    40% {\n",
              "      border-color: transparent;\n",
              "      border-right-color: var(--fill-color);\n",
              "      border-top-color: var(--fill-color);\n",
              "    }\n",
              "    60% {\n",
              "      border-color: transparent;\n",
              "      border-right-color: var(--fill-color);\n",
              "    }\n",
              "    80% {\n",
              "      border-color: transparent;\n",
              "      border-right-color: var(--fill-color);\n",
              "      border-bottom-color: var(--fill-color);\n",
              "    }\n",
              "    90% {\n",
              "      border-color: transparent;\n",
              "      border-bottom-color: var(--fill-color);\n",
              "    }\n",
              "  }\n",
              "</style>\n",
              "\n",
              "  <script>\n",
              "    async function quickchart(key) {\n",
              "      const quickchartButtonEl =\n",
              "        document.querySelector('#' + key + ' button');\n",
              "      quickchartButtonEl.disabled = true;  // To prevent multiple clicks.\n",
              "      quickchartButtonEl.classList.add('colab-df-spinner');\n",
              "      try {\n",
              "        const charts = await google.colab.kernel.invokeFunction(\n",
              "            'suggestCharts', [key], {});\n",
              "      } catch (error) {\n",
              "        console.error('Error during call to suggestCharts:', error);\n",
              "      }\n",
              "      quickchartButtonEl.classList.remove('colab-df-spinner');\n",
              "      quickchartButtonEl.classList.add('colab-df-quickchart-complete');\n",
              "    }\n",
              "    (() => {\n",
              "      let quickchartButtonEl =\n",
              "        document.querySelector('#df-9d574106-2411-4c07-a80a-9f5c4cec4e46 button');\n",
              "      quickchartButtonEl.style.display =\n",
              "        google.colab.kernel.accessAllowed ? 'block' : 'none';\n",
              "    })();\n",
              "  </script>\n",
              "</div>\n",
              "\n",
              "    </div>\n",
              "  </div>\n"
            ],
            "application/vnd.google.colaboratory.intrinsic+json": {
              "type": "dataframe",
              "variable_name": "new_df_trf",
              "summary": "{\n  \"name\": \"new_df_trf\",\n  \"rows\": 86584,\n  \"fields\": [\n    {\n      \"column\": \"LAT\",\n      \"properties\": {\n        \"dtype\": \"number\",\n        \"std\": 1.0000057747890039,\n        \"min\": -2.20383310935114,\n        \"max\": 2.0774648459693053,\n        \"num_unique_values\": 79,\n        \"samples\": [\n          0.5376548068078368,\n          0.7991217879291007,\n          -0.5228213710056947\n        ],\n        \"semantic_type\": \"\",\n        \"description\": \"\"\n      }\n    },\n    {\n      \"column\": \"LON\",\n      \"properties\": {\n        \"dtype\": \"number\",\n        \"std\": 1.0000057747890039,\n        \"min\": -1.2092922155439003,\n        \"max\": 2.438325453572679,\n        \"num_unique_values\": 79,\n        \"samples\": [\n          0.18637826262476717,\n          1.7880212662343826,\n          -1.1067890372849454\n        ],\n        \"semantic_type\": \"\",\n        \"description\": \"\"\n      }\n    },\n    {\n      \"column\": \"Precipitation\",\n      \"properties\": {\n        \"dtype\": \"number\",\n        \"std\": 1.0000057747890037,\n        \"min\": -0.33942611259159594,\n        \"max\": 17.43536444430959,\n        \"num_unique_values\": 14264,\n        \"samples\": [\n          -0.14969419757889052,\n          -0.2834794747762276,\n          2.8983542795699564\n        ],\n        \"semantic_type\": \"\",\n        \"description\": \"\"\n      }\n    },\n    {\n      \"column\": \"LST\",\n      \"properties\": {\n        \"dtype\": \"number\",\n        \"std\": 1.0000057747890039,\n        \"min\": -4.1588444457795175,\n        \"max\": 2.7968726976589933,\n        \"num_unique_values\": 42294,\n        \"samples\": [\n          1.5052564113774085,\n          -1.063060192550394,\n          0.2852959216982953\n        ],\n        \"semantic_type\": \"\",\n        \"description\": \"\"\n      }\n    },\n    {\n      \"column\": \"AAI\",\n      \"properties\": {\n        \"dtype\": \"number\",\n        \"std\": 1.0000057747890037,\n        \"min\": -5.890360343062476,\n        \"max\": 5.08992832190009,\n        \"num_unique_values\": 84343,\n        \"samples\": [\n          1.097235561948515,\n          -0.05257468507683841,\n          -0.24694978898247902\n        ],\n        \"semantic_type\": \"\",\n        \"description\": \"\"\n      }\n    },\n    {\n      \"column\": \"CloudFraction\",\n      \"properties\": {\n        \"dtype\": \"number\",\n        \"std\": 1.0000057747890037,\n        \"min\": -0.8517165604200234,\n        \"max\": 2.9816354779952468,\n        \"num_unique_values\": 76278,\n        \"samples\": [\n          0.34558570030949964,\n          -0.5422662330534712,\n          -0.793003747177183\n        ],\n        \"semantic_type\": \"\",\n        \"description\": \"\"\n      }\n    },\n    {\n      \"column\": \"NO2_strat\",\n      \"properties\": {\n        \"dtype\": \"number\",\n        \"std\": 1.0000057747890039,\n        \"min\": -2.4615357320325346,\n        \"max\": 2.304550504680595,\n        \"num_unique_values\": 13444,\n        \"samples\": [\n          -0.45514138336678756,\n          -0.8077507329313878,\n          0.5473673636110618\n        ],\n        \"semantic_type\": \"\",\n        \"description\": \"\"\n      }\n    },\n    {\n      \"column\": \"NO2_total\",\n      \"properties\": {\n        \"dtype\": \"number\",\n        \"std\": 1.0000057747890037,\n        \"min\": -1.6826317289506223,\n        \"max\": 18.128061386189078,\n        \"num_unique_values\": 14314,\n        \"samples\": [\n          -0.6491927515147567,\n          -1.0409865751450476,\n          -0.4458696364746613\n        ],\n        \"semantic_type\": \"\",\n        \"description\": \"\"\n      }\n    },\n    {\n      \"column\": \"NO2_trop\",\n      \"properties\": {\n        \"dtype\": \"number\",\n        \"std\": 1.0000057747890037,\n        \"min\": -1.4807703024670162,\n        \"max\": 17.253188089418746,\n        \"num_unique_values\": 19444,\n        \"samples\": [\n          1.2998190971150618,\n          -0.1916312282291957,\n          0.25712004482944933\n        ],\n        \"semantic_type\": \"\",\n        \"description\": \"\"\n      }\n    },\n    {\n      \"column\": \"TropopausePressure\",\n      \"properties\": {\n        \"dtype\": \"number\",\n        \"std\": 1.0000057747890037,\n        \"min\": -2.793650844370164,\n        \"max\": 2.652751481894626,\n        \"num_unique_values\": 83563,\n        \"samples\": [\n          0.8624350018466568,\n          1.8456580088607675,\n          -0.0030746130654799217\n        ],\n        \"semantic_type\": \"\",\n        \"description\": \"\"\n      }\n    },\n    {\n      \"column\": \"GT_NO2\",\n      \"properties\": {\n        \"dtype\": \"number\",\n        \"std\": 17.083583191048078,\n        \"min\": 0.0,\n        \"max\": 188.2333333,\n        \"num_unique_values\": 8778,\n        \"samples\": [\n          49.45,\n          17.3,\n          8.738065952256179\n        ],\n        \"semantic_type\": \"\",\n        \"description\": \"\"\n      }\n    },\n    {\n      \"column\": \"Day\",\n      \"properties\": {\n        \"dtype\": \"number\",\n        \"std\": 1.0000057747890039,\n        \"min\": -1.6739057756253821,\n        \"max\": 1.7346544462463318,\n        \"num_unique_values\": 31,\n        \"samples\": [\n          -0.7649563831262584,\n          1.28017974999677,\n          -1.2194310793758203\n        ],\n        \"semantic_type\": \"\",\n        \"description\": \"\"\n      }\n    },\n    {\n      \"column\": \"Month\",\n      \"properties\": {\n        \"dtype\": \"number\",\n        \"std\": 1.0000057747890037,\n        \"min\": -1.6010205525754602,\n        \"max\": 1.5883224384770427,\n        \"num_unique_values\": 12,\n        \"samples\": [\n          1.2983821665631787,\n          1.008441894649315,\n          -1.6010205525754602\n        ],\n        \"semantic_type\": \"\",\n        \"description\": \"\"\n      }\n    },\n    {\n      \"column\": \"Year\",\n      \"properties\": {\n        \"dtype\": \"number\",\n        \"std\": 1.0000057747890037,\n        \"min\": -1.225303988002038,\n        \"max\": 1.225303988002038,\n        \"num_unique_values\": 3,\n        \"samples\": [\n          -1.225303988002038,\n          0.0,\n          1.225303988002038\n        ],\n        \"semantic_type\": \"\",\n        \"description\": \"\"\n      }\n    }\n  ]\n}"
            }
          },
          "metadata": {},
          "execution_count": 226
        }
      ],
      "source": [
        "new_df_trf.head()"
      ]
    },
    {
      "cell_type": "code",
      "execution_count": 228,
      "id": "93902726-807b-413c-8f77-f13af32e4ca6",
      "metadata": {
        "id": "93902726-807b-413c-8f77-f13af32e4ca6"
      },
      "outputs": [],
      "source": [
        "from sklearn.model_selection import train_test_split\n",
        "x = new_df_trf[['LAT', 'LON', 'Precipitation', 'LST', 'AAI',\n",
        "       'CloudFraction', 'NO2_strat', 'NO2_total', 'NO2_trop',\n",
        "       'TropopausePressure','Day', 'Month', 'Year']]\n",
        "y = new_df_trf['GT_NO2']"
      ]
    },
    {
      "cell_type": "code",
      "execution_count": 229,
      "id": "2f100e53-b7e9-4d2b-9eec-4d7aefba446d",
      "metadata": {
        "id": "2f100e53-b7e9-4d2b-9eec-4d7aefba446d"
      },
      "outputs": [],
      "source": [
        "x_train,x_test,y_train,y_test = train_test_split(x,y,test_size = 0.3,random_state=42)"
      ]
    },
    {
      "cell_type": "code",
      "execution_count": 230,
      "id": "ff8de0b9-4417-4a9a-8226-9435e1a65549",
      "metadata": {
        "id": "ff8de0b9-4417-4a9a-8226-9435e1a65549"
      },
      "outputs": [],
      "source": [
        "def objective(trial):\n",
        "    params = {\n",
        "       'n_estimators': trial.suggest_int('n_estimators', 100, 1000, step=100),\n",
        "       'max_depth': trial.suggest_int('max_depth', 3, 10),\n",
        "       'learning_rate': trial.suggest_loguniform('learning_rate', 1e-4, 1e-1),\n",
        "       'reg_alpha': trial.suggest_loguniform('reg_alpha', 1e-5, 1e2),\n",
        "       'reg_lambda': trial.suggest_loguniform('reg_lambda', 1e-5, 1e2),\n",
        "       'subsample': trial.suggest_uniform('subsample', 0.6, 0.95),\n",
        "       'colsample_bytree': trial.suggest_uniform('colsample_bytree', 0.6, 0.95),\n",
        "       'random_state': 42,\n",
        "        'objective': 'reg:squarederror'\n",
        "    }\n",
        "    model = xgb.XGBRegressor(**params)\n",
        "    model.fit(x_train,y_train)\n",
        "    y_pred = model.predict(x_test)\n",
        "    mse = mean_squared_error(y_test,y_pred)\n",
        "    return mse"
      ]
    },
    {
      "cell_type": "code",
      "execution_count": 233,
      "id": "2a424814-e5a6-49db-9f3a-40694df86fe1",
      "metadata": {
        "colab": {
          "base_uri": "https://localhost:8080/"
        },
        "id": "2a424814-e5a6-49db-9f3a-40694df86fe1",
        "scrolled": true,
        "outputId": "b78ec662-50f7-48fe-c840-eaa2591244c1"
      },
      "outputs": [
        {
          "output_type": "stream",
          "name": "stderr",
          "text": [
            "[I 2024-07-18 03:48:57,908] A new study created in memory with name: no-name-8cfed9f3-47c7-40f4-b748-da1bb3dc1531\n",
            "[I 2024-07-18 03:49:09,770] Trial 0 finished with value: 64.99783374511551 and parameters: {'n_estimators': 900, 'max_depth': 7, 'learning_rate': 0.009295522943392837, 'reg_alpha': 0.004462278602099596, 'reg_lambda': 1.1191626276653303e-05, 'subsample': 0.8153716154473402, 'colsample_bytree': 0.7721384224752756}. Best is trial 0 with value: 64.99783374511551.\n",
            "[I 2024-07-18 03:49:46,473] Trial 1 finished with value: 47.45354487283615 and parameters: {'n_estimators': 1000, 'max_depth': 10, 'learning_rate': 0.04414771867180396, 'reg_alpha': 4.720318131858861, 'reg_lambda': 0.7996154657382378, 'subsample': 0.8758475313779153, 'colsample_bytree': 0.7608487361882283}. Best is trial 1 with value: 47.45354487283615.\n",
            "[I 2024-07-18 03:49:56,094] Trial 2 finished with value: 70.2754903726364 and parameters: {'n_estimators': 700, 'max_depth': 7, 'learning_rate': 0.008374041968592967, 'reg_alpha': 0.2587004371433198, 'reg_lambda': 3.1540247157674433, 'subsample': 0.6057192491115576, 'colsample_bytree': 0.7877819726937747}. Best is trial 1 with value: 47.45354487283615.\n",
            "[I 2024-07-18 03:50:00,905] Trial 3 finished with value: 121.93458448659665 and parameters: {'n_estimators': 1000, 'max_depth': 4, 'learning_rate': 0.0020626346902831503, 'reg_alpha': 0.09129138243509068, 'reg_lambda': 0.0003829071261069062, 'subsample': 0.7217690822098646, 'colsample_bytree': 0.8173614735603796}. Best is trial 1 with value: 47.45354487283615.\n",
            "[I 2024-07-18 03:50:14,395] Trial 4 finished with value: 75.5788952433572 and parameters: {'n_estimators': 800, 'max_depth': 7, 'learning_rate': 0.005188270057521244, 'reg_alpha': 0.001040580126050433, 'reg_lambda': 0.09262413555994668, 'subsample': 0.828210692060354, 'colsample_bytree': 0.9100690651502099}. Best is trial 1 with value: 47.45354487283615.\n",
            "[I 2024-07-18 03:50:24,839] Trial 5 finished with value: 52.41433028699146 and parameters: {'n_estimators': 300, 'max_depth': 10, 'learning_rate': 0.047898452597319785, 'reg_alpha': 1.5722800696860133e-05, 'reg_lambda': 16.405080249441102, 'subsample': 0.782194587709672, 'colsample_bytree': 0.6168586624209906}. Best is trial 1 with value: 47.45354487283615.\n",
            "[I 2024-07-18 03:50:50,504] Trial 6 finished with value: 81.33336251887322 and parameters: {'n_estimators': 800, 'max_depth': 9, 'learning_rate': 0.003017794731408137, 'reg_alpha': 52.80128385090178, 'reg_lambda': 0.00012557323549673783, 'subsample': 0.7150171601685473, 'colsample_bytree': 0.7793773821651502}. Best is trial 1 with value: 47.45354487283615.\n",
            "[I 2024-07-18 03:51:03,438] Trial 7 finished with value: 59.292434275856856 and parameters: {'n_estimators': 1000, 'max_depth': 7, 'learning_rate': 0.014067731925343071, 'reg_alpha': 0.014649819480543745, 'reg_lambda': 2.9731808700995233, 'subsample': 0.8752135576184521, 'colsample_bytree': 0.8858142823641961}. Best is trial 1 with value: 47.45354487283615.\n",
            "[I 2024-07-18 03:51:04,761] Trial 8 finished with value: 283.28056893924634 and parameters: {'n_estimators': 100, 'max_depth': 7, 'learning_rate': 0.00020112776153037676, 'reg_alpha': 0.47640823929741544, 'reg_lambda': 28.99467614877692, 'subsample': 0.7485375980210189, 'colsample_bytree': 0.9228764953484354}. Best is trial 1 with value: 47.45354487283615.\n",
            "[I 2024-07-18 03:51:06,609] Trial 9 finished with value: 134.6648529231034 and parameters: {'n_estimators': 500, 'max_depth': 3, 'learning_rate': 0.003732976601974044, 'reg_alpha': 0.0030736672670907276, 'reg_lambda': 9.324271275396212e-05, 'subsample': 0.884586863529115, 'colsample_bytree': 0.6706975678909477}. Best is trial 1 with value: 47.45354487283615.\n",
            "[I 2024-07-18 03:51:17,523] Trial 10 finished with value: 48.708796410900675 and parameters: {'n_estimators': 500, 'max_depth': 9, 'learning_rate': 0.07405566533886754, 'reg_alpha': 79.81632387360683, 'reg_lambda': 0.07925565105685842, 'subsample': 0.9455614665553982, 'colsample_bytree': 0.7012372808374566}. Best is trial 1 with value: 47.45354487283615.\n",
            "[I 2024-07-18 03:51:31,945] Trial 11 finished with value: 48.21345914313784 and parameters: {'n_estimators': 500, 'max_depth': 10, 'learning_rate': 0.06434627364426546, 'reg_alpha': 68.03811543976389, 'reg_lambda': 0.13906260901294637, 'subsample': 0.9477755976633515, 'colsample_bytree': 0.7024860810927119}. Best is trial 1 with value: 47.45354487283615.\n",
            "[I 2024-07-18 03:51:44,451] Trial 12 finished with value: 53.26053132444227 and parameters: {'n_estimators': 300, 'max_depth': 10, 'learning_rate': 0.030194683526939995, 'reg_alpha': 4.781879261683798, 'reg_lambda': 0.009686334644884973, 'subsample': 0.9496421504524217, 'colsample_bytree': 0.7036270470752646}. Best is trial 1 with value: 47.45354487283615.\n",
            "[I 2024-07-18 03:52:01,136] Trial 13 finished with value: 48.30767217856247 and parameters: {'n_estimators': 600, 'max_depth': 9, 'learning_rate': 0.09767714000922992, 'reg_alpha': 6.067774481231931, 'reg_lambda': 0.6036940802655477, 'subsample': 0.8974645112795359, 'colsample_bytree': 0.7302102869713654}. Best is trial 1 with value: 47.45354487283615.\n",
            "[I 2024-07-18 03:52:14,377] Trial 14 finished with value: 226.46585660507554 and parameters: {'n_estimators': 300, 'max_depth': 10, 'learning_rate': 0.0007004130067982208, 'reg_alpha': 2.978014321874228, 'reg_lambda': 0.005713896413269819, 'subsample': 0.9072820078522285, 'colsample_bytree': 0.6240574188613842}. Best is trial 1 with value: 47.45354487283615.\n",
            "[I 2024-07-18 03:52:19,950] Trial 15 finished with value: 70.92954013910077 and parameters: {'n_estimators': 600, 'max_depth': 5, 'learning_rate': 0.025586492164382354, 'reg_alpha': 19.71307456730839, 'reg_lambda': 0.5718671864833841, 'subsample': 0.8492446186793303, 'colsample_bytree': 0.8346481322295063}. Best is trial 1 with value: 47.45354487283615.\n",
            "[I 2024-07-18 03:52:25,998] Trial 16 finished with value: 59.32512202981542 and parameters: {'n_estimators': 400, 'max_depth': 8, 'learning_rate': 0.0233303399878239, 'reg_alpha': 0.7398820892723091, 'reg_lambda': 0.0024910287153881968, 'subsample': 0.9266688268235366, 'colsample_bytree': 0.7388792886546798}. Best is trial 1 with value: 47.45354487283615.\n",
            "[I 2024-07-18 03:52:26,768] Trial 17 finished with value: 257.8678579299264 and parameters: {'n_estimators': 100, 'max_depth': 5, 'learning_rate': 0.001185681076529534, 'reg_alpha': 12.234011806145839, 'reg_lambda': 0.32882226457369346, 'subsample': 0.62748574764053, 'colsample_bytree': 0.6540425247129454}. Best is trial 1 with value: 47.45354487283615.\n",
            "[I 2024-07-18 03:52:39,098] Trial 18 finished with value: 49.53800358722397 and parameters: {'n_estimators': 700, 'max_depth': 8, 'learning_rate': 0.05459238089178325, 'reg_alpha': 1.5024565464297612, 'reg_lambda': 4.6087522786622745, 'subsample': 0.8605222340422649, 'colsample_bytree': 0.8429254928451718}. Best is trial 1 with value: 47.45354487283615.\n",
            "[I 2024-07-18 03:52:50,429] Trial 19 finished with value: 265.9292536248183 and parameters: {'n_estimators': 400, 'max_depth': 9, 'learning_rate': 0.00018599515886280656, 'reg_alpha': 96.37701565112076, 'reg_lambda': 0.0251144919142087, 'subsample': 0.7911875681348232, 'colsample_bytree': 0.7457733845770058}. Best is trial 1 with value: 47.45354487283615.\n",
            "[I 2024-07-18 03:53:05,180] Trial 20 finished with value: 56.59567496493014 and parameters: {'n_estimators': 800, 'max_depth': 8, 'learning_rate': 0.01507527849122486, 'reg_alpha': 9.411432534449886e-05, 'reg_lambda': 0.1470590778651686, 'subsample': 0.670392270737614, 'colsample_bytree': 0.6835527216637501}. Best is trial 1 with value: 47.45354487283615.\n",
            "[I 2024-07-18 03:53:28,855] Trial 21 finished with value: 48.069653651144876 and parameters: {'n_estimators': 600, 'max_depth': 10, 'learning_rate': 0.07857770207408309, 'reg_alpha': 10.433695977744728, 'reg_lambda': 0.6530172058264093, 'subsample': 0.8992895565587459, 'colsample_bytree': 0.729134258200013}. Best is trial 1 with value: 47.45354487283615.\n",
            "[I 2024-07-18 03:53:53,347] Trial 22 finished with value: 47.59764885663818 and parameters: {'n_estimators': 700, 'max_depth': 10, 'learning_rate': 0.042754029306980246, 'reg_alpha': 19.384864604291153, 'reg_lambda': 1.3369163605678294, 'subsample': 0.9189598990087245, 'colsample_bytree': 0.7262800256629983}. Best is trial 1 with value: 47.45354487283615.\n",
            "[I 2024-07-18 03:54:23,676] Trial 23 finished with value: 49.964708751881 and parameters: {'n_estimators': 900, 'max_depth': 10, 'learning_rate': 0.035445892199834135, 'reg_alpha': 0.14409432925173557, 'reg_lambda': 90.69355545651237, 'subsample': 0.9107865464424844, 'colsample_bytree': 0.742128971188398}. Best is trial 1 with value: 47.45354487283615.\n",
            "[I 2024-07-18 03:54:44,699] Trial 24 finished with value: 47.96186610125187 and parameters: {'n_estimators': 700, 'max_depth': 9, 'learning_rate': 0.0981556912689949, 'reg_alpha': 16.27355329493561, 'reg_lambda': 1.2354741265219262, 'subsample': 0.8388684462634769, 'colsample_bytree': 0.796565725373494}. Best is trial 1 with value: 47.45354487283615.\n",
            "[I 2024-07-18 03:55:02,816] Trial 25 finished with value: 51.237723167620345 and parameters: {'n_estimators': 700, 'max_depth': 9, 'learning_rate': 0.021571147979152574, 'reg_alpha': 1.8449296843799228, 'reg_lambda': 1.845462281045375, 'subsample': 0.8411161975810129, 'colsample_bytree': 0.8068479718108101}. Best is trial 1 with value: 47.45354487283615.\n",
            "[I 2024-07-18 03:55:18,689] Trial 26 finished with value: 49.54768778258326 and parameters: {'n_estimators': 900, 'max_depth': 8, 'learning_rate': 0.04040591269823402, 'reg_alpha': 0.06664485740371781, 'reg_lambda': 12.426385250542092, 'subsample': 0.8038355459414807, 'colsample_bytree': 0.867458518611102}. Best is trial 1 with value: 47.45354487283615.\n",
            "[I 2024-07-18 03:55:28,277] Trial 27 finished with value: 63.64967330286749 and parameters: {'n_estimators': 1000, 'max_depth': 6, 'learning_rate': 0.01609495582384588, 'reg_alpha': 22.089309892633292, 'reg_lambda': 0.964638034412269, 'subsample': 0.8692997776387553, 'colsample_bytree': 0.7722458028183525}. Best is trial 1 with value: 47.45354487283615.\n",
            "[I 2024-07-18 03:55:51,735] Trial 28 finished with value: 48.05722069684314 and parameters: {'n_estimators': 800, 'max_depth': 9, 'learning_rate': 0.09649033132539987, 'reg_alpha': 0.8069927331516341, 'reg_lambda': 60.56598421262787, 'subsample': 0.7594111898570456, 'colsample_bytree': 0.795834753721436}. Best is trial 1 with value: 47.45354487283615.\n",
            "[I 2024-07-18 03:56:33,186] Trial 29 finished with value: 55.125432504013126 and parameters: {'n_estimators': 900, 'max_depth': 10, 'learning_rate': 0.008799926297856286, 'reg_alpha': 0.01966290763386419, 'reg_lambda': 8.409433129221673, 'subsample': 0.8227994706855946, 'colsample_bytree': 0.8330036501142944}. Best is trial 1 with value: 47.45354487283615.\n",
            "[I 2024-07-18 03:56:46,712] Trial 30 finished with value: 267.14200860936774 and parameters: {'n_estimators': 700, 'max_depth': 8, 'learning_rate': 0.00010037162052199768, 'reg_alpha': 27.347722345025026, 'reg_lambda': 0.02656798036700956, 'subsample': 0.921786918167514, 'colsample_bytree': 0.7540607013435271}. Best is trial 1 with value: 47.45354487283615.\n",
            "[I 2024-07-18 03:57:08,508] Trial 31 finished with value: 48.24734028744207 and parameters: {'n_estimators': 800, 'max_depth': 9, 'learning_rate': 0.08826207766448406, 'reg_alpha': 1.119723332129117, 'reg_lambda': 84.85771186785273, 'subsample': 0.7545108198707196, 'colsample_bytree': 0.7963605178475855}. Best is trial 1 with value: 47.45354487283615.\n",
            "[I 2024-07-18 03:57:24,669] Trial 32 finished with value: 49.443152343141804 and parameters: {'n_estimators': 700, 'max_depth': 9, 'learning_rate': 0.05031708958865116, 'reg_alpha': 4.496331852502785, 'reg_lambda': 26.19386930080578, 'subsample': 0.7556469728584805, 'colsample_bytree': 0.7642352339716363}. Best is trial 1 with value: 47.45354487283615.\n",
            "[I 2024-07-18 03:58:02,309] Trial 33 finished with value: 47.97490491158997 and parameters: {'n_estimators': 900, 'max_depth': 10, 'learning_rate': 0.0351881256943243, 'reg_alpha': 0.3461798673858222, 'reg_lambda': 2.209431470793888, 'subsample': 0.7063787479801825, 'colsample_bytree': 0.7936512909763086}. Best is trial 1 with value: 47.45354487283615.\n",
            "[I 2024-07-18 03:58:53,087] Trial 34 finished with value: 58.32852693372111 and parameters: {'n_estimators': 1000, 'max_depth': 10, 'learning_rate': 0.005377572703257997, 'reg_alpha': 0.23434564558830256, 'reg_lambda': 1.6829943256051225, 'subsample': 0.7200867782592969, 'colsample_bytree': 0.8596629193155878}. Best is trial 1 with value: 47.45354487283615.\n",
            "[I 2024-07-18 03:59:28,551] Trial 35 finished with value: 47.33948741587861 and parameters: {'n_estimators': 900, 'max_depth': 10, 'learning_rate': 0.038978316316611784, 'reg_alpha': 9.177655234433503, 'reg_lambda': 5.841460747975509, 'subsample': 0.6936940634255055, 'colsample_bytree': 0.8168800142463213}. Best is trial 35 with value: 47.33948741587861.\n",
            "[I 2024-07-18 04:00:09,936] Trial 36 finished with value: 52.211906235285575 and parameters: {'n_estimators': 1000, 'max_depth': 10, 'learning_rate': 0.011544774346034558, 'reg_alpha': 8.960134788490452, 'reg_lambda': 5.868703379817411, 'subsample': 0.6788954758995475, 'colsample_bytree': 0.8163554657440165}. Best is trial 35 with value: 47.33948741587861.\n",
            "[I 2024-07-18 04:00:33,578] Trial 37 finished with value: 61.59881085926025 and parameters: {'n_estimators': 800, 'max_depth': 9, 'learning_rate': 0.006769134337351296, 'reg_alpha': 35.96616431953691, 'reg_lambda': 0.0638076555410051, 'subsample': 0.83587843054334, 'colsample_bytree': 0.7745147041193085}. Best is trial 35 with value: 47.33948741587861.\n",
            "[I 2024-07-18 04:00:41,778] Trial 38 finished with value: 55.13968573557017 and parameters: {'n_estimators': 900, 'max_depth': 6, 'learning_rate': 0.052231163924151516, 'reg_alpha': 2.693187920610822, 'reg_lambda': 0.19408843516721533, 'subsample': 0.6065237109932973, 'colsample_bytree': 0.7136731728049523}. Best is trial 35 with value: 47.33948741587861.\n",
            "[I 2024-07-18 04:01:24,696] Trial 39 finished with value: 49.15751771994046 and parameters: {'n_estimators': 1000, 'max_depth': 10, 'learning_rate': 0.01789083414051357, 'reg_alpha': 0.0002797163756502568, 'reg_lambda': 1.2530504308364165, 'subsample': 0.8859626575962979, 'colsample_bytree': 0.886662497030824}. Best is trial 35 with value: 47.33948741587861.\n",
            "[I 2024-07-18 04:01:50,109] Trial 40 finished with value: 55.36254862372801 and parameters: {'n_estimators': 800, 'max_depth': 9, 'learning_rate': 0.010909889856451634, 'reg_alpha': 0.006094251535783126, 'reg_lambda': 1.0028827553996997e-05, 'subsample': 0.8130517718926206, 'colsample_bytree': 0.8195658734924696}. Best is trial 35 with value: 47.33948741587861.\n",
            "[I 2024-07-18 04:02:27,723] Trial 41 finished with value: 47.96715627337211 and parameters: {'n_estimators': 900, 'max_depth': 10, 'learning_rate': 0.029900365623546546, 'reg_alpha': 0.2964138392684139, 'reg_lambda': 3.9321067977445523, 'subsample': 0.684631002065312, 'colsample_bytree': 0.78248416380348}. Best is trial 35 with value: 47.33948741587861.\n",
            "[I 2024-07-18 04:03:04,143] Trial 42 finished with value: 47.655087860554 and parameters: {'n_estimators': 900, 'max_depth': 10, 'learning_rate': 0.042182710359157, 'reg_alpha': 0.04666393204760677, 'reg_lambda': 4.0224134926006885, 'subsample': 0.6975817014219072, 'colsample_bytree': 0.7814935770674256}. Best is trial 35 with value: 47.33948741587861.\n",
            "[I 2024-07-18 04:03:42,982] Trial 43 finished with value: 47.677115624950254 and parameters: {'n_estimators': 1000, 'max_depth': 10, 'learning_rate': 0.056800779781832525, 'reg_alpha': 0.04387910567050028, 'reg_lambda': 17.70844909902944, 'subsample': 0.6611497242572307, 'colsample_bytree': 0.7608156333555623}. Best is trial 35 with value: 47.33948741587861.\n",
            "[I 2024-07-18 04:03:46,349] Trial 44 finished with value: 75.66630068123278 and parameters: {'n_estimators': 1000, 'max_depth': 3, 'learning_rate': 0.046907761339946084, 'reg_alpha': 0.032658790572540175, 'reg_lambda': 23.547087464229502, 'subsample': 0.6571677465001259, 'colsample_bytree': 0.71639205049426}. Best is trial 35 with value: 47.33948741587861.\n",
            "[I 2024-07-18 04:04:22,748] Trial 45 finished with value: 47.627582093548824 and parameters: {'n_estimators': 1000, 'max_depth': 10, 'learning_rate': 0.05958158499515546, 'reg_alpha': 0.001905947979965453, 'reg_lambda': 10.968716198028803, 'subsample': 0.6559029485198342, 'colsample_bytree': 0.7582632830036156}. Best is trial 35 with value: 47.33948741587861.\n",
            "[I 2024-07-18 04:04:56,775] Trial 46 finished with value: 50.16570169259867 and parameters: {'n_estimators': 900, 'max_depth': 10, 'learning_rate': 0.021519617020164465, 'reg_alpha': 0.0007458125577169456, 'reg_lambda': 9.678335393054569, 'subsample': 0.6433064144735603, 'colsample_bytree': 0.6819662418192428}. Best is trial 35 with value: 47.33948741587861.\n",
            "[I 2024-07-18 04:05:33,897] Trial 47 finished with value: 47.63040355930402 and parameters: {'n_estimators': 1000, 'max_depth': 10, 'learning_rate': 0.0670849539007278, 'reg_alpha': 0.0025161334617217596, 'reg_lambda': 35.540165031621854, 'subsample': 0.7021432960319178, 'colsample_bytree': 0.7250102349826261}. Best is trial 35 with value: 47.33948741587861.\n",
            "[I 2024-07-18 04:05:54,971] Trial 48 finished with value: 47.814485617228115 and parameters: {'n_estimators': 1000, 'max_depth': 9, 'learning_rate': 0.07317332196293473, 'reg_alpha': 0.003071045642436197, 'reg_lambda': 31.300979461056397, 'subsample': 0.742489736713726, 'colsample_bytree': 0.6442794857593109}. Best is trial 35 with value: 47.33948741587861.\n",
            "[I 2024-07-18 04:06:02,095] Trial 49 finished with value: 121.88033499657034 and parameters: {'n_estimators': 1000, 'max_depth': 4, 'learning_rate': 0.0021071511119494673, 'reg_alpha': 0.001061749440816139, 'reg_lambda': 32.66480418028038, 'subsample': 0.7338443416771022, 'colsample_bytree': 0.7210326603375212}. Best is trial 35 with value: 47.33948741587861.\n",
            "[I 2024-07-18 04:06:20,077] Trial 50 finished with value: 49.205782700044914 and parameters: {'n_estimators': 1000, 'max_depth': 8, 'learning_rate': 0.0649619296613934, 'reg_alpha': 0.007693241808674584, 'reg_lambda': 0.2622443237473246, 'subsample': 0.636016069077117, 'colsample_bytree': 0.6927017040573858}. Best is trial 35 with value: 47.33948741587861.\n",
            "[I 2024-07-18 04:06:59,672] Trial 51 finished with value: 47.53780352104452 and parameters: {'n_estimators': 900, 'max_depth': 10, 'learning_rate': 0.04035008854199234, 'reg_alpha': 0.001506855980374373, 'reg_lambda': 3.144238172264316, 'subsample': 0.7038073768363857, 'colsample_bytree': 0.9425918953933567}. Best is trial 35 with value: 47.33948741587861.\n",
            "[I 2024-07-18 04:07:37,828] Trial 52 finished with value: 48.58939945366518 and parameters: {'n_estimators': 800, 'max_depth': 10, 'learning_rate': 0.029035260296533024, 'reg_alpha': 0.0019652736838064095, 'reg_lambda': 8.109434317784398, 'subsample': 0.7045831239011224, 'colsample_bytree': 0.9479664351946108}. Best is trial 35 with value: 47.33948741587861.\n",
            "[I 2024-07-18 04:08:17,049] Trial 53 finished with value: 48.58335680068603 and parameters: {'n_estimators': 900, 'max_depth': 10, 'learning_rate': 0.03696496944647831, 'reg_alpha': 0.00010670552497141099, 'reg_lambda': 44.593943408365035, 'subsample': 0.773740270009136, 'colsample_bytree': 0.9144596582360386}. Best is trial 35 with value: 47.33948741587861.\n",
            "[I 2024-07-18 04:08:50,139] Trial 54 finished with value: 49.16071892435867 and parameters: {'n_estimators': 900, 'max_depth': 10, 'learning_rate': 0.06417478058164848, 'reg_alpha': 0.0003440620934329528, 'reg_lambda': 0.4718331159969862, 'subsample': 0.7233708674451771, 'colsample_bytree': 0.7346986263766162}. Best is trial 35 with value: 47.33948741587861.\n",
            "[I 2024-07-18 04:09:28,505] Trial 55 finished with value: 143.17101487909153 and parameters: {'n_estimators': 1000, 'max_depth': 9, 'learning_rate': 0.0007328656850069298, 'reg_alpha': 0.009089016451176843, 'reg_lambda': 2.7393819412843152, 'subsample': 0.6820287138248519, 'colsample_bytree': 0.9416752380869224}. Best is trial 35 with value: 47.33948741587861.\n",
            "[I 2024-07-18 04:10:05,399] Trial 56 finished with value: 48.8084373832014 and parameters: {'n_estimators': 1000, 'max_depth': 10, 'learning_rate': 0.025852656727268306, 'reg_alpha': 1.1811883511594945e-05, 'reg_lambda': 0.001084329347842516, 'subsample': 0.6150602546355414, 'colsample_bytree': 0.753468393667685}. Best is trial 35 with value: 47.33948741587861.\n",
            "[I 2024-07-18 04:10:30,907] Trial 57 finished with value: 52.41955581517327 and parameters: {'n_estimators': 800, 'max_depth': 9, 'learning_rate': 0.019742067273261533, 'reg_alpha': 0.001586478406848239, 'reg_lambda': 14.422901385015138, 'subsample': 0.696049361591253, 'colsample_bytree': 0.8885359665988068}. Best is trial 35 with value: 47.33948741587861.\n",
            "[I 2024-07-18 04:11:06,696] Trial 58 finished with value: 52.61199167046118 and parameters: {'n_estimators': 900, 'max_depth': 10, 'learning_rate': 0.012842723616052033, 'reg_alpha': 0.0005267402212292323, 'reg_lambda': 5.74452461993703, 'subsample': 0.6537411403437937, 'colsample_bytree': 0.7012127455305857}. Best is trial 35 with value: 47.33948741587861.\n",
            "[I 2024-07-18 04:11:19,529] Trial 59 finished with value: 48.968513879205815 and parameters: {'n_estimators': 600, 'max_depth': 9, 'learning_rate': 0.0691048937250729, 'reg_alpha': 0.00012581570427781804, 'reg_lambda': 0.8752884277186678, 'subsample': 0.9402359644305736, 'colsample_bytree': 0.6560062149276131}. Best is trial 35 with value: 47.33948741587861.\n",
            "[I 2024-07-18 04:11:26,078] Trial 60 finished with value: 58.234764174073575 and parameters: {'n_estimators': 500, 'max_depth': 7, 'learning_rate': 0.033126575630484045, 'reg_alpha': 2.655703311433315e-05, 'reg_lambda': 0.4537508136609444, 'subsample': 0.9293078013758556, 'colsample_bytree': 0.7247316260637063}. Best is trial 35 with value: 47.33948741587861.\n",
            "[I 2024-07-18 04:12:02,251] Trial 61 finished with value: 47.878640354419844 and parameters: {'n_estimators': 900, 'max_depth': 10, 'learning_rate': 0.03735244817258735, 'reg_alpha': 0.018544693182881062, 'reg_lambda': 3.5742534890803306, 'subsample': 0.692568219931422, 'colsample_bytree': 0.749230437532677}. Best is trial 35 with value: 47.33948741587861.\n",
            "[I 2024-07-18 04:12:29,341] Trial 62 finished with value: 47.89467247987659 and parameters: {'n_estimators': 900, 'max_depth': 10, 'learning_rate': 0.045386384843253906, 'reg_alpha': 51.517431266163534, 'reg_lambda': 5.832770540006274, 'subsample': 0.6688317525081106, 'colsample_bytree': 0.7633440127146671}. Best is trial 35 with value: 47.33948741587861.\n",
            "[I 2024-07-18 04:13:08,895] Trial 63 finished with value: 47.60330742820983 and parameters: {'n_estimators': 1000, 'max_depth': 10, 'learning_rate': 0.04104015045859001, 'reg_alpha': 0.004264917843767217, 'reg_lambda': 15.803201964437463, 'subsample': 0.7367127157919187, 'colsample_bytree': 0.7806896135789532}. Best is trial 35 with value: 47.33948741587861.\n",
            "[I 2024-07-18 04:13:47,149] Trial 64 finished with value: 47.84782623308314 and parameters: {'n_estimators': 1000, 'max_depth': 10, 'learning_rate': 0.08078403999794183, 'reg_alpha': 0.004154881832633922, 'reg_lambda': 51.05341764994768, 'subsample': 0.7258299829754475, 'colsample_bytree': 0.7421235466152438}. Best is trial 35 with value: 47.33948741587861.\n",
            "[I 2024-07-18 04:14:13,526] Trial 65 finished with value: 49.76303362447752 and parameters: {'n_estimators': 1000, 'max_depth': 9, 'learning_rate': 0.025918994063539844, 'reg_alpha': 0.002209896950471229, 'reg_lambda': 14.60737453376826, 'subsample': 0.710973410141305, 'colsample_bytree': 0.8067302924636325}. Best is trial 35 with value: 47.33948741587861.\n",
            "[I 2024-07-18 04:14:54,177] Trial 66 finished with value: 47.79744959201387 and parameters: {'n_estimators': 1000, 'max_depth': 10, 'learning_rate': 0.05266148781902936, 'reg_alpha': 0.012417069787084694, 'reg_lambda': 2.374957782815815, 'subsample': 0.7691425317159549, 'colsample_bytree': 0.7695024427009981}. Best is trial 35 with value: 47.33948741587861.\n",
            "[I 2024-07-18 04:14:58,060] Trial 67 finished with value: 55.265248346793356 and parameters: {'n_estimators': 200, 'max_depth': 9, 'learning_rate': 0.059579116639991964, 'reg_alpha': 0.0012768673426663706, 'reg_lambda': 5.146531802511154e-05, 'subsample': 0.7277448715655487, 'colsample_bytree': 0.6010904098937254}. Best is trial 35 with value: 47.33948741587861.\n",
            "[I 2024-07-18 04:15:32,092] Trial 68 finished with value: 47.768342412479136 and parameters: {'n_estimators': 900, 'max_depth': 10, 'learning_rate': 0.043530451698537115, 'reg_alpha': 0.0038595116131075985, 'reg_lambda': 10.17334645152564, 'subsample': 0.7426998148281703, 'colsample_bytree': 0.7102248235361437}. Best is trial 35 with value: 47.33948741587861.\n",
            "[I 2024-07-18 04:15:36,234] Trial 69 finished with value: 62.09389344458999 and parameters: {'n_estimators': 1000, 'max_depth': 4, 'learning_rate': 0.08579094059345221, 'reg_alpha': 7.230362548126206, 'reg_lambda': 0.045824413728952504, 'subsample': 0.7969159264517041, 'colsample_bytree': 0.7332048646201617}. Best is trial 35 with value: 47.33948741587861.\n"
          ]
        }
      ],
      "source": [
        "study = optuna.create_study(direction = 'minimize')\n",
        "study.optimize(objective, n_trials=70)"
      ]
    },
    {
      "cell_type": "markdown",
      "source": [],
      "metadata": {
        "id": "rsSFSrF4ECpH"
      },
      "id": "rsSFSrF4ECpH"
    },
    {
      "cell_type": "code",
      "execution_count": null,
      "id": "wjTadLxzP4TP",
      "metadata": {
        "id": "wjTadLxzP4TP"
      },
      "outputs": [],
      "source": []
    },
    {
      "cell_type": "code",
      "execution_count": 234,
      "id": "5d3191a6-a213-4ca4-a313-4303ebd748f1",
      "metadata": {
        "colab": {
          "base_uri": "https://localhost:8080/"
        },
        "id": "5d3191a6-a213-4ca4-a313-4303ebd748f1",
        "outputId": "85ed89a3-8e81-4019-de80-1ebd10417741"
      },
      "outputs": [
        {
          "output_type": "stream",
          "name": "stdout",
          "text": [
            "Best Hyperparameters: {'n_estimators': 900, 'max_depth': 10, 'learning_rate': 0.038978316316611784, 'reg_alpha': 9.177655234433503, 'reg_lambda': 5.841460747975509, 'subsample': 0.6936940634255055, 'colsample_bytree': 0.8168800142463213}\n",
            "Best MSE: 47.33948741587861\n"
          ]
        }
      ],
      "source": [
        "print('Best Hyperparameters:',study.best_params)\n",
        "print('Best MSE:',study.best_value)"
      ]
    },
    {
      "cell_type": "code",
      "execution_count": 235,
      "id": "d2be82c3-d69a-4741-8cb5-3e1c745faeaf",
      "metadata": {
        "id": "d2be82c3-d69a-4741-8cb5-3e1c745faeaf"
      },
      "outputs": [],
      "source": [
        "best_params = study.best_params"
      ]
    },
    {
      "cell_type": "code",
      "execution_count": 236,
      "id": "aff479f6-e34a-4745-95de-57077cd54312",
      "metadata": {
        "id": "aff479f6-e34a-4745-95de-57077cd54312"
      },
      "outputs": [],
      "source": [
        "optimized_model = XGBRegressor(**best_params)"
      ]
    },
    {
      "cell_type": "code",
      "execution_count": 237,
      "id": "3122fa1f-8268-4aee-b860-d5774d2f346a",
      "metadata": {
        "colab": {
          "base_uri": "https://localhost:8080/",
          "height": 251
        },
        "id": "3122fa1f-8268-4aee-b860-d5774d2f346a",
        "outputId": "4be21fd5-1e1f-4fd3-91a9-d18fce0d2a5a"
      },
      "outputs": [
        {
          "output_type": "execute_result",
          "data": {
            "text/plain": [
              "XGBRegressor(base_score=None, booster=None, callbacks=None,\n",
              "             colsample_bylevel=None, colsample_bynode=None,\n",
              "             colsample_bytree=0.8168800142463213, device=None,\n",
              "             early_stopping_rounds=None, enable_categorical=False,\n",
              "             eval_metric=None, feature_types=None, gamma=None, grow_policy=None,\n",
              "             importance_type=None, interaction_constraints=None,\n",
              "             learning_rate=0.038978316316611784, max_bin=None,\n",
              "             max_cat_threshold=None, max_cat_to_onehot=None,\n",
              "             max_delta_step=None, max_depth=10, max_leaves=None,\n",
              "             min_child_weight=None, missing=nan, monotone_constraints=None,\n",
              "             multi_strategy=None, n_estimators=900, n_jobs=None,\n",
              "             num_parallel_tree=None, random_state=None, ...)"
            ],
            "text/html": [
              "<style>#sk-container-id-3 {color: black;background-color: white;}#sk-container-id-3 pre{padding: 0;}#sk-container-id-3 div.sk-toggleable {background-color: white;}#sk-container-id-3 label.sk-toggleable__label {cursor: pointer;display: block;width: 100%;margin-bottom: 0;padding: 0.3em;box-sizing: border-box;text-align: center;}#sk-container-id-3 label.sk-toggleable__label-arrow:before {content: \"▸\";float: left;margin-right: 0.25em;color: #696969;}#sk-container-id-3 label.sk-toggleable__label-arrow:hover:before {color: black;}#sk-container-id-3 div.sk-estimator:hover label.sk-toggleable__label-arrow:before {color: black;}#sk-container-id-3 div.sk-toggleable__content {max-height: 0;max-width: 0;overflow: hidden;text-align: left;background-color: #f0f8ff;}#sk-container-id-3 div.sk-toggleable__content pre {margin: 0.2em;color: black;border-radius: 0.25em;background-color: #f0f8ff;}#sk-container-id-3 input.sk-toggleable__control:checked~div.sk-toggleable__content {max-height: 200px;max-width: 100%;overflow: auto;}#sk-container-id-3 input.sk-toggleable__control:checked~label.sk-toggleable__label-arrow:before {content: \"▾\";}#sk-container-id-3 div.sk-estimator input.sk-toggleable__control:checked~label.sk-toggleable__label {background-color: #d4ebff;}#sk-container-id-3 div.sk-label input.sk-toggleable__control:checked~label.sk-toggleable__label {background-color: #d4ebff;}#sk-container-id-3 input.sk-hidden--visually {border: 0;clip: rect(1px 1px 1px 1px);clip: rect(1px, 1px, 1px, 1px);height: 1px;margin: -1px;overflow: hidden;padding: 0;position: absolute;width: 1px;}#sk-container-id-3 div.sk-estimator {font-family: monospace;background-color: #f0f8ff;border: 1px dotted black;border-radius: 0.25em;box-sizing: border-box;margin-bottom: 0.5em;}#sk-container-id-3 div.sk-estimator:hover {background-color: #d4ebff;}#sk-container-id-3 div.sk-parallel-item::after {content: \"\";width: 100%;border-bottom: 1px solid gray;flex-grow: 1;}#sk-container-id-3 div.sk-label:hover label.sk-toggleable__label {background-color: #d4ebff;}#sk-container-id-3 div.sk-serial::before {content: \"\";position: absolute;border-left: 1px solid gray;box-sizing: border-box;top: 0;bottom: 0;left: 50%;z-index: 0;}#sk-container-id-3 div.sk-serial {display: flex;flex-direction: column;align-items: center;background-color: white;padding-right: 0.2em;padding-left: 0.2em;position: relative;}#sk-container-id-3 div.sk-item {position: relative;z-index: 1;}#sk-container-id-3 div.sk-parallel {display: flex;align-items: stretch;justify-content: center;background-color: white;position: relative;}#sk-container-id-3 div.sk-item::before, #sk-container-id-3 div.sk-parallel-item::before {content: \"\";position: absolute;border-left: 1px solid gray;box-sizing: border-box;top: 0;bottom: 0;left: 50%;z-index: -1;}#sk-container-id-3 div.sk-parallel-item {display: flex;flex-direction: column;z-index: 1;position: relative;background-color: white;}#sk-container-id-3 div.sk-parallel-item:first-child::after {align-self: flex-end;width: 50%;}#sk-container-id-3 div.sk-parallel-item:last-child::after {align-self: flex-start;width: 50%;}#sk-container-id-3 div.sk-parallel-item:only-child::after {width: 0;}#sk-container-id-3 div.sk-dashed-wrapped {border: 1px dashed gray;margin: 0 0.4em 0.5em 0.4em;box-sizing: border-box;padding-bottom: 0.4em;background-color: white;}#sk-container-id-3 div.sk-label label {font-family: monospace;font-weight: bold;display: inline-block;line-height: 1.2em;}#sk-container-id-3 div.sk-label-container {text-align: center;}#sk-container-id-3 div.sk-container {/* jupyter's `normalize.less` sets `[hidden] { display: none; }` but bootstrap.min.css set `[hidden] { display: none !important; }` so we also need the `!important` here to be able to override the default hidden behavior on the sphinx rendered scikit-learn.org. See: https://github.com/scikit-learn/scikit-learn/issues/21755 */display: inline-block !important;position: relative;}#sk-container-id-3 div.sk-text-repr-fallback {display: none;}</style><div id=\"sk-container-id-3\" class=\"sk-top-container\"><div class=\"sk-text-repr-fallback\"><pre>XGBRegressor(base_score=None, booster=None, callbacks=None,\n",
              "             colsample_bylevel=None, colsample_bynode=None,\n",
              "             colsample_bytree=0.8168800142463213, device=None,\n",
              "             early_stopping_rounds=None, enable_categorical=False,\n",
              "             eval_metric=None, feature_types=None, gamma=None, grow_policy=None,\n",
              "             importance_type=None, interaction_constraints=None,\n",
              "             learning_rate=0.038978316316611784, max_bin=None,\n",
              "             max_cat_threshold=None, max_cat_to_onehot=None,\n",
              "             max_delta_step=None, max_depth=10, max_leaves=None,\n",
              "             min_child_weight=None, missing=nan, monotone_constraints=None,\n",
              "             multi_strategy=None, n_estimators=900, n_jobs=None,\n",
              "             num_parallel_tree=None, random_state=None, ...)</pre><b>In a Jupyter environment, please rerun this cell to show the HTML representation or trust the notebook. <br />On GitHub, the HTML representation is unable to render, please try loading this page with nbviewer.org.</b></div><div class=\"sk-container\" hidden><div class=\"sk-item\"><div class=\"sk-estimator sk-toggleable\"><input class=\"sk-toggleable__control sk-hidden--visually\" id=\"sk-estimator-id-3\" type=\"checkbox\" checked><label for=\"sk-estimator-id-3\" class=\"sk-toggleable__label sk-toggleable__label-arrow\">XGBRegressor</label><div class=\"sk-toggleable__content\"><pre>XGBRegressor(base_score=None, booster=None, callbacks=None,\n",
              "             colsample_bylevel=None, colsample_bynode=None,\n",
              "             colsample_bytree=0.8168800142463213, device=None,\n",
              "             early_stopping_rounds=None, enable_categorical=False,\n",
              "             eval_metric=None, feature_types=None, gamma=None, grow_policy=None,\n",
              "             importance_type=None, interaction_constraints=None,\n",
              "             learning_rate=0.038978316316611784, max_bin=None,\n",
              "             max_cat_threshold=None, max_cat_to_onehot=None,\n",
              "             max_delta_step=None, max_depth=10, max_leaves=None,\n",
              "             min_child_weight=None, missing=nan, monotone_constraints=None,\n",
              "             multi_strategy=None, n_estimators=900, n_jobs=None,\n",
              "             num_parallel_tree=None, random_state=None, ...)</pre></div></div></div></div></div>"
            ]
          },
          "metadata": {},
          "execution_count": 237
        }
      ],
      "source": [
        "optimized_model.fit(x,y)"
      ]
    },
    {
      "cell_type": "code",
      "execution_count": null,
      "id": "449cf741-0809-4d73-b152-53649f8421f1",
      "metadata": {
        "id": "449cf741-0809-4d73-b152-53649f8421f1"
      },
      "outputs": [],
      "source": [
        "##TESTIN RANDOM FOREST REGRESSOR"
      ]
    },
    {
      "cell_type": "code",
      "execution_count": null,
      "id": "20fc7b47-449d-4497-8ec6-f362c9976dd9",
      "metadata": {
        "id": "20fc7b47-449d-4497-8ec6-f362c9976dd9"
      },
      "outputs": [],
      "source": [
        "#from xgboost import XGBRegressor"
      ]
    },
    {
      "cell_type": "code",
      "execution_count": null,
      "id": "cb8b989a-b02d-49fa-be43-3f3fb92a2ebe",
      "metadata": {
        "id": "cb8b989a-b02d-49fa-be43-3f3fb92a2ebe",
        "scrolled": true
      },
      "outputs": [],
      "source": [
        "#model = XGBRegressor(n_estimators = 1100)"
      ]
    },
    {
      "cell_type": "code",
      "execution_count": null,
      "id": "78c816ad-d54b-40c6-aab0-bdc0124d375f",
      "metadata": {
        "id": "78c816ad-d54b-40c6-aab0-bdc0124d375f"
      },
      "outputs": [],
      "source": [
        "#model.fit(x_train,y_train)"
      ]
    },
    {
      "cell_type": "code",
      "execution_count": 238,
      "id": "efd30fc5-76cc-4d27-8451-c15a9fc5d88a",
      "metadata": {
        "id": "efd30fc5-76cc-4d27-8451-c15a9fc5d88a"
      },
      "outputs": [],
      "source": [
        "y_pred = optimized_model.predict(x_test)"
      ]
    },
    {
      "cell_type": "code",
      "execution_count": 239,
      "id": "d9bf7934-be9a-4ed5-8166-6bc6f22c5d8a",
      "metadata": {
        "id": "d9bf7934-be9a-4ed5-8166-6bc6f22c5d8a"
      },
      "outputs": [],
      "source": [
        "rmse = np.sqrt(mean_squared_error(y_test,y_pred))"
      ]
    },
    {
      "cell_type": "code",
      "execution_count": 240,
      "id": "d3fb1b39-38ce-4fd8-bbbb-5d985acee763",
      "metadata": {
        "colab": {
          "base_uri": "https://localhost:8080/"
        },
        "id": "d3fb1b39-38ce-4fd8-bbbb-5d985acee763",
        "outputId": "d36394f3-58ee-407e-8fef-fc8a5689b765"
      },
      "outputs": [
        {
          "output_type": "execute_result",
          "data": {
            "text/plain": [
              "3.2624329444323554"
            ]
          },
          "metadata": {},
          "execution_count": 240
        }
      ],
      "source": [
        "rmse"
      ]
    },
    {
      "cell_type": "markdown",
      "id": "a79ad201-33ad-4134-a9d8-09ca80a00f57",
      "metadata": {
        "id": "a79ad201-33ad-4134-a9d8-09ca80a00f57"
      },
      "source": [
        "TEST FILE"
      ]
    },
    {
      "cell_type": "code",
      "execution_count": 241,
      "id": "e54f5f27-704a-489c-a19f-e04555b24685",
      "metadata": {
        "id": "e54f5f27-704a-489c-a19f-e04555b24685"
      },
      "outputs": [],
      "source": [
        "test_df = pd.read_csv(\"/content/Test.csv\")"
      ]
    },
    {
      "cell_type": "code",
      "execution_count": 242,
      "id": "5fd8d7c0-d620-4d79-8a46-78e32cac66b7",
      "metadata": {
        "colab": {
          "base_uri": "https://localhost:8080/"
        },
        "id": "5fd8d7c0-d620-4d79-8a46-78e32cac66b7",
        "outputId": "53b555f8-e191-4537-e41c-9fd7af3ca886"
      },
      "outputs": [
        {
          "output_type": "execute_result",
          "data": {
            "text/plain": [
              "(6576, 13)"
            ]
          },
          "metadata": {},
          "execution_count": 242
        }
      ],
      "source": [
        "test_df.shape"
      ]
    },
    {
      "cell_type": "code",
      "execution_count": 243,
      "id": "4656ee38-3b7e-4a1d-aacd-5e0c551451cf",
      "metadata": {
        "id": "4656ee38-3b7e-4a1d-aacd-5e0c551451cf"
      },
      "outputs": [],
      "source": [
        "test_df['Date'] = pd.to_datetime(test_df['Date'], errors='coerce')"
      ]
    },
    {
      "cell_type": "code",
      "execution_count": 244,
      "id": "3d84029b-8902-4e57-b3d9-87dfca077166",
      "metadata": {
        "id": "3d84029b-8902-4e57-b3d9-87dfca077166"
      },
      "outputs": [],
      "source": [
        "test_df['Day'] = test_df['Date'].dt.day\n",
        "test_df['Month'] = test_df['Date'].dt.month\n",
        "test_df['Year'] = test_df['Date'].dt.year"
      ]
    },
    {
      "cell_type": "code",
      "execution_count": 245,
      "id": "109226c6-06d4-4fd6-8cd0-3a5130b13d8c",
      "metadata": {
        "id": "109226c6-06d4-4fd6-8cd0-3a5130b13d8c"
      },
      "outputs": [],
      "source": [
        "test_df.drop('Date',axis = 1,inplace=True)"
      ]
    },
    {
      "cell_type": "code",
      "execution_count": 246,
      "id": "7bbdebc0-c364-4f61-9e69-2c9718d9b50c",
      "metadata": {
        "colab": {
          "base_uri": "https://localhost:8080/"
        },
        "id": "7bbdebc0-c364-4f61-9e69-2c9718d9b50c",
        "outputId": "6bc897cc-c2a3-4e1d-f832-fe88a60c4f26"
      },
      "outputs": [
        {
          "output_type": "stream",
          "name": "stdout",
          "text": [
            "<class 'pandas.core.frame.DataFrame'>\n",
            "RangeIndex: 6576 entries, 0 to 6575\n",
            "Data columns (total 15 columns):\n",
            " #   Column              Non-Null Count  Dtype  \n",
            "---  ------              --------------  -----  \n",
            " 0   ID_Zindi            6576 non-null   object \n",
            " 1   ID                  6576 non-null   object \n",
            " 2   LAT                 6576 non-null   float64\n",
            " 3   LON                 6576 non-null   float64\n",
            " 4   Precipitation       6576 non-null   float64\n",
            " 5   LST                 3595 non-null   float64\n",
            " 6   AAI                 5708 non-null   float64\n",
            " 7   CloudFraction       5708 non-null   float64\n",
            " 8   NO2_strat           5708 non-null   float64\n",
            " 9   NO2_total           5708 non-null   float64\n",
            " 10  NO2_trop            3998 non-null   float64\n",
            " 11  TropopausePressure  5708 non-null   float64\n",
            " 12  Day                 6576 non-null   int32  \n",
            " 13  Month               6576 non-null   int32  \n",
            " 14  Year                6576 non-null   int32  \n",
            "dtypes: float64(10), int32(3), object(2)\n",
            "memory usage: 693.7+ KB\n"
          ]
        }
      ],
      "source": [
        "test_df.info()"
      ]
    },
    {
      "cell_type": "code",
      "execution_count": 247,
      "id": "ee97c681-1b4a-43c1-9a26-3382819e434b",
      "metadata": {
        "colab": {
          "base_uri": "https://localhost:8080/"
        },
        "id": "ee97c681-1b4a-43c1-9a26-3382819e434b",
        "outputId": "2c59a349-ad32-4af8-f920-f39ae331e5c6"
      },
      "outputs": [
        {
          "output_type": "execute_result",
          "data": {
            "text/plain": [
              "array(['PD03', 'TV03', 'X5561', 'X5953', 'X6701', 'X6877'], dtype=object)"
            ]
          },
          "metadata": {},
          "execution_count": 247
        }
      ],
      "source": [
        "test_df['ID'].unique()"
      ]
    },
    {
      "cell_type": "code",
      "execution_count": 248,
      "id": "0576868f-cbb9-47b1-b18b-a3188f0e3fe5",
      "metadata": {
        "id": "0576868f-cbb9-47b1-b18b-a3188f0e3fe5"
      },
      "outputs": [],
      "source": [
        "#test_df[['ID_code', 'ID_value']] = test_df['ID'].str.extract(r'([A-Za-z]+)(\\d+)')"
      ]
    },
    {
      "cell_type": "code",
      "execution_count": 249,
      "id": "d78372cf-b889-4d9c-a55c-bb92856dfd59",
      "metadata": {
        "id": "d78372cf-b889-4d9c-a55c-bb92856dfd59"
      },
      "outputs": [],
      "source": [
        "test_df.drop('ID',axis = 1,inplace=True)"
      ]
    },
    {
      "cell_type": "code",
      "execution_count": 131,
      "id": "0e765397-c61d-4ce8-980b-b23d4380d6a1",
      "metadata": {
        "id": "0e765397-c61d-4ce8-980b-b23d4380d6a1"
      },
      "outputs": [],
      "source": [
        "#test_df['ID_value'] = test_df['ID_value'].astype(int)"
      ]
    },
    {
      "cell_type": "code",
      "execution_count": 132,
      "id": "e47ac92a-5701-40a7-b1d6-a6eb3617ed84",
      "metadata": {
        "id": "e47ac92a-5701-40a7-b1d6-a6eb3617ed84"
      },
      "outputs": [],
      "source": [
        "#test_df['LST'] = test_df['LST'].fillna(test_df['LST'].median())"
      ]
    },
    {
      "cell_type": "code",
      "execution_count": null,
      "id": "b304214f-d360-44af-92e8-0b411df96107",
      "metadata": {
        "id": "b304214f-d360-44af-92e8-0b411df96107"
      },
      "outputs": [],
      "source": [
        "#test_df['AAI'] = test_df['AAI'].fillna(test_df['AAI'].median())"
      ]
    },
    {
      "cell_type": "code",
      "execution_count": null,
      "id": "c73845fb-ba78-4281-9a4e-32e9791f0cac",
      "metadata": {
        "id": "c73845fb-ba78-4281-9a4e-32e9791f0cac"
      },
      "outputs": [],
      "source": [
        "#test_df['CloudFraction'] = test_df['CloudFraction'].fillna(test_df['CloudFraction'].median())"
      ]
    },
    {
      "cell_type": "code",
      "execution_count": null,
      "id": "faf68906-decc-41c2-91ca-4d1952b408b7",
      "metadata": {
        "id": "faf68906-decc-41c2-91ca-4d1952b408b7"
      },
      "outputs": [],
      "source": [
        "#test_df['NO2_strat'] = test_df['NO2_strat'].fillna(test_df['NO2_strat'].median())"
      ]
    },
    {
      "cell_type": "code",
      "execution_count": null,
      "id": "4dc8d499-0671-4f7b-a79d-6b590b2710c6",
      "metadata": {
        "id": "4dc8d499-0671-4f7b-a79d-6b590b2710c6"
      },
      "outputs": [],
      "source": [
        "#test_df['NO2_total'] = test_df['NO2_total'].fillna(test_df['NO2_total'].median())"
      ]
    },
    {
      "cell_type": "code",
      "execution_count": null,
      "id": "2475ddd8-2888-4abd-a8fb-442bd40a82e2",
      "metadata": {
        "id": "2475ddd8-2888-4abd-a8fb-442bd40a82e2"
      },
      "outputs": [],
      "source": [
        "#test_df['NO2_trop'] = test_df['NO2_trop'].fillna(test_df['NO2_total']-test_df['NO2_strat'])"
      ]
    },
    {
      "cell_type": "code",
      "execution_count": null,
      "id": "2b105d44-4717-42a0-91ea-aa6f613d5c06",
      "metadata": {
        "id": "2b105d44-4717-42a0-91ea-aa6f613d5c06"
      },
      "outputs": [],
      "source": [
        "#test_df['TropopausePressure'] =  test_df['TropopausePressure'].fillna(test_df['TropopausePressure'].median())"
      ]
    },
    {
      "cell_type": "code",
      "execution_count": 250,
      "id": "_Hmta7PTER81",
      "metadata": {
        "id": "_Hmta7PTER81"
      },
      "outputs": [],
      "source": [
        "new_test = test_df[['LAT', 'LON', 'Precipitation', 'LST', 'AAI',\n",
        "       'CloudFraction', 'NO2_strat', 'NO2_total',\n",
        "       'TropopausePressure', 'Day', 'Month', 'Year']]"
      ]
    },
    {
      "cell_type": "code",
      "execution_count": 251,
      "id": "c1c70592-b895-4e28-b3da-fd41f1deb250",
      "metadata": {
        "id": "c1c70592-b895-4e28-b3da-fd41f1deb250"
      },
      "outputs": [],
      "source": [
        "new_test_trf = knn.fit_transform(new_test)"
      ]
    },
    {
      "cell_type": "code",
      "execution_count": 252,
      "id": "dSoJ61cnELPL",
      "metadata": {
        "id": "dSoJ61cnELPL"
      },
      "outputs": [],
      "source": [
        "new_test_trf = pd.DataFrame(new_test_trf,columns=new_test.columns)"
      ]
    },
    {
      "cell_type": "code",
      "execution_count": 253,
      "id": "eobPga7-G-t0",
      "metadata": {
        "id": "eobPga7-G-t0"
      },
      "outputs": [],
      "source": [
        "new_test_trf['NO2_trop'] = test_df['NO2_trop']"
      ]
    },
    {
      "cell_type": "code",
      "execution_count": 254,
      "id": "w8j9k1aETKgr",
      "metadata": {
        "id": "w8j9k1aETKgr"
      },
      "outputs": [],
      "source": [
        "new_test_trf = new_test_trf[['LAT', 'LON', 'Precipitation', 'LST', 'AAI',\n",
        "       'CloudFraction', 'NO2_strat', 'NO2_total','NO2_trop',\n",
        "       'TropopausePressure', 'Day', 'Month', 'Year']]"
      ]
    },
    {
      "cell_type": "code",
      "execution_count": 255,
      "id": "ex4RlXTxTVps",
      "metadata": {
        "id": "ex4RlXTxTVps"
      },
      "outputs": [],
      "source": [
        "new_test_trf['NO2_trop'] = new_test_trf['NO2_trop'].fillna(new_test_trf['NO2_total']-new_test_trf['NO2_strat'])"
      ]
    },
    {
      "cell_type": "code",
      "execution_count": 139,
      "id": "6ceZhMLgZ-ca",
      "metadata": {
        "id": "6ceZhMLgZ-ca"
      },
      "outputs": [],
      "source": [
        "#new_test_trf['NO2_trop'] = np.where(new_test_trf['NO2_trop'] < 0 , 0, new_test_trf['NO2_trop'])"
      ]
    },
    {
      "cell_type": "code",
      "execution_count": 140,
      "id": "nZq4-WzyaNQ3",
      "metadata": {
        "id": "nZq4-WzyaNQ3"
      },
      "outputs": [],
      "source": [
        "#new_test_trf['NO2_total'] = np.where(new_test_trf['NO2_total'] < 0 , 0, new_test_trf['NO2_total'])"
      ]
    },
    {
      "cell_type": "code",
      "execution_count": 141,
      "id": "7c0c7c45-71f3-49c2-b695-55df962bf304",
      "metadata": {
        "id": "7c0c7c45-71f3-49c2-b695-55df962bf304"
      },
      "outputs": [],
      "source": [
        "#test_df['ID_code'] = le.fit_transform(test_df['ID_code'])"
      ]
    },
    {
      "cell_type": "code",
      "execution_count": 142,
      "id": "_6gCqDMfBfbT",
      "metadata": {
        "id": "_6gCqDMfBfbT"
      },
      "outputs": [],
      "source": [
        "#test_df = test_df.drop('ID_Zindi',axis = 1)"
      ]
    },
    {
      "cell_type": "code",
      "execution_count": 256,
      "id": "940c60b5-c58f-4152-aa74-45bc4a0640ab",
      "metadata": {
        "colab": {
          "base_uri": "https://localhost:8080/"
        },
        "id": "940c60b5-c58f-4152-aa74-45bc4a0640ab",
        "outputId": "03da391f-e630-406f-80c2-78850e965e51"
      },
      "outputs": [
        {
          "output_type": "execute_result",
          "data": {
            "text/plain": [
              "LAT                   0\n",
              "LON                   0\n",
              "Precipitation         0\n",
              "LST                   0\n",
              "AAI                   0\n",
              "CloudFraction         0\n",
              "NO2_strat             0\n",
              "NO2_total             0\n",
              "NO2_trop              0\n",
              "TropopausePressure    0\n",
              "Day                   0\n",
              "Month                 0\n",
              "Year                  0\n",
              "dtype: int64"
            ]
          },
          "metadata": {},
          "execution_count": 256
        }
      ],
      "source": [
        "new_test_trf.isnull().sum()"
      ]
    },
    {
      "cell_type": "code",
      "execution_count": 257,
      "id": "70fb27d7-2955-40a9-b7d8-ef38cfa317b3",
      "metadata": {
        "colab": {
          "base_uri": "https://localhost:8080/"
        },
        "id": "70fb27d7-2955-40a9-b7d8-ef38cfa317b3",
        "outputId": "cc9a5875-883b-4636-8371-51c1ae99cc5c"
      },
      "outputs": [
        {
          "output_type": "execute_result",
          "data": {
            "text/plain": [
              "Index(['ID_Zindi', 'LAT', 'LON', 'Precipitation', 'LST', 'AAI',\n",
              "       'CloudFraction', 'NO2_strat', 'NO2_total', 'NO2_trop',\n",
              "       'TropopausePressure', 'Day', 'Month', 'Year'],\n",
              "      dtype='object')"
            ]
          },
          "metadata": {},
          "execution_count": 257
        }
      ],
      "source": [
        "test_df.columns"
      ]
    },
    {
      "cell_type": "code",
      "execution_count": 258,
      "id": "e4uZvYpdB9GB",
      "metadata": {
        "id": "e4uZvYpdB9GB"
      },
      "outputs": [],
      "source": [
        "cols_to_transform = new_test_trf[['LAT','LON','Precipitation','LST','AAI','CloudFraction','NO2_strat','NO2_total','NO2_trop','TropopausePressure','Day','Month','Year']]"
      ]
    },
    {
      "cell_type": "code",
      "execution_count": 259,
      "id": "inaxz3saBtbC",
      "metadata": {
        "id": "inaxz3saBtbC"
      },
      "outputs": [],
      "source": [
        "scaled_data_test= scaler.fit_transform(new_test_trf[cols_to_transform.columns].values.reshape(-1, len(cols_to_transform.columns)))\n",
        "new_test_trf[cols_to_transform.columns] = scaled_data_test"
      ]
    },
    {
      "cell_type": "code",
      "execution_count": 260,
      "id": "33L3iFiVC5co",
      "metadata": {
        "colab": {
          "base_uri": "https://localhost:8080/",
          "height": 53
        },
        "id": "33L3iFiVC5co",
        "outputId": "ac536243-b817-4629-c4d0-98c74885d027"
      },
      "outputs": [
        {
          "output_type": "execute_result",
          "data": {
            "text/plain": [
              "Empty DataFrame\n",
              "Columns: [LAT, LON, Precipitation, LST, AAI, CloudFraction, NO2_strat, NO2_total, NO2_trop, TropopausePressure, Day, Month, Year]\n",
              "Index: []"
            ],
            "text/html": [
              "\n",
              "  <div id=\"df-0f3d8759-9064-4dbc-9eaa-d0dba48201f6\" class=\"colab-df-container\">\n",
              "    <div>\n",
              "<style scoped>\n",
              "    .dataframe tbody tr th:only-of-type {\n",
              "        vertical-align: middle;\n",
              "    }\n",
              "\n",
              "    .dataframe tbody tr th {\n",
              "        vertical-align: top;\n",
              "    }\n",
              "\n",
              "    .dataframe thead th {\n",
              "        text-align: right;\n",
              "    }\n",
              "</style>\n",
              "<table border=\"1\" class=\"dataframe\">\n",
              "  <thead>\n",
              "    <tr style=\"text-align: right;\">\n",
              "      <th></th>\n",
              "      <th>LAT</th>\n",
              "      <th>LON</th>\n",
              "      <th>Precipitation</th>\n",
              "      <th>LST</th>\n",
              "      <th>AAI</th>\n",
              "      <th>CloudFraction</th>\n",
              "      <th>NO2_strat</th>\n",
              "      <th>NO2_total</th>\n",
              "      <th>NO2_trop</th>\n",
              "      <th>TropopausePressure</th>\n",
              "      <th>Day</th>\n",
              "      <th>Month</th>\n",
              "      <th>Year</th>\n",
              "    </tr>\n",
              "  </thead>\n",
              "  <tbody>\n",
              "  </tbody>\n",
              "</table>\n",
              "</div>\n",
              "    <div class=\"colab-df-buttons\">\n",
              "\n",
              "  <div class=\"colab-df-container\">\n",
              "    <button class=\"colab-df-convert\" onclick=\"convertToInteractive('df-0f3d8759-9064-4dbc-9eaa-d0dba48201f6')\"\n",
              "            title=\"Convert this dataframe to an interactive table.\"\n",
              "            style=\"display:none;\">\n",
              "\n",
              "  <svg xmlns=\"http://www.w3.org/2000/svg\" height=\"24px\" viewBox=\"0 -960 960 960\">\n",
              "    <path d=\"M120-120v-720h720v720H120Zm60-500h600v-160H180v160Zm220 220h160v-160H400v160Zm0 220h160v-160H400v160ZM180-400h160v-160H180v160Zm440 0h160v-160H620v160ZM180-180h160v-160H180v160Zm440 0h160v-160H620v160Z\"/>\n",
              "  </svg>\n",
              "    </button>\n",
              "\n",
              "  <style>\n",
              "    .colab-df-container {\n",
              "      display:flex;\n",
              "      gap: 12px;\n",
              "    }\n",
              "\n",
              "    .colab-df-convert {\n",
              "      background-color: #E8F0FE;\n",
              "      border: none;\n",
              "      border-radius: 50%;\n",
              "      cursor: pointer;\n",
              "      display: none;\n",
              "      fill: #1967D2;\n",
              "      height: 32px;\n",
              "      padding: 0 0 0 0;\n",
              "      width: 32px;\n",
              "    }\n",
              "\n",
              "    .colab-df-convert:hover {\n",
              "      background-color: #E2EBFA;\n",
              "      box-shadow: 0px 1px 2px rgba(60, 64, 67, 0.3), 0px 1px 3px 1px rgba(60, 64, 67, 0.15);\n",
              "      fill: #174EA6;\n",
              "    }\n",
              "\n",
              "    .colab-df-buttons div {\n",
              "      margin-bottom: 4px;\n",
              "    }\n",
              "\n",
              "    [theme=dark] .colab-df-convert {\n",
              "      background-color: #3B4455;\n",
              "      fill: #D2E3FC;\n",
              "    }\n",
              "\n",
              "    [theme=dark] .colab-df-convert:hover {\n",
              "      background-color: #434B5C;\n",
              "      box-shadow: 0px 1px 3px 1px rgba(0, 0, 0, 0.15);\n",
              "      filter: drop-shadow(0px 1px 2px rgba(0, 0, 0, 0.3));\n",
              "      fill: #FFFFFF;\n",
              "    }\n",
              "  </style>\n",
              "\n",
              "    <script>\n",
              "      const buttonEl =\n",
              "        document.querySelector('#df-0f3d8759-9064-4dbc-9eaa-d0dba48201f6 button.colab-df-convert');\n",
              "      buttonEl.style.display =\n",
              "        google.colab.kernel.accessAllowed ? 'block' : 'none';\n",
              "\n",
              "      async function convertToInteractive(key) {\n",
              "        const element = document.querySelector('#df-0f3d8759-9064-4dbc-9eaa-d0dba48201f6');\n",
              "        const dataTable =\n",
              "          await google.colab.kernel.invokeFunction('convertToInteractive',\n",
              "                                                    [key], {});\n",
              "        if (!dataTable) return;\n",
              "\n",
              "        const docLinkHtml = 'Like what you see? Visit the ' +\n",
              "          '<a target=\"_blank\" href=https://colab.research.google.com/notebooks/data_table.ipynb>data table notebook</a>'\n",
              "          + ' to learn more about interactive tables.';\n",
              "        element.innerHTML = '';\n",
              "        dataTable['output_type'] = 'display_data';\n",
              "        await google.colab.output.renderOutput(dataTable, element);\n",
              "        const docLink = document.createElement('div');\n",
              "        docLink.innerHTML = docLinkHtml;\n",
              "        element.appendChild(docLink);\n",
              "      }\n",
              "    </script>\n",
              "  </div>\n",
              "\n",
              "\n",
              "    </div>\n",
              "  </div>\n"
            ],
            "application/vnd.google.colaboratory.intrinsic+json": {
              "type": "dataframe",
              "summary": "{\n  \"name\": \"new_test_trf\",\n  \"rows\": 0,\n  \"fields\": [\n    {\n      \"column\": \"LAT\",\n      \"properties\": {\n        \"dtype\": \"number\",\n        \"std\": null,\n        \"min\": null,\n        \"max\": null,\n        \"num_unique_values\": 0,\n        \"samples\": [],\n        \"semantic_type\": \"\",\n        \"description\": \"\"\n      }\n    },\n    {\n      \"column\": \"LON\",\n      \"properties\": {\n        \"dtype\": \"number\",\n        \"std\": null,\n        \"min\": null,\n        \"max\": null,\n        \"num_unique_values\": 0,\n        \"samples\": [],\n        \"semantic_type\": \"\",\n        \"description\": \"\"\n      }\n    },\n    {\n      \"column\": \"Precipitation\",\n      \"properties\": {\n        \"dtype\": \"number\",\n        \"std\": null,\n        \"min\": null,\n        \"max\": null,\n        \"num_unique_values\": 0,\n        \"samples\": [],\n        \"semantic_type\": \"\",\n        \"description\": \"\"\n      }\n    },\n    {\n      \"column\": \"LST\",\n      \"properties\": {\n        \"dtype\": \"number\",\n        \"std\": null,\n        \"min\": null,\n        \"max\": null,\n        \"num_unique_values\": 0,\n        \"samples\": [],\n        \"semantic_type\": \"\",\n        \"description\": \"\"\n      }\n    },\n    {\n      \"column\": \"AAI\",\n      \"properties\": {\n        \"dtype\": \"number\",\n        \"std\": null,\n        \"min\": null,\n        \"max\": null,\n        \"num_unique_values\": 0,\n        \"samples\": [],\n        \"semantic_type\": \"\",\n        \"description\": \"\"\n      }\n    },\n    {\n      \"column\": \"CloudFraction\",\n      \"properties\": {\n        \"dtype\": \"number\",\n        \"std\": null,\n        \"min\": null,\n        \"max\": null,\n        \"num_unique_values\": 0,\n        \"samples\": [],\n        \"semantic_type\": \"\",\n        \"description\": \"\"\n      }\n    },\n    {\n      \"column\": \"NO2_strat\",\n      \"properties\": {\n        \"dtype\": \"number\",\n        \"std\": null,\n        \"min\": null,\n        \"max\": null,\n        \"num_unique_values\": 0,\n        \"samples\": [],\n        \"semantic_type\": \"\",\n        \"description\": \"\"\n      }\n    },\n    {\n      \"column\": \"NO2_total\",\n      \"properties\": {\n        \"dtype\": \"number\",\n        \"std\": null,\n        \"min\": null,\n        \"max\": null,\n        \"num_unique_values\": 0,\n        \"samples\": [],\n        \"semantic_type\": \"\",\n        \"description\": \"\"\n      }\n    },\n    {\n      \"column\": \"NO2_trop\",\n      \"properties\": {\n        \"dtype\": \"number\",\n        \"std\": null,\n        \"min\": null,\n        \"max\": null,\n        \"num_unique_values\": 0,\n        \"samples\": [],\n        \"semantic_type\": \"\",\n        \"description\": \"\"\n      }\n    },\n    {\n      \"column\": \"TropopausePressure\",\n      \"properties\": {\n        \"dtype\": \"number\",\n        \"std\": null,\n        \"min\": null,\n        \"max\": null,\n        \"num_unique_values\": 0,\n        \"samples\": [],\n        \"semantic_type\": \"\",\n        \"description\": \"\"\n      }\n    },\n    {\n      \"column\": \"Day\",\n      \"properties\": {\n        \"dtype\": \"number\",\n        \"std\": null,\n        \"min\": null,\n        \"max\": null,\n        \"num_unique_values\": 0,\n        \"samples\": [],\n        \"semantic_type\": \"\",\n        \"description\": \"\"\n      }\n    },\n    {\n      \"column\": \"Month\",\n      \"properties\": {\n        \"dtype\": \"number\",\n        \"std\": null,\n        \"min\": null,\n        \"max\": null,\n        \"num_unique_values\": 0,\n        \"samples\": [],\n        \"semantic_type\": \"\",\n        \"description\": \"\"\n      }\n    },\n    {\n      \"column\": \"Year\",\n      \"properties\": {\n        \"dtype\": \"number\",\n        \"std\": null,\n        \"min\": null,\n        \"max\": null,\n        \"num_unique_values\": 0,\n        \"samples\": [],\n        \"semantic_type\": \"\",\n        \"description\": \"\"\n      }\n    }\n  ]\n}"
            }
          },
          "metadata": {},
          "execution_count": 260
        }
      ],
      "source": [
        "new_test_trf.query('TropopausePressure == 3')"
      ]
    },
    {
      "cell_type": "code",
      "execution_count": 261,
      "id": "fe3cfc28-d094-4b9d-b8a4-ab6f3df36dce",
      "metadata": {
        "id": "fe3cfc28-d094-4b9d-b8a4-ab6f3df36dce"
      },
      "outputs": [],
      "source": [
        "values = new_test_trf[['LAT', 'LON', 'Precipitation', 'LST', 'AAI',\n",
        "       'CloudFraction', 'NO2_strat', 'NO2_total', 'NO2_trop',\n",
        "       'TropopausePressure', 'Day', 'Month', 'Year']]"
      ]
    },
    {
      "cell_type": "code",
      "execution_count": 262,
      "id": "01491833-f3d6-4951-849b-1d1b864aaab4",
      "metadata": {
        "id": "01491833-f3d6-4951-849b-1d1b864aaab4"
      },
      "outputs": [],
      "source": [
        "target_pred = optimized_model.predict(values)"
      ]
    },
    {
      "cell_type": "code",
      "execution_count": 263,
      "id": "425016d8-8aee-4b98-ab46-e24d8f2fad8e",
      "metadata": {
        "colab": {
          "base_uri": "https://localhost:8080/"
        },
        "id": "425016d8-8aee-4b98-ab46-e24d8f2fad8e",
        "outputId": "c6c484af-2fed-4d02-b277-a375c02cce13"
      },
      "outputs": [
        {
          "output_type": "execute_result",
          "data": {
            "text/plain": [
              "array([35.68694 , 31.46176 , 32.57197 , ..., 32.418686, 28.299917,\n",
              "       28.18883 ], dtype=float32)"
            ]
          },
          "metadata": {},
          "execution_count": 263
        }
      ],
      "source": [
        "target_pred"
      ]
    },
    {
      "cell_type": "code",
      "execution_count": 263,
      "id": "xdpP56imUhT1",
      "metadata": {
        "id": "xdpP56imUhT1"
      },
      "outputs": [],
      "source": []
    },
    {
      "cell_type": "code",
      "execution_count": 264,
      "id": "f509cde6-ce02-4302-9050-e4f1efa2c7bc",
      "metadata": {
        "id": "f509cde6-ce02-4302-9050-e4f1efa2c7bc"
      },
      "outputs": [],
      "source": [
        "new_test_trf['GT_NO2'] = target_pred"
      ]
    },
    {
      "cell_type": "code",
      "execution_count": 265,
      "id": "NK2yC77OIOPV",
      "metadata": {
        "id": "NK2yC77OIOPV"
      },
      "outputs": [],
      "source": [
        "new_test_trf['ID_Zindi'] = test_df['ID_Zindi']"
      ]
    },
    {
      "cell_type": "code",
      "execution_count": 265,
      "id": "_XuZAhvKVLNB",
      "metadata": {
        "id": "_XuZAhvKVLNB"
      },
      "outputs": [],
      "source": []
    },
    {
      "cell_type": "code",
      "execution_count": 265,
      "id": "p-qQASQ1IbmK",
      "metadata": {
        "id": "p-qQASQ1IbmK"
      },
      "outputs": [],
      "source": []
    },
    {
      "cell_type": "code",
      "execution_count": 266,
      "id": "ee79c57b-52fd-48ae-8fa3-600cf19ad224",
      "metadata": {
        "id": "ee79c57b-52fd-48ae-8fa3-600cf19ad224"
      },
      "outputs": [],
      "source": [
        "submission = new_test_trf.drop(['LAT', 'LON', 'Precipitation', 'LST', 'AAI',\n",
        "       'CloudFraction', 'NO2_strat', 'NO2_total', 'NO2_trop',\n",
        "       'TropopausePressure', 'Day', 'Month', 'Year'],axis='columns')"
      ]
    },
    {
      "cell_type": "code",
      "execution_count": 266,
      "id": "OxOLkbILUTvK",
      "metadata": {
        "id": "OxOLkbILUTvK"
      },
      "outputs": [],
      "source": []
    },
    {
      "cell_type": "code",
      "execution_count": 267,
      "id": "724f04bd-f900-42dd-9e5d-a3eff00e7362",
      "metadata": {
        "id": "724f04bd-f900-42dd-9e5d-a3eff00e7362"
      },
      "outputs": [],
      "source": [
        "submission = submission[['ID_Zindi', 'GT_NO2']]"
      ]
    },
    {
      "cell_type": "code",
      "execution_count": 268,
      "id": "z9nBbf64I8Bh",
      "metadata": {
        "colab": {
          "base_uri": "https://localhost:8080/",
          "height": 423
        },
        "id": "z9nBbf64I8Bh",
        "outputId": "7ffe10e8-6e53-482c-f910-784344739455"
      },
      "outputs": [
        {
          "output_type": "execute_result",
          "data": {
            "text/plain": [
              "       ID_Zindi     GT_NO2\n",
              "0     ID_2MYNQS  35.686939\n",
              "1     ID_P4U5WU  31.461760\n",
              "2     ID_U4KWPK  32.571972\n",
              "3     ID_QGSNTZ  33.428600\n",
              "4     ID_GHSZ6K  31.476683\n",
              "...         ...        ...\n",
              "6571  ID_GUSXU9  31.285496\n",
              "6572  ID_GMVEG1  37.632206\n",
              "6573  ID_GD6HNP  32.418686\n",
              "6574  ID_J7YW1Y  28.299917\n",
              "6575  ID_I4E04N  28.188829\n",
              "\n",
              "[6576 rows x 2 columns]"
            ],
            "text/html": [
              "\n",
              "  <div id=\"df-d83ea6a0-0fda-49c1-82a3-5eaf9b1e8163\" class=\"colab-df-container\">\n",
              "    <div>\n",
              "<style scoped>\n",
              "    .dataframe tbody tr th:only-of-type {\n",
              "        vertical-align: middle;\n",
              "    }\n",
              "\n",
              "    .dataframe tbody tr th {\n",
              "        vertical-align: top;\n",
              "    }\n",
              "\n",
              "    .dataframe thead th {\n",
              "        text-align: right;\n",
              "    }\n",
              "</style>\n",
              "<table border=\"1\" class=\"dataframe\">\n",
              "  <thead>\n",
              "    <tr style=\"text-align: right;\">\n",
              "      <th></th>\n",
              "      <th>ID_Zindi</th>\n",
              "      <th>GT_NO2</th>\n",
              "    </tr>\n",
              "  </thead>\n",
              "  <tbody>\n",
              "    <tr>\n",
              "      <th>0</th>\n",
              "      <td>ID_2MYNQS</td>\n",
              "      <td>35.686939</td>\n",
              "    </tr>\n",
              "    <tr>\n",
              "      <th>1</th>\n",
              "      <td>ID_P4U5WU</td>\n",
              "      <td>31.461760</td>\n",
              "    </tr>\n",
              "    <tr>\n",
              "      <th>2</th>\n",
              "      <td>ID_U4KWPK</td>\n",
              "      <td>32.571972</td>\n",
              "    </tr>\n",
              "    <tr>\n",
              "      <th>3</th>\n",
              "      <td>ID_QGSNTZ</td>\n",
              "      <td>33.428600</td>\n",
              "    </tr>\n",
              "    <tr>\n",
              "      <th>4</th>\n",
              "      <td>ID_GHSZ6K</td>\n",
              "      <td>31.476683</td>\n",
              "    </tr>\n",
              "    <tr>\n",
              "      <th>...</th>\n",
              "      <td>...</td>\n",
              "      <td>...</td>\n",
              "    </tr>\n",
              "    <tr>\n",
              "      <th>6571</th>\n",
              "      <td>ID_GUSXU9</td>\n",
              "      <td>31.285496</td>\n",
              "    </tr>\n",
              "    <tr>\n",
              "      <th>6572</th>\n",
              "      <td>ID_GMVEG1</td>\n",
              "      <td>37.632206</td>\n",
              "    </tr>\n",
              "    <tr>\n",
              "      <th>6573</th>\n",
              "      <td>ID_GD6HNP</td>\n",
              "      <td>32.418686</td>\n",
              "    </tr>\n",
              "    <tr>\n",
              "      <th>6574</th>\n",
              "      <td>ID_J7YW1Y</td>\n",
              "      <td>28.299917</td>\n",
              "    </tr>\n",
              "    <tr>\n",
              "      <th>6575</th>\n",
              "      <td>ID_I4E04N</td>\n",
              "      <td>28.188829</td>\n",
              "    </tr>\n",
              "  </tbody>\n",
              "</table>\n",
              "<p>6576 rows × 2 columns</p>\n",
              "</div>\n",
              "    <div class=\"colab-df-buttons\">\n",
              "\n",
              "  <div class=\"colab-df-container\">\n",
              "    <button class=\"colab-df-convert\" onclick=\"convertToInteractive('df-d83ea6a0-0fda-49c1-82a3-5eaf9b1e8163')\"\n",
              "            title=\"Convert this dataframe to an interactive table.\"\n",
              "            style=\"display:none;\">\n",
              "\n",
              "  <svg xmlns=\"http://www.w3.org/2000/svg\" height=\"24px\" viewBox=\"0 -960 960 960\">\n",
              "    <path d=\"M120-120v-720h720v720H120Zm60-500h600v-160H180v160Zm220 220h160v-160H400v160Zm0 220h160v-160H400v160ZM180-400h160v-160H180v160Zm440 0h160v-160H620v160ZM180-180h160v-160H180v160Zm440 0h160v-160H620v160Z\"/>\n",
              "  </svg>\n",
              "    </button>\n",
              "\n",
              "  <style>\n",
              "    .colab-df-container {\n",
              "      display:flex;\n",
              "      gap: 12px;\n",
              "    }\n",
              "\n",
              "    .colab-df-convert {\n",
              "      background-color: #E8F0FE;\n",
              "      border: none;\n",
              "      border-radius: 50%;\n",
              "      cursor: pointer;\n",
              "      display: none;\n",
              "      fill: #1967D2;\n",
              "      height: 32px;\n",
              "      padding: 0 0 0 0;\n",
              "      width: 32px;\n",
              "    }\n",
              "\n",
              "    .colab-df-convert:hover {\n",
              "      background-color: #E2EBFA;\n",
              "      box-shadow: 0px 1px 2px rgba(60, 64, 67, 0.3), 0px 1px 3px 1px rgba(60, 64, 67, 0.15);\n",
              "      fill: #174EA6;\n",
              "    }\n",
              "\n",
              "    .colab-df-buttons div {\n",
              "      margin-bottom: 4px;\n",
              "    }\n",
              "\n",
              "    [theme=dark] .colab-df-convert {\n",
              "      background-color: #3B4455;\n",
              "      fill: #D2E3FC;\n",
              "    }\n",
              "\n",
              "    [theme=dark] .colab-df-convert:hover {\n",
              "      background-color: #434B5C;\n",
              "      box-shadow: 0px 1px 3px 1px rgba(0, 0, 0, 0.15);\n",
              "      filter: drop-shadow(0px 1px 2px rgba(0, 0, 0, 0.3));\n",
              "      fill: #FFFFFF;\n",
              "    }\n",
              "  </style>\n",
              "\n",
              "    <script>\n",
              "      const buttonEl =\n",
              "        document.querySelector('#df-d83ea6a0-0fda-49c1-82a3-5eaf9b1e8163 button.colab-df-convert');\n",
              "      buttonEl.style.display =\n",
              "        google.colab.kernel.accessAllowed ? 'block' : 'none';\n",
              "\n",
              "      async function convertToInteractive(key) {\n",
              "        const element = document.querySelector('#df-d83ea6a0-0fda-49c1-82a3-5eaf9b1e8163');\n",
              "        const dataTable =\n",
              "          await google.colab.kernel.invokeFunction('convertToInteractive',\n",
              "                                                    [key], {});\n",
              "        if (!dataTable) return;\n",
              "\n",
              "        const docLinkHtml = 'Like what you see? Visit the ' +\n",
              "          '<a target=\"_blank\" href=https://colab.research.google.com/notebooks/data_table.ipynb>data table notebook</a>'\n",
              "          + ' to learn more about interactive tables.';\n",
              "        element.innerHTML = '';\n",
              "        dataTable['output_type'] = 'display_data';\n",
              "        await google.colab.output.renderOutput(dataTable, element);\n",
              "        const docLink = document.createElement('div');\n",
              "        docLink.innerHTML = docLinkHtml;\n",
              "        element.appendChild(docLink);\n",
              "      }\n",
              "    </script>\n",
              "  </div>\n",
              "\n",
              "\n",
              "<div id=\"df-2c52f10a-cf02-48e4-94ea-cd72bd64db88\">\n",
              "  <button class=\"colab-df-quickchart\" onclick=\"quickchart('df-2c52f10a-cf02-48e4-94ea-cd72bd64db88')\"\n",
              "            title=\"Suggest charts\"\n",
              "            style=\"display:none;\">\n",
              "\n",
              "<svg xmlns=\"http://www.w3.org/2000/svg\" height=\"24px\"viewBox=\"0 0 24 24\"\n",
              "     width=\"24px\">\n",
              "    <g>\n",
              "        <path d=\"M19 3H5c-1.1 0-2 .9-2 2v14c0 1.1.9 2 2 2h14c1.1 0 2-.9 2-2V5c0-1.1-.9-2-2-2zM9 17H7v-7h2v7zm4 0h-2V7h2v10zm4 0h-2v-4h2v4z\"/>\n",
              "    </g>\n",
              "</svg>\n",
              "  </button>\n",
              "\n",
              "<style>\n",
              "  .colab-df-quickchart {\n",
              "      --bg-color: #E8F0FE;\n",
              "      --fill-color: #1967D2;\n",
              "      --hover-bg-color: #E2EBFA;\n",
              "      --hover-fill-color: #174EA6;\n",
              "      --disabled-fill-color: #AAA;\n",
              "      --disabled-bg-color: #DDD;\n",
              "  }\n",
              "\n",
              "  [theme=dark] .colab-df-quickchart {\n",
              "      --bg-color: #3B4455;\n",
              "      --fill-color: #D2E3FC;\n",
              "      --hover-bg-color: #434B5C;\n",
              "      --hover-fill-color: #FFFFFF;\n",
              "      --disabled-bg-color: #3B4455;\n",
              "      --disabled-fill-color: #666;\n",
              "  }\n",
              "\n",
              "  .colab-df-quickchart {\n",
              "    background-color: var(--bg-color);\n",
              "    border: none;\n",
              "    border-radius: 50%;\n",
              "    cursor: pointer;\n",
              "    display: none;\n",
              "    fill: var(--fill-color);\n",
              "    height: 32px;\n",
              "    padding: 0;\n",
              "    width: 32px;\n",
              "  }\n",
              "\n",
              "  .colab-df-quickchart:hover {\n",
              "    background-color: var(--hover-bg-color);\n",
              "    box-shadow: 0 1px 2px rgba(60, 64, 67, 0.3), 0 1px 3px 1px rgba(60, 64, 67, 0.15);\n",
              "    fill: var(--button-hover-fill-color);\n",
              "  }\n",
              "\n",
              "  .colab-df-quickchart-complete:disabled,\n",
              "  .colab-df-quickchart-complete:disabled:hover {\n",
              "    background-color: var(--disabled-bg-color);\n",
              "    fill: var(--disabled-fill-color);\n",
              "    box-shadow: none;\n",
              "  }\n",
              "\n",
              "  .colab-df-spinner {\n",
              "    border: 2px solid var(--fill-color);\n",
              "    border-color: transparent;\n",
              "    border-bottom-color: var(--fill-color);\n",
              "    animation:\n",
              "      spin 1s steps(1) infinite;\n",
              "  }\n",
              "\n",
              "  @keyframes spin {\n",
              "    0% {\n",
              "      border-color: transparent;\n",
              "      border-bottom-color: var(--fill-color);\n",
              "      border-left-color: var(--fill-color);\n",
              "    }\n",
              "    20% {\n",
              "      border-color: transparent;\n",
              "      border-left-color: var(--fill-color);\n",
              "      border-top-color: var(--fill-color);\n",
              "    }\n",
              "    30% {\n",
              "      border-color: transparent;\n",
              "      border-left-color: var(--fill-color);\n",
              "      border-top-color: var(--fill-color);\n",
              "      border-right-color: var(--fill-color);\n",
              "    }\n",
              "    40% {\n",
              "      border-color: transparent;\n",
              "      border-right-color: var(--fill-color);\n",
              "      border-top-color: var(--fill-color);\n",
              "    }\n",
              "    60% {\n",
              "      border-color: transparent;\n",
              "      border-right-color: var(--fill-color);\n",
              "    }\n",
              "    80% {\n",
              "      border-color: transparent;\n",
              "      border-right-color: var(--fill-color);\n",
              "      border-bottom-color: var(--fill-color);\n",
              "    }\n",
              "    90% {\n",
              "      border-color: transparent;\n",
              "      border-bottom-color: var(--fill-color);\n",
              "    }\n",
              "  }\n",
              "</style>\n",
              "\n",
              "  <script>\n",
              "    async function quickchart(key) {\n",
              "      const quickchartButtonEl =\n",
              "        document.querySelector('#' + key + ' button');\n",
              "      quickchartButtonEl.disabled = true;  // To prevent multiple clicks.\n",
              "      quickchartButtonEl.classList.add('colab-df-spinner');\n",
              "      try {\n",
              "        const charts = await google.colab.kernel.invokeFunction(\n",
              "            'suggestCharts', [key], {});\n",
              "      } catch (error) {\n",
              "        console.error('Error during call to suggestCharts:', error);\n",
              "      }\n",
              "      quickchartButtonEl.classList.remove('colab-df-spinner');\n",
              "      quickchartButtonEl.classList.add('colab-df-quickchart-complete');\n",
              "    }\n",
              "    (() => {\n",
              "      let quickchartButtonEl =\n",
              "        document.querySelector('#df-2c52f10a-cf02-48e4-94ea-cd72bd64db88 button');\n",
              "      quickchartButtonEl.style.display =\n",
              "        google.colab.kernel.accessAllowed ? 'block' : 'none';\n",
              "    })();\n",
              "  </script>\n",
              "</div>\n",
              "\n",
              "  <div id=\"id_d48d4e9b-4e21-49a3-b438-7a5da9004e31\">\n",
              "    <style>\n",
              "      .colab-df-generate {\n",
              "        background-color: #E8F0FE;\n",
              "        border: none;\n",
              "        border-radius: 50%;\n",
              "        cursor: pointer;\n",
              "        display: none;\n",
              "        fill: #1967D2;\n",
              "        height: 32px;\n",
              "        padding: 0 0 0 0;\n",
              "        width: 32px;\n",
              "      }\n",
              "\n",
              "      .colab-df-generate:hover {\n",
              "        background-color: #E2EBFA;\n",
              "        box-shadow: 0px 1px 2px rgba(60, 64, 67, 0.3), 0px 1px 3px 1px rgba(60, 64, 67, 0.15);\n",
              "        fill: #174EA6;\n",
              "      }\n",
              "\n",
              "      [theme=dark] .colab-df-generate {\n",
              "        background-color: #3B4455;\n",
              "        fill: #D2E3FC;\n",
              "      }\n",
              "\n",
              "      [theme=dark] .colab-df-generate:hover {\n",
              "        background-color: #434B5C;\n",
              "        box-shadow: 0px 1px 3px 1px rgba(0, 0, 0, 0.15);\n",
              "        filter: drop-shadow(0px 1px 2px rgba(0, 0, 0, 0.3));\n",
              "        fill: #FFFFFF;\n",
              "      }\n",
              "    </style>\n",
              "    <button class=\"colab-df-generate\" onclick=\"generateWithVariable('submission')\"\n",
              "            title=\"Generate code using this dataframe.\"\n",
              "            style=\"display:none;\">\n",
              "\n",
              "  <svg xmlns=\"http://www.w3.org/2000/svg\" height=\"24px\"viewBox=\"0 0 24 24\"\n",
              "       width=\"24px\">\n",
              "    <path d=\"M7,19H8.4L18.45,9,17,7.55,7,17.6ZM5,21V16.75L18.45,3.32a2,2,0,0,1,2.83,0l1.4,1.43a1.91,1.91,0,0,1,.58,1.4,1.91,1.91,0,0,1-.58,1.4L9.25,21ZM18.45,9,17,7.55Zm-12,3A5.31,5.31,0,0,0,4.9,8.1,5.31,5.31,0,0,0,1,6.5,5.31,5.31,0,0,0,4.9,4.9,5.31,5.31,0,0,0,6.5,1,5.31,5.31,0,0,0,8.1,4.9,5.31,5.31,0,0,0,12,6.5,5.46,5.46,0,0,0,6.5,12Z\"/>\n",
              "  </svg>\n",
              "    </button>\n",
              "    <script>\n",
              "      (() => {\n",
              "      const buttonEl =\n",
              "        document.querySelector('#id_d48d4e9b-4e21-49a3-b438-7a5da9004e31 button.colab-df-generate');\n",
              "      buttonEl.style.display =\n",
              "        google.colab.kernel.accessAllowed ? 'block' : 'none';\n",
              "\n",
              "      buttonEl.onclick = () => {\n",
              "        google.colab.notebook.generateWithVariable('submission');\n",
              "      }\n",
              "      })();\n",
              "    </script>\n",
              "  </div>\n",
              "\n",
              "    </div>\n",
              "  </div>\n"
            ],
            "application/vnd.google.colaboratory.intrinsic+json": {
              "type": "dataframe",
              "variable_name": "submission",
              "summary": "{\n  \"name\": \"submission\",\n  \"rows\": 6576,\n  \"fields\": [\n    {\n      \"column\": \"ID_Zindi\",\n      \"properties\": {\n        \"dtype\": \"string\",\n        \"num_unique_values\": 6576,\n        \"samples\": [\n          \"ID_M30885\",\n          \"ID_XS6ML8\",\n          \"ID_1RGX07\"\n        ],\n        \"semantic_type\": \"\",\n        \"description\": \"\"\n      }\n    },\n    {\n      \"column\": \"GT_NO2\",\n      \"properties\": {\n        \"dtype\": \"float32\",\n        \"num_unique_values\": 6574,\n        \"samples\": [\n          22.231525421142578,\n          24.8607234954834,\n          12.269120216369629\n        ],\n        \"semantic_type\": \"\",\n        \"description\": \"\"\n      }\n    }\n  ]\n}"
            }
          },
          "metadata": {},
          "execution_count": 268
        }
      ],
      "source": [
        "submission"
      ]
    },
    {
      "cell_type": "code",
      "execution_count": 269,
      "id": "kHssBTWiJBQZ",
      "metadata": {
        "colab": {
          "base_uri": "https://localhost:8080/"
        },
        "id": "kHssBTWiJBQZ",
        "outputId": "02797ace-27ed-475b-f052-2571b8465849"
      },
      "outputs": [
        {
          "output_type": "execute_result",
          "data": {
            "text/plain": [
              "(6576, 2)"
            ]
          },
          "metadata": {},
          "execution_count": 269
        }
      ],
      "source": [
        "submission.shape"
      ]
    },
    {
      "cell_type": "code",
      "execution_count": 270,
      "id": "6f233286-17a1-4c1a-b3d5-c8f21e5bf7f7",
      "metadata": {
        "id": "6f233286-17a1-4c1a-b3d5-c8f21e5bf7f7"
      },
      "outputs": [],
      "source": [
        "submission.to_csv(\"final_submission_13.csv\",index=False)"
      ]
    },
    {
      "cell_type": "code",
      "execution_count": null,
      "id": "db027933-61ce-44cc-9f91-0f5e8e291b77",
      "metadata": {
        "id": "db027933-61ce-44cc-9f91-0f5e8e291b77"
      },
      "outputs": [],
      "source": []
    },
    {
      "cell_type": "code",
      "execution_count": null,
      "id": "452aa645-cc66-4ec0-80ed-2186e7f04a25",
      "metadata": {
        "id": "452aa645-cc66-4ec0-80ed-2186e7f04a25"
      },
      "outputs": [],
      "source": []
    },
    {
      "cell_type": "code",
      "execution_count": null,
      "id": "c08fdf3f-33e4-461a-aee3-f2f67ff3848f",
      "metadata": {
        "id": "c08fdf3f-33e4-461a-aee3-f2f67ff3848f"
      },
      "outputs": [],
      "source": []
    },
    {
      "cell_type": "code",
      "execution_count": null,
      "id": "98cc4570-3b0b-4cdd-bede-dbb71c3f44b6",
      "metadata": {
        "id": "98cc4570-3b0b-4cdd-bede-dbb71c3f44b6"
      },
      "outputs": [],
      "source": []
    },
    {
      "cell_type": "code",
      "execution_count": null,
      "id": "e8ea85b4-02a7-4e52-94e8-07453ef51450",
      "metadata": {
        "id": "e8ea85b4-02a7-4e52-94e8-07453ef51450"
      },
      "outputs": [],
      "source": []
    },
    {
      "cell_type": "code",
      "execution_count": null,
      "id": "5360cb68-6304-4055-8c36-76e270056522",
      "metadata": {
        "id": "5360cb68-6304-4055-8c36-76e270056522"
      },
      "outputs": [],
      "source": []
    },
    {
      "cell_type": "code",
      "execution_count": null,
      "id": "ffc2e950-0f90-4566-b906-24a544428cd7",
      "metadata": {
        "id": "ffc2e950-0f90-4566-b906-24a544428cd7"
      },
      "outputs": [],
      "source": []
    },
    {
      "cell_type": "code",
      "execution_count": null,
      "id": "4d732fea-62ca-4c4a-81d6-14daefe0c90c",
      "metadata": {
        "id": "4d732fea-62ca-4c4a-81d6-14daefe0c90c"
      },
      "outputs": [],
      "source": []
    },
    {
      "cell_type": "code",
      "execution_count": null,
      "id": "9eae6e5e-172a-4789-86e9-d6158fd2d683",
      "metadata": {
        "id": "9eae6e5e-172a-4789-86e9-d6158fd2d683"
      },
      "outputs": [],
      "source": []
    },
    {
      "cell_type": "code",
      "execution_count": null,
      "id": "c0bb8389-094c-4632-a66d-f1b3486090b7",
      "metadata": {
        "id": "c0bb8389-094c-4632-a66d-f1b3486090b7"
      },
      "outputs": [],
      "source": []
    },
    {
      "cell_type": "code",
      "execution_count": null,
      "id": "866faa7f-2e0f-4a49-8f6c-9a5cefa3abf0",
      "metadata": {
        "id": "866faa7f-2e0f-4a49-8f6c-9a5cefa3abf0"
      },
      "outputs": [],
      "source": []
    },
    {
      "cell_type": "code",
      "execution_count": null,
      "id": "c6ba8945-8fe6-4f45-ac7b-94c41262b5c3",
      "metadata": {
        "id": "c6ba8945-8fe6-4f45-ac7b-94c41262b5c3"
      },
      "outputs": [],
      "source": []
    },
    {
      "cell_type": "code",
      "execution_count": null,
      "id": "994bb99b-7633-4cf5-b438-415d9c2ab1b4",
      "metadata": {
        "id": "994bb99b-7633-4cf5-b438-415d9c2ab1b4"
      },
      "outputs": [],
      "source": []
    },
    {
      "cell_type": "code",
      "execution_count": null,
      "id": "81f03efd-9308-4da7-905e-d9974ebcd4f0",
      "metadata": {
        "id": "81f03efd-9308-4da7-905e-d9974ebcd4f0"
      },
      "outputs": [],
      "source": []
    },
    {
      "cell_type": "code",
      "execution_count": null,
      "id": "ac23b8ae-3e69-4067-b95a-8a967b28cf2c",
      "metadata": {
        "id": "ac23b8ae-3e69-4067-b95a-8a967b28cf2c"
      },
      "outputs": [],
      "source": []
    },
    {
      "cell_type": "code",
      "execution_count": null,
      "id": "cc449e44-30b1-4f17-83d5-cce50a2e9dcb",
      "metadata": {
        "id": "cc449e44-30b1-4f17-83d5-cce50a2e9dcb"
      },
      "outputs": [],
      "source": []
    },
    {
      "cell_type": "code",
      "execution_count": null,
      "id": "b7d26bad-0a55-4386-a00c-f6eae80d241e",
      "metadata": {
        "id": "b7d26bad-0a55-4386-a00c-f6eae80d241e"
      },
      "outputs": [],
      "source": []
    },
    {
      "cell_type": "code",
      "execution_count": null,
      "id": "b4d9911e-c20f-487f-a401-c1771359d7ab",
      "metadata": {
        "id": "b4d9911e-c20f-487f-a401-c1771359d7ab"
      },
      "outputs": [],
      "source": []
    },
    {
      "cell_type": "code",
      "execution_count": null,
      "id": "7bfb5602-e278-4c5c-a693-4f933c04b882",
      "metadata": {
        "id": "7bfb5602-e278-4c5c-a693-4f933c04b882"
      },
      "outputs": [],
      "source": []
    },
    {
      "cell_type": "code",
      "execution_count": null,
      "id": "c0ff110f-8765-4289-b2e2-ea7b16e85496",
      "metadata": {
        "id": "c0ff110f-8765-4289-b2e2-ea7b16e85496"
      },
      "outputs": [],
      "source": []
    },
    {
      "cell_type": "code",
      "execution_count": null,
      "id": "4e51e521-2b09-43b7-b4f5-7347fcf71c64",
      "metadata": {
        "id": "4e51e521-2b09-43b7-b4f5-7347fcf71c64"
      },
      "outputs": [],
      "source": []
    },
    {
      "cell_type": "code",
      "execution_count": null,
      "id": "7d1ab855-b695-4d0a-af25-869b93e31f4e",
      "metadata": {
        "id": "7d1ab855-b695-4d0a-af25-869b93e31f4e"
      },
      "outputs": [],
      "source": []
    },
    {
      "cell_type": "code",
      "execution_count": null,
      "id": "85bd2de0-72f6-49f1-98fa-c23372ce6142",
      "metadata": {
        "id": "85bd2de0-72f6-49f1-98fa-c23372ce6142"
      },
      "outputs": [],
      "source": []
    },
    {
      "cell_type": "code",
      "execution_count": null,
      "id": "98d92053-b8e1-403d-86e3-7df344456ba8",
      "metadata": {
        "id": "98d92053-b8e1-403d-86e3-7df344456ba8"
      },
      "outputs": [],
      "source": []
    },
    {
      "cell_type": "code",
      "execution_count": null,
      "id": "3c90f746-9e00-4edd-8002-ccd5a65d7f9d",
      "metadata": {
        "id": "3c90f746-9e00-4edd-8002-ccd5a65d7f9d"
      },
      "outputs": [],
      "source": []
    },
    {
      "cell_type": "code",
      "execution_count": null,
      "id": "e8b32a53-3820-4b1c-aeeb-4449d582d4c6",
      "metadata": {
        "id": "e8b32a53-3820-4b1c-aeeb-4449d582d4c6"
      },
      "outputs": [],
      "source": []
    },
    {
      "cell_type": "code",
      "execution_count": null,
      "id": "a7f6254d-e73e-4cdf-9d38-eba132d8a89b",
      "metadata": {
        "id": "a7f6254d-e73e-4cdf-9d38-eba132d8a89b"
      },
      "outputs": [],
      "source": []
    },
    {
      "cell_type": "code",
      "execution_count": null,
      "id": "5697c4c0-c6d0-4676-9266-26956ccaac93",
      "metadata": {
        "id": "5697c4c0-c6d0-4676-9266-26956ccaac93"
      },
      "outputs": [],
      "source": []
    },
    {
      "cell_type": "code",
      "execution_count": null,
      "id": "4a1688c5-5572-43ca-8ab4-4cf7e4e3977f",
      "metadata": {
        "id": "4a1688c5-5572-43ca-8ab4-4cf7e4e3977f"
      },
      "outputs": [],
      "source": []
    },
    {
      "cell_type": "code",
      "execution_count": null,
      "id": "31494cd3-df75-448b-9a04-2904896ce5cd",
      "metadata": {
        "id": "31494cd3-df75-448b-9a04-2904896ce5cd"
      },
      "outputs": [],
      "source": []
    },
    {
      "cell_type": "code",
      "execution_count": null,
      "id": "8f0dc2da-37bd-4859-bff6-14cc4d5f6bfd",
      "metadata": {
        "id": "8f0dc2da-37bd-4859-bff6-14cc4d5f6bfd"
      },
      "outputs": [],
      "source": []
    },
    {
      "cell_type": "code",
      "execution_count": null,
      "id": "45f2ea21-9a81-41c8-8c25-a0c8c295fde0",
      "metadata": {
        "id": "45f2ea21-9a81-41c8-8c25-a0c8c295fde0"
      },
      "outputs": [],
      "source": []
    },
    {
      "cell_type": "code",
      "execution_count": null,
      "id": "e9dc0bd2-6cab-4911-a720-ad7f88a5023f",
      "metadata": {
        "id": "e9dc0bd2-6cab-4911-a720-ad7f88a5023f"
      },
      "outputs": [],
      "source": []
    },
    {
      "cell_type": "code",
      "execution_count": null,
      "id": "98e608d5-d8fe-4442-ac52-532a60309606",
      "metadata": {
        "id": "98e608d5-d8fe-4442-ac52-532a60309606"
      },
      "outputs": [],
      "source": []
    },
    {
      "cell_type": "code",
      "execution_count": null,
      "id": "7c83b416-96d0-4ea1-ab8a-51234025485f",
      "metadata": {
        "id": "7c83b416-96d0-4ea1-ab8a-51234025485f"
      },
      "outputs": [],
      "source": []
    },
    {
      "cell_type": "code",
      "execution_count": null,
      "id": "1fa5eabf-a449-45e1-9e4c-b4774f868e39",
      "metadata": {
        "id": "1fa5eabf-a449-45e1-9e4c-b4774f868e39"
      },
      "outputs": [],
      "source": []
    },
    {
      "cell_type": "code",
      "execution_count": null,
      "id": "fb72919b-a7c4-4ff0-a6e4-95197410af9e",
      "metadata": {
        "id": "fb72919b-a7c4-4ff0-a6e4-95197410af9e"
      },
      "outputs": [],
      "source": []
    },
    {
      "cell_type": "code",
      "execution_count": null,
      "id": "f1681ec7-e225-4f62-a1e7-b4a2822c8859",
      "metadata": {
        "id": "f1681ec7-e225-4f62-a1e7-b4a2822c8859"
      },
      "outputs": [],
      "source": []
    },
    {
      "cell_type": "code",
      "execution_count": null,
      "id": "343bab01-638e-41a7-b430-b38c5ccaae8d",
      "metadata": {
        "id": "343bab01-638e-41a7-b430-b38c5ccaae8d"
      },
      "outputs": [],
      "source": []
    },
    {
      "cell_type": "code",
      "execution_count": null,
      "id": "66a7716b-1cc1-4704-a8d8-51043e34c97e",
      "metadata": {
        "id": "66a7716b-1cc1-4704-a8d8-51043e34c97e"
      },
      "outputs": [],
      "source": []
    },
    {
      "cell_type": "code",
      "execution_count": null,
      "id": "b3dc9141-1bbb-45a9-89a5-f325505978cb",
      "metadata": {
        "id": "b3dc9141-1bbb-45a9-89a5-f325505978cb"
      },
      "outputs": [],
      "source": []
    },
    {
      "cell_type": "code",
      "execution_count": null,
      "id": "1c28f955-d656-466e-8883-5a975f6bc989",
      "metadata": {
        "id": "1c28f955-d656-466e-8883-5a975f6bc989"
      },
      "outputs": [],
      "source": []
    },
    {
      "cell_type": "code",
      "execution_count": null,
      "id": "89818d95-b17f-4c8c-9ade-e4d1a3a887e5",
      "metadata": {
        "id": "89818d95-b17f-4c8c-9ade-e4d1a3a887e5"
      },
      "outputs": [],
      "source": []
    },
    {
      "cell_type": "code",
      "execution_count": null,
      "id": "5e11023c-6bd1-47d5-ac42-0a1500a0cc8d",
      "metadata": {
        "id": "5e11023c-6bd1-47d5-ac42-0a1500a0cc8d"
      },
      "outputs": [],
      "source": []
    },
    {
      "cell_type": "code",
      "execution_count": null,
      "id": "4b41fa37-ae67-4209-b398-ae9bbafc9dfc",
      "metadata": {
        "id": "4b41fa37-ae67-4209-b398-ae9bbafc9dfc"
      },
      "outputs": [],
      "source": []
    },
    {
      "cell_type": "code",
      "execution_count": null,
      "id": "b54fa200-d59a-4c45-bae9-6cdbe34f4d5c",
      "metadata": {
        "id": "b54fa200-d59a-4c45-bae9-6cdbe34f4d5c"
      },
      "outputs": [],
      "source": []
    },
    {
      "cell_type": "code",
      "execution_count": null,
      "id": "2153d5c4-25f8-4d6f-8702-80d7a02b9b5f",
      "metadata": {
        "id": "2153d5c4-25f8-4d6f-8702-80d7a02b9b5f"
      },
      "outputs": [],
      "source": []
    },
    {
      "cell_type": "code",
      "execution_count": null,
      "id": "ebfc9ba3-c4c3-416b-858c-99274f9aa9b0",
      "metadata": {
        "id": "ebfc9ba3-c4c3-416b-858c-99274f9aa9b0"
      },
      "outputs": [],
      "source": []
    },
    {
      "cell_type": "code",
      "execution_count": null,
      "id": "dfe013d1-3df7-4c89-a5a5-42fe705b321f",
      "metadata": {
        "id": "dfe013d1-3df7-4c89-a5a5-42fe705b321f"
      },
      "outputs": [],
      "source": []
    },
    {
      "cell_type": "code",
      "execution_count": null,
      "id": "6b7e4707-2a96-4268-87cb-9e44ed80249c",
      "metadata": {
        "id": "6b7e4707-2a96-4268-87cb-9e44ed80249c"
      },
      "outputs": [],
      "source": []
    },
    {
      "cell_type": "code",
      "execution_count": null,
      "id": "b658715b-30bf-4fdf-88bc-af6fbe2a3d7a",
      "metadata": {
        "id": "b658715b-30bf-4fdf-88bc-af6fbe2a3d7a"
      },
      "outputs": [],
      "source": []
    },
    {
      "cell_type": "code",
      "execution_count": null,
      "id": "c5c2eb4c-9503-4e6c-a61b-d2fb3eaafc5d",
      "metadata": {
        "id": "c5c2eb4c-9503-4e6c-a61b-d2fb3eaafc5d"
      },
      "outputs": [],
      "source": []
    },
    {
      "cell_type": "code",
      "execution_count": null,
      "id": "ac8b923b-6116-41a6-953b-4abf9b5a5455",
      "metadata": {
        "id": "ac8b923b-6116-41a6-953b-4abf9b5a5455"
      },
      "outputs": [],
      "source": []
    },
    {
      "cell_type": "code",
      "execution_count": null,
      "id": "caf13c5e-6d00-4758-be26-c14a869e3105",
      "metadata": {
        "id": "caf13c5e-6d00-4758-be26-c14a869e3105"
      },
      "outputs": [],
      "source": []
    },
    {
      "cell_type": "code",
      "execution_count": null,
      "id": "6127c401-59bc-4aa4-8e2a-8e93a00a4c01",
      "metadata": {
        "id": "6127c401-59bc-4aa4-8e2a-8e93a00a4c01"
      },
      "outputs": [],
      "source": []
    },
    {
      "cell_type": "code",
      "execution_count": null,
      "id": "831bad30-a192-461d-b8fa-589fa024d608",
      "metadata": {
        "id": "831bad30-a192-461d-b8fa-589fa024d608"
      },
      "outputs": [],
      "source": []
    },
    {
      "cell_type": "code",
      "execution_count": null,
      "id": "be6b173c-5568-44bd-96e4-a3379988cff4",
      "metadata": {
        "id": "be6b173c-5568-44bd-96e4-a3379988cff4"
      },
      "outputs": [],
      "source": []
    },
    {
      "cell_type": "code",
      "execution_count": null,
      "id": "5ddc1850-06b7-47f3-ba3a-93ad25efd031",
      "metadata": {
        "id": "5ddc1850-06b7-47f3-ba3a-93ad25efd031"
      },
      "outputs": [],
      "source": []
    }
  ],
  "metadata": {
    "colab": {
      "provenance": []
    },
    "kernelspec": {
      "display_name": "Python 3 (ipykernel)",
      "language": "python",
      "name": "python3"
    },
    "language_info": {
      "codemirror_mode": {
        "name": "ipython",
        "version": 3
      },
      "file_extension": ".py",
      "mimetype": "text/x-python",
      "name": "python",
      "nbconvert_exporter": "python",
      "pygments_lexer": "ipython3",
      "version": "3.12.4"
    }
  },
  "nbformat": 4,
  "nbformat_minor": 5
}